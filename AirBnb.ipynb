{
 "cells": [
  {
   "cell_type": "markdown",
   "id": "e0738196",
   "metadata": {},
   "source": [
    "# AirBnb"
   ]
  },
  {
   "cell_type": "markdown",
   "id": "82e77eaf",
   "metadata": {},
   "source": [
    "## New York City Airbnb Data Cleaning\n",
    "\n",
    "Airbnb, Inc is an American company that operates an online marketplace for lodging, primarily homestays for vacation rentals, and tourism activities. Based in San Francisco, California, the platform is accessible via website and mobile app. Airbnb does not own any of the listed properties; instead, it profits by receiving commission from each booking. The company was founded in 2008. Airbnb is a shortened version of its original name, AirBedandBreakfast.com.\n",
    "\n",
    "## About Dataset\n",
    "\n",
    "**Context**\n",
    "\n",
    "Since 2008, guests and hosts have used Airbnb to travel in a more unique, personalized way. As part of the Airbnb Inside initiative, this dataset describes the listing activity of homestays in New York City\n",
    "\n",
    "**Content**\n",
    "\n",
    "The following Airbnb activity is included in this New York dataset:\n",
    "\n",
    "Listings, including full descriptions and average review score Reviews, including unique id for each reviewer and detailed comments Calendar, including listing id and the price and availability for that day\n",
    "\n",
    "**Data Dictionary**\n",
    "\n",
    "Data dictionaries are used to provide detailed information about the contents of a dataset or database, such as the names of measured variables, their data types or formats, and text descriptions. A data dictionary provides a concise guide to understanding and using the data.\n",
    "https://docs.google.com/spreadsheets/d/1b_dvmyhb_kAJhUmv81rAxl4KcXn0Pymz"
   ]
  },
  {
   "cell_type": "markdown",
   "id": "262117c9",
   "metadata": {},
   "source": [
    "## Imports, Reading In Data, Preliminary Cleaning"
   ]
  },
  {
   "cell_type": "code",
   "execution_count": 1,
   "id": "34600995",
   "metadata": {},
   "outputs": [],
   "source": [
    "# Standard Imports\n",
    "import pandas as pd\n",
    "import numpy as np\n",
    "import matplotlib.pyplot as plt\n",
    "import seaborn as sns"
   ]
  },
  {
   "cell_type": "code",
   "execution_count": 2,
   "id": "83205638",
   "metadata": {},
   "outputs": [
    {
     "name": "stdout",
     "output_type": "stream",
     "text": [
      "(102599, 26)\n"
     ]
    },
    {
     "name": "stderr",
     "output_type": "stream",
     "text": [
      "/var/folders/pj/j8qg9t055bx9yt_m61ngrhyh0000gn/T/ipykernel_12433/121379091.py:2: DtypeWarning: Columns (25) have mixed types. Specify dtype option on import or set low_memory=False.\n",
      "  df = pd.read_csv('Data/Airbnb_Open_Data.csv')\n"
     ]
    },
    {
     "data": {
      "text/html": [
       "<div>\n",
       "<style scoped>\n",
       "    .dataframe tbody tr th:only-of-type {\n",
       "        vertical-align: middle;\n",
       "    }\n",
       "\n",
       "    .dataframe tbody tr th {\n",
       "        vertical-align: top;\n",
       "    }\n",
       "\n",
       "    .dataframe thead th {\n",
       "        text-align: right;\n",
       "    }\n",
       "</style>\n",
       "<table border=\"1\" class=\"dataframe\">\n",
       "  <thead>\n",
       "    <tr style=\"text-align: right;\">\n",
       "      <th></th>\n",
       "      <th>id</th>\n",
       "      <th>NAME</th>\n",
       "      <th>host id</th>\n",
       "      <th>host_identity_verified</th>\n",
       "      <th>host name</th>\n",
       "      <th>neighbourhood group</th>\n",
       "      <th>neighbourhood</th>\n",
       "      <th>lat</th>\n",
       "      <th>long</th>\n",
       "      <th>country</th>\n",
       "      <th>...</th>\n",
       "      <th>service fee</th>\n",
       "      <th>minimum nights</th>\n",
       "      <th>number of reviews</th>\n",
       "      <th>last review</th>\n",
       "      <th>reviews per month</th>\n",
       "      <th>review rate number</th>\n",
       "      <th>calculated host listings count</th>\n",
       "      <th>availability 365</th>\n",
       "      <th>house_rules</th>\n",
       "      <th>license</th>\n",
       "    </tr>\n",
       "  </thead>\n",
       "  <tbody>\n",
       "    <tr>\n",
       "      <th>0</th>\n",
       "      <td>1001254</td>\n",
       "      <td>Clean &amp; quiet apt home by the park</td>\n",
       "      <td>80014485718</td>\n",
       "      <td>unconfirmed</td>\n",
       "      <td>Madaline</td>\n",
       "      <td>Brooklyn</td>\n",
       "      <td>Kensington</td>\n",
       "      <td>40.64749</td>\n",
       "      <td>-73.97237</td>\n",
       "      <td>United States</td>\n",
       "      <td>...</td>\n",
       "      <td>$193</td>\n",
       "      <td>10.0</td>\n",
       "      <td>9.0</td>\n",
       "      <td>10/19/2021</td>\n",
       "      <td>0.21</td>\n",
       "      <td>4.0</td>\n",
       "      <td>6.0</td>\n",
       "      <td>286.0</td>\n",
       "      <td>Clean up and treat the home the way you'd like...</td>\n",
       "      <td>NaN</td>\n",
       "    </tr>\n",
       "    <tr>\n",
       "      <th>1</th>\n",
       "      <td>1002102</td>\n",
       "      <td>Skylit Midtown Castle</td>\n",
       "      <td>52335172823</td>\n",
       "      <td>verified</td>\n",
       "      <td>Jenna</td>\n",
       "      <td>Manhattan</td>\n",
       "      <td>Midtown</td>\n",
       "      <td>40.75362</td>\n",
       "      <td>-73.98377</td>\n",
       "      <td>United States</td>\n",
       "      <td>...</td>\n",
       "      <td>$28</td>\n",
       "      <td>30.0</td>\n",
       "      <td>45.0</td>\n",
       "      <td>5/21/2022</td>\n",
       "      <td>0.38</td>\n",
       "      <td>4.0</td>\n",
       "      <td>2.0</td>\n",
       "      <td>228.0</td>\n",
       "      <td>Pet friendly but please confirm with me if the...</td>\n",
       "      <td>NaN</td>\n",
       "    </tr>\n",
       "    <tr>\n",
       "      <th>2</th>\n",
       "      <td>1002403</td>\n",
       "      <td>THE VILLAGE OF HARLEM....NEW YORK !</td>\n",
       "      <td>78829239556</td>\n",
       "      <td>NaN</td>\n",
       "      <td>Elise</td>\n",
       "      <td>Manhattan</td>\n",
       "      <td>Harlem</td>\n",
       "      <td>40.80902</td>\n",
       "      <td>-73.94190</td>\n",
       "      <td>United States</td>\n",
       "      <td>...</td>\n",
       "      <td>$124</td>\n",
       "      <td>3.0</td>\n",
       "      <td>0.0</td>\n",
       "      <td>NaN</td>\n",
       "      <td>NaN</td>\n",
       "      <td>5.0</td>\n",
       "      <td>1.0</td>\n",
       "      <td>352.0</td>\n",
       "      <td>I encourage you to use my kitchen, cooking and...</td>\n",
       "      <td>NaN</td>\n",
       "    </tr>\n",
       "    <tr>\n",
       "      <th>3</th>\n",
       "      <td>1002755</td>\n",
       "      <td>NaN</td>\n",
       "      <td>85098326012</td>\n",
       "      <td>unconfirmed</td>\n",
       "      <td>Garry</td>\n",
       "      <td>Brooklyn</td>\n",
       "      <td>Clinton Hill</td>\n",
       "      <td>40.68514</td>\n",
       "      <td>-73.95976</td>\n",
       "      <td>United States</td>\n",
       "      <td>...</td>\n",
       "      <td>$74</td>\n",
       "      <td>30.0</td>\n",
       "      <td>270.0</td>\n",
       "      <td>7/5/2019</td>\n",
       "      <td>4.64</td>\n",
       "      <td>4.0</td>\n",
       "      <td>1.0</td>\n",
       "      <td>322.0</td>\n",
       "      <td>NaN</td>\n",
       "      <td>NaN</td>\n",
       "    </tr>\n",
       "    <tr>\n",
       "      <th>4</th>\n",
       "      <td>1003689</td>\n",
       "      <td>Entire Apt: Spacious Studio/Loft by central park</td>\n",
       "      <td>92037596077</td>\n",
       "      <td>verified</td>\n",
       "      <td>Lyndon</td>\n",
       "      <td>Manhattan</td>\n",
       "      <td>East Harlem</td>\n",
       "      <td>40.79851</td>\n",
       "      <td>-73.94399</td>\n",
       "      <td>United States</td>\n",
       "      <td>...</td>\n",
       "      <td>$41</td>\n",
       "      <td>10.0</td>\n",
       "      <td>9.0</td>\n",
       "      <td>11/19/2018</td>\n",
       "      <td>0.10</td>\n",
       "      <td>3.0</td>\n",
       "      <td>1.0</td>\n",
       "      <td>289.0</td>\n",
       "      <td>Please no smoking in the house, porch or on th...</td>\n",
       "      <td>NaN</td>\n",
       "    </tr>\n",
       "  </tbody>\n",
       "</table>\n",
       "<p>5 rows × 26 columns</p>\n",
       "</div>"
      ],
      "text/plain": [
       "        id                                              NAME      host id  \\\n",
       "0  1001254                Clean & quiet apt home by the park  80014485718   \n",
       "1  1002102                             Skylit Midtown Castle  52335172823   \n",
       "2  1002403               THE VILLAGE OF HARLEM....NEW YORK !  78829239556   \n",
       "3  1002755                                               NaN  85098326012   \n",
       "4  1003689  Entire Apt: Spacious Studio/Loft by central park  92037596077   \n",
       "\n",
       "  host_identity_verified host name neighbourhood group neighbourhood  \\\n",
       "0            unconfirmed  Madaline            Brooklyn    Kensington   \n",
       "1               verified     Jenna           Manhattan       Midtown   \n",
       "2                    NaN     Elise           Manhattan        Harlem   \n",
       "3            unconfirmed     Garry            Brooklyn  Clinton Hill   \n",
       "4               verified    Lyndon           Manhattan   East Harlem   \n",
       "\n",
       "        lat      long        country  ... service fee minimum nights  \\\n",
       "0  40.64749 -73.97237  United States  ...       $193            10.0   \n",
       "1  40.75362 -73.98377  United States  ...        $28            30.0   \n",
       "2  40.80902 -73.94190  United States  ...       $124             3.0   \n",
       "3  40.68514 -73.95976  United States  ...        $74            30.0   \n",
       "4  40.79851 -73.94399  United States  ...        $41            10.0   \n",
       "\n",
       "  number of reviews last review  reviews per month review rate number  \\\n",
       "0               9.0  10/19/2021               0.21                4.0   \n",
       "1              45.0   5/21/2022               0.38                4.0   \n",
       "2               0.0         NaN                NaN                5.0   \n",
       "3             270.0    7/5/2019               4.64                4.0   \n",
       "4               9.0  11/19/2018               0.10                3.0   \n",
       "\n",
       "  calculated host listings count  availability 365  \\\n",
       "0                            6.0             286.0   \n",
       "1                            2.0             228.0   \n",
       "2                            1.0             352.0   \n",
       "3                            1.0             322.0   \n",
       "4                            1.0             289.0   \n",
       "\n",
       "                                         house_rules license  \n",
       "0  Clean up and treat the home the way you'd like...     NaN  \n",
       "1  Pet friendly but please confirm with me if the...     NaN  \n",
       "2  I encourage you to use my kitchen, cooking and...     NaN  \n",
       "3                                                NaN     NaN  \n",
       "4  Please no smoking in the house, porch or on th...     NaN  \n",
       "\n",
       "[5 rows x 26 columns]"
      ]
     },
     "execution_count": 2,
     "metadata": {},
     "output_type": "execute_result"
    }
   ],
   "source": [
    "# Reading in data\n",
    "df = pd.read_csv('Data/Airbnb_Open_Data.csv')\n",
    "print(df.shape) # examining shape\n",
    "df.head() # previewing data"
   ]
  },
  {
   "cell_type": "code",
   "execution_count": 3,
   "id": "f7dfbe52",
   "metadata": {},
   "outputs": [],
   "source": [
    "# snakecasing all columns\n",
    "df.columns = [col.replace(' ','_').lower() for col in df.columns]"
   ]
  },
  {
   "cell_type": "markdown",
   "id": "7c48ec7d",
   "metadata": {},
   "source": [
    "### Viewing Data Types"
   ]
  },
  {
   "cell_type": "code",
   "execution_count": 4,
   "id": "85448252",
   "metadata": {},
   "outputs": [
    {
     "data": {
      "text/plain": [
       "id                                  int64\n",
       "name                               object\n",
       "host_id                             int64\n",
       "host_identity_verified             object\n",
       "host_name                          object\n",
       "neighbourhood_group                object\n",
       "neighbourhood                      object\n",
       "lat                               float64\n",
       "long                              float64\n",
       "country                            object\n",
       "country_code                       object\n",
       "instant_bookable                   object\n",
       "cancellation_policy                object\n",
       "room_type                          object\n",
       "construction_year                 float64\n",
       "price                              object\n",
       "service_fee                        object\n",
       "minimum_nights                    float64\n",
       "number_of_reviews                 float64\n",
       "last_review                        object\n",
       "reviews_per_month                 float64\n",
       "review_rate_number                float64\n",
       "calculated_host_listings_count    float64\n",
       "availability_365                  float64\n",
       "house_rules                        object\n",
       "license                            object\n",
       "dtype: object"
      ]
     },
     "execution_count": 4,
     "metadata": {},
     "output_type": "execute_result"
    }
   ],
   "source": [
    "df.dtypes\n",
    "# host_identify_verified and instant_bookable can likely become a binary column\n",
    "# noticing there are two neighborhood groups\n",
    "# price and service fee should be a float"
   ]
  },
  {
   "cell_type": "markdown",
   "id": "b0dd1e5b",
   "metadata": {},
   "source": [
    "### Adjusting Data Types:\n",
    "- Host Identity verified will become binary 1 represents verification, all .28% of NaN values will default to unverrified which seems reasonable given they are not confirmed to be verrified.\n",
    "- instant_bookable will become binary as well, 1 represents instantly bookable, all non instant bookable including null will default to not instantly bookable.\n",
    "- Price and Service Fee become floats"
   ]
  },
  {
   "cell_type": "code",
   "execution_count": 5,
   "id": "9ab3d466",
   "metadata": {},
   "outputs": [],
   "source": [
    "# making dummy columns\n",
    "df = pd.get_dummies(df,columns=(['host_identity_verified','instant_bookable']),drop_first=True)\n",
    "\n",
    "# df.price contains floats and strings, will make it soley a str first\n",
    "df.price = df.price.astype(str) \n",
    "# removing spaces, quotations, commas, and '$'\n",
    "df.price = [each.replace(' ','').replace('\"','').replace(',','').strip('$') for each in df.price]\n",
    "# reverting back to float\n",
    "df.price = df.price.astype(float)\n",
    "# df.price contains floats and strings, will make it soley a str first\n",
    "\n",
    "df.service_fee = df.service_fee.astype(str) \n",
    "# removing spaces, quotations, commas, and '$'\n",
    "df.service_fee = [each.replace(' ','').replace('\"','').replace(',','').strip('$') for each in df.service_fee]\n",
    "# reverting back to float\n",
    "df.service_fee = df.service_fee.astype(float)"
   ]
  },
  {
   "cell_type": "markdown",
   "id": "e0cbd209",
   "metadata": {},
   "source": [
    "### Renaming Columns"
   ]
  },
  {
   "cell_type": "code",
   "execution_count": 6,
   "id": "1983559b",
   "metadata": {},
   "outputs": [
    {
     "data": {
      "text/plain": [
       "Manhattan        43792\n",
       "Brooklyn         41842\n",
       "Queens           13267\n",
       "Bronx             2712\n",
       "Staten Island      955\n",
       "brookln              1\n",
       "manhatan             1\n",
       "Name: borough, dtype: int64"
      ]
     },
     "execution_count": 6,
     "metadata": {},
     "output_type": "execute_result"
    }
   ],
   "source": [
    "df.rename(columns={'neighbourhood_group':'borough', # appropriate name\n",
    "                   'host_identity_verified_verified':'verified', # simplifying\n",
    "                   'instant_bookable_True':'instant_bookable'},inplace=True) # simplifying\n",
    "df.borough.value_counts() # two mispelled boroughs to fix"
   ]
  },
  {
   "cell_type": "code",
   "execution_count": 7,
   "id": "beb65051",
   "metadata": {},
   "outputs": [],
   "source": [
    "df.borough.replace({\"brookln\": \"Brooklyn\", \"manhatan\": \"Manhattan\"},inplace=True)"
   ]
  },
  {
   "cell_type": "markdown",
   "id": "c99f7921",
   "metadata": {},
   "source": [
    "### Viewing Null Values"
   ]
  },
  {
   "cell_type": "code",
   "execution_count": 8,
   "id": "abcbe2da",
   "metadata": {},
   "outputs": [
    {
     "data": {
      "text/plain": [
       "id                                     0\n",
       "name                                 250\n",
       "host_id                                0\n",
       "host_name                            406\n",
       "borough                               29\n",
       "neighbourhood                         16\n",
       "lat                                    8\n",
       "long                                   8\n",
       "country                              532\n",
       "country_code                         131\n",
       "cancellation_policy                   76\n",
       "room_type                              0\n",
       "construction_year                    214\n",
       "price                                247\n",
       "service_fee                          273\n",
       "minimum_nights                       409\n",
       "number_of_reviews                    183\n",
       "last_review                        15893\n",
       "reviews_per_month                  15879\n",
       "review_rate_number                   326\n",
       "calculated_host_listings_count       319\n",
       "availability_365                     448\n",
       "house_rules                        52131\n",
       "license                           102597\n",
       "verified                               0\n",
       "instant_bookable                       0\n",
       "dtype: int64"
      ]
     },
     "execution_count": 8,
     "metadata": {},
     "output_type": "execute_result"
    }
   ],
   "source": [
    "df.isnull().sum()"
   ]
  },
  {
   "cell_type": "code",
   "execution_count": 9,
   "id": "368472aa",
   "metadata": {},
   "outputs": [
    {
     "data": {
      "text/plain": [
       "price                             1.000000\n",
       "service_fee                       0.999991\n",
       "id                                0.006739\n",
       "number_of_reviews                 0.005229\n",
       "reviews_per_month                 0.004186\n",
       "host_id                           0.003837\n",
       "long                              0.003269\n",
       "instant_bookable                  0.000312\n",
       "calculated_host_listings_count   -0.000106\n",
       "availability_365                 -0.002833\n",
       "minimum_nights                   -0.003471\n",
       "construction_year                -0.003753\n",
       "verified                         -0.004303\n",
       "review_rate_number               -0.004576\n",
       "lat                              -0.005900\n",
       "Name: price, dtype: float64"
      ]
     },
     "execution_count": 9,
     "metadata": {},
     "output_type": "execute_result"
    }
   ],
   "source": [
    "df.corr().price.sort_values(ascending=False)"
   ]
  },
  {
   "cell_type": "markdown",
   "id": "06ffda09",
   "metadata": {},
   "source": [
    "### First I can drop unnecessary columns\n",
    "- After examining the read in error on column 25 'license', 99.9% of the column is null (102597 out of 102599 rows) so I will drop license.\n",
    "- country and country_code are the same column and both depict that every listing is in the U.S. I will drop these columns because I know that every listing is in the U.S.\n",
    "- last_review and reviews_per_month are redundant and contain many nulls, additionally number_of_reviews is a better indicator when viewing a listing.\n",
    "- calculated_host_listings_count is similar to availability_365 that I feel comfortable removing this column\n",
    "- lastly house rules contains many nulls and will be dropped."
   ]
  },
  {
   "cell_type": "code",
   "execution_count": 10,
   "id": "cfbede5b",
   "metadata": {},
   "outputs": [],
   "source": [
    "df.drop(columns=['license','country','country_code','last_review',\n",
    "                 'reviews_per_month','calculated_host_listings_count','house_rules'],\n",
    "        inplace=True)"
   ]
  },
  {
   "cell_type": "markdown",
   "id": "67218efa",
   "metadata": {},
   "source": [
    "### Handling Null Values"
   ]
  },
  {
   "cell_type": "code",
   "execution_count": 11,
   "id": "5d929310",
   "metadata": {},
   "outputs": [
    {
     "data": {
      "text/plain": [
       "(102599, 19)"
      ]
     },
     "execution_count": 11,
     "metadata": {},
     "output_type": "execute_result"
    }
   ],
   "source": [
    "df.shape"
   ]
  },
  {
   "cell_type": "markdown",
   "id": "c7430333",
   "metadata": {},
   "source": [
    "**First I only keep data where I am comfortable droppping nulls from specific rows**\n",
    "- I didn't find a reliable way to fill these specific null values"
   ]
  },
  {
   "cell_type": "code",
   "execution_count": 12,
   "id": "097c2833",
   "metadata": {},
   "outputs": [],
   "source": [
    "df = df.loc[(df.neighbourhood.notna()) # 16 Null rows out of 102256 rows\n",
    "            & (df.lat.notna()) # 8 Null rows out of 102256 rows\n",
    "            & (df.cancellation_policy.notna()) # 74 Null rows out of 102256 rows\n",
    "            & (df.name.notna())] # 245 Null rows out of 102256 rows"
   ]
  },
  {
   "cell_type": "code",
   "execution_count": 13,
   "id": "5927b3b5",
   "metadata": {},
   "outputs": [
    {
     "data": {
      "text/plain": [
       "(102256, 19)"
      ]
     },
     "execution_count": 13,
     "metadata": {},
     "output_type": "execute_result"
    }
   ],
   "source": [
    "df.shape"
   ]
  },
  {
   "cell_type": "markdown",
   "id": "8f387619",
   "metadata": {},
   "source": [
    "**Now I can fill in null values based on the host_id**\n",
    "- host_id is Airbnb's unique identifier for the host/user"
   ]
  },
  {
   "cell_type": "code",
   "execution_count": 14,
   "id": "30c9d6e9",
   "metadata": {},
   "outputs": [],
   "source": [
    "# host name is straight forward\n",
    "df['host_name'] = df.groupby('host_id')['host_name'].ffill().bfill()\n",
    "\n",
    "# grouping by host_id will allow for construction year to be filled appropriately\n",
    "df['construction_year'] = df.groupby('host_id')[['construction_year']].ffill().bfill()\n",
    "\n",
    "# price\n",
    "df.price = df.groupby(['neighbourhood','host_id'])['price'].ffill().bfill()\n",
    "\n",
    "# service fee\n",
    "df.service_fee = df.groupby('host_id')['service_fee'].ffill().bfill()\n",
    "\n",
    "# number of reviews\n",
    "df.number_of_reviews = df.groupby('host_id')['number_of_reviews'].ffill().bfill()\n",
    "\n",
    "# review rate\n",
    "df.review_rate_number = df.groupby('host_id')['review_rate_number'].ffill().bfill()\n",
    "\n",
    "# availability\n",
    "df.availability_365 = df.groupby('host_id')['availability_365'].ffill().bfill()"
   ]
  },
  {
   "cell_type": "code",
   "execution_count": 15,
   "id": "6316cd1e",
   "metadata": {},
   "outputs": [
    {
     "data": {
      "text/plain": [
       "(102256, 19)"
      ]
     },
     "execution_count": 15,
     "metadata": {},
     "output_type": "execute_result"
    }
   ],
   "source": [
    "df.shape"
   ]
  },
  {
   "cell_type": "markdown",
   "id": "c32d17fb",
   "metadata": {},
   "source": [
    "### Filling Missing Boroughs"
   ]
  },
  {
   "cell_type": "code",
   "execution_count": 16,
   "id": "9067b634",
   "metadata": {},
   "outputs": [],
   "source": [
    "def column_summary(column):\n",
    "    null = column.isnull().sum()\n",
    "    rows = df.shape[0]\n",
    "    null_percent = str((null/rows)*100)[:4]\n",
    "    print(f\"There are {null} Null rows out of {rows} rows, {null_percent}% of the column is null\")\n",
    "    print(f\"Value Counts: \\n{column.value_counts()}\")"
   ]
  },
  {
   "cell_type": "code",
   "execution_count": 17,
   "id": "f242adcc",
   "metadata": {},
   "outputs": [
    {
     "name": "stdout",
     "output_type": "stream",
     "text": [
      "There are 26 Null rows out of 102256 rows, 0.02% of the column is null\n",
      "Value Counts: \n",
      "Manhattan        43657\n",
      "Brooklyn         41686\n",
      "Queens           13231\n",
      "Bronx             2703\n",
      "Staten Island      953\n",
      "Name: borough, dtype: int64\n"
     ]
    }
   ],
   "source": [
    "column_summary(df.borough)"
   ]
  },
  {
   "cell_type": "code",
   "execution_count": 18,
   "id": "34da77c4",
   "metadata": {},
   "outputs": [
    {
     "data": {
      "text/plain": [
       "array(['Washington Heights', 'Clinton Hill', 'East Village',\n",
       "       'Upper East Side', 'Woodside', 'Williamsburg', 'Bushwick',\n",
       "       'Prospect Heights', 'Chelsea', 'East Harlem', 'Eastchester',\n",
       "       'Harlem', 'Queens Village', 'Bedford-Stuyvesant',\n",
       "       'Upper West Side'], dtype=object)"
      ]
     },
     "execution_count": 18,
     "metadata": {},
     "output_type": "execute_result"
    }
   ],
   "source": [
    "df[df.borough.isnull()][['neighbourhood']].neighbourhood.unique()"
   ]
  },
  {
   "cell_type": "code",
   "execution_count": 19,
   "id": "b7f5d138",
   "metadata": {},
   "outputs": [],
   "source": [
    "# df.loc[(df.neighbourhood == \"Upper West Side\") & (df.borough)][:3]"
   ]
  },
  {
   "cell_type": "markdown",
   "id": "1af5c69b",
   "metadata": {},
   "source": [
    "**Can simply create a dictionary to fill in the missing boroughs based on associated neighbourhood**"
   ]
  },
  {
   "cell_type": "code",
   "execution_count": 20,
   "id": "7ddf52f0",
   "metadata": {
    "scrolled": true
   },
   "outputs": [
    {
     "name": "stdout",
     "output_type": "stream",
     "text": [
      "There are 0 Null rows out of 102256 rows, 0.0% of the column is null\n",
      "Value Counts: \n",
      "Manhattan        43669\n",
      "Brooklyn         41697\n",
      "Queens           13233\n",
      "Bronx             2704\n",
      "Staten Island      953\n",
      "Name: borough, dtype: int64\n"
     ]
    }
   ],
   "source": [
    "b_dict = { # Manhattan\n",
    "          'Washington Heights':'Manhattan','East Village':'Manhattan',\n",
    "          'Upper East Side':'Manhattan','Chelsea':'Manhattan',\n",
    "          'East Harlem':'Manhattan','Harlem':'Manhattan',\n",
    "          'Chinatown':'Manhattan','Upper West Side':'Manhattan',\n",
    "           # Brooklyn\n",
    "          'Clinton Hill':'Brooklyn','Williamsburg':'Brooklyn',\n",
    "          'Bushwick':'Brooklyn','Prospect Heights':'Brooklyn','Bedford-Stuyvesant':'Brooklyn',\n",
    "           # Queens\n",
    "          'Woodside':'Queens','Queens Village':'Queens',\n",
    "           # Bronx\n",
    "          'Eastchester':'Bronx'\n",
    "         }\n",
    "\n",
    "df.borough = df.borough.fillna(df.neighbourhood.map(b_dict)) # filling borough with dictionary\n",
    "\n",
    "column_summary(df.borough)"
   ]
  },
  {
   "cell_type": "markdown",
   "id": "23a25163",
   "metadata": {},
   "source": [
    "### Checking cases where the borough is in the neighbourhood name\n",
    "- The value counts for if the string contains a borough should be an unique instane where the name of the neighborhood contains the borough intently. \n",
    "- The sum of value_counts should equal the sum of unique instances"
   ]
  },
  {
   "cell_type": "markdown",
   "id": "b58028cb",
   "metadata": {},
   "source": [
    "#### Brooklyn"
   ]
  },
  {
   "cell_type": "code",
   "execution_count": 21,
   "id": "aee76b23",
   "metadata": {},
   "outputs": [
    {
     "data": {
      "text/plain": [
       "Brooklyn Heights     306\n",
       "Downtown Brooklyn    174\n",
       "Name: neighbourhood, dtype: int64"
      ]
     },
     "execution_count": 21,
     "metadata": {},
     "output_type": "execute_result"
    }
   ],
   "source": [
    "df[df['neighbourhood'].str.contains(\"Brooklyn\", na=False)].neighbourhood.value_counts()"
   ]
  },
  {
   "cell_type": "code",
   "execution_count": 22,
   "id": "498e6602",
   "metadata": {},
   "outputs": [
    {
     "data": {
      "text/plain": [
       "False    101776\n",
       "True        480\n",
       "Name: neighbourhood, dtype: int64"
      ]
     },
     "execution_count": 22,
     "metadata": {},
     "output_type": "execute_result"
    }
   ],
   "source": [
    "df.neighbourhood.str.contains('Brooklyn').value_counts() # 308 + 175 = 483"
   ]
  },
  {
   "cell_type": "markdown",
   "id": "bfe3a072",
   "metadata": {},
   "source": [
    "#### Bronx"
   ]
  },
  {
   "cell_type": "code",
   "execution_count": 23,
   "id": "20cbaafb",
   "metadata": {},
   "outputs": [
    {
     "data": {
      "text/plain": [
       "Bronxdale    47\n",
       "Name: neighbourhood, dtype: int64"
      ]
     },
     "execution_count": 23,
     "metadata": {},
     "output_type": "execute_result"
    }
   ],
   "source": [
    "df[df['neighbourhood'].str.contains(\"Bronx\", na=False)].neighbourhood.value_counts()"
   ]
  },
  {
   "cell_type": "code",
   "execution_count": 24,
   "id": "2eec89dc",
   "metadata": {},
   "outputs": [
    {
     "data": {
      "text/plain": [
       "False    102209\n",
       "True         47\n",
       "Name: neighbourhood, dtype: int64"
      ]
     },
     "execution_count": 24,
     "metadata": {},
     "output_type": "execute_result"
    }
   ],
   "source": [
    "df.neighbourhood.str.contains('Bronx').value_counts()"
   ]
  },
  {
   "cell_type": "markdown",
   "id": "b0a36e04",
   "metadata": {},
   "source": [
    "#### Queens"
   ]
  },
  {
   "cell_type": "code",
   "execution_count": 25,
   "id": "e98df966",
   "metadata": {},
   "outputs": [
    {
     "data": {
      "text/plain": [
       "Queens Village    146\n",
       "Name: neighbourhood, dtype: int64"
      ]
     },
     "execution_count": 25,
     "metadata": {},
     "output_type": "execute_result"
    }
   ],
   "source": [
    "df[df['neighbourhood'].str.contains(\"Queens\", na=False)].neighbourhood.value_counts()"
   ]
  },
  {
   "cell_type": "code",
   "execution_count": 26,
   "id": "dca4145a",
   "metadata": {},
   "outputs": [
    {
     "data": {
      "text/plain": [
       "False    102110\n",
       "True        146\n",
       "Name: neighbourhood, dtype: int64"
      ]
     },
     "execution_count": 26,
     "metadata": {},
     "output_type": "execute_result"
    }
   ],
   "source": [
    "df.neighbourhood.str.contains('Queens').value_counts()"
   ]
  },
  {
   "cell_type": "markdown",
   "id": "8f12f9b7",
   "metadata": {},
   "source": [
    "#### Manhattan and Staten Island"
   ]
  },
  {
   "cell_type": "code",
   "execution_count": 27,
   "id": "d887d37a",
   "metadata": {},
   "outputs": [
    {
     "data": {
      "text/plain": [
       "Manhattan Beach    22\n",
       "Name: neighbourhood, dtype: int64"
      ]
     },
     "execution_count": 27,
     "metadata": {},
     "output_type": "execute_result"
    }
   ],
   "source": [
    "df[df['neighbourhood'].str.contains(\"Manhattan\", na=False)].neighbourhood.value_counts()"
   ]
  },
  {
   "cell_type": "code",
   "execution_count": 28,
   "id": "659c0729",
   "metadata": {},
   "outputs": [
    {
     "data": {
      "text/plain": [
       "False    102234\n",
       "True         22\n",
       "Name: neighbourhood, dtype: int64"
      ]
     },
     "execution_count": 28,
     "metadata": {},
     "output_type": "execute_result"
    }
   ],
   "source": [
    "df.neighbourhood.str.contains('Manhattan').value_counts()"
   ]
  },
  {
   "cell_type": "code",
   "execution_count": 29,
   "id": "cf60af0b",
   "metadata": {},
   "outputs": [
    {
     "data": {
      "text/plain": [
       "Bay Terrace                   8\n",
       "Bay Terrace, Staten Island    4\n",
       "Name: neighbourhood, dtype: int64"
      ]
     },
     "execution_count": 29,
     "metadata": {},
     "output_type": "execute_result"
    }
   ],
   "source": [
    "df[df['neighbourhood'].str.contains(\"Bay Terrace\", na=False)].neighbourhood.value_counts()"
   ]
  },
  {
   "cell_type": "code",
   "execution_count": 30,
   "id": "5946194a",
   "metadata": {},
   "outputs": [
    {
     "data": {
      "text/plain": [
       "Chelsea                   2276\n",
       "Chelsea, Staten Island       1\n",
       "Name: neighbourhood, dtype: int64"
      ]
     },
     "execution_count": 30,
     "metadata": {},
     "output_type": "execute_result"
    }
   ],
   "source": [
    "df[df['neighbourhood'].str.contains(\"Chelsea\", na=False)].neighbourhood.value_counts()"
   ]
  },
  {
   "cell_type": "code",
   "execution_count": 31,
   "id": "288fe4fb",
   "metadata": {},
   "outputs": [
    {
     "data": {
      "text/plain": [
       "Bay Terrace, Staten Island    4\n",
       "Chelsea, Staten Island        1\n",
       "Name: neighbourhood, dtype: int64"
      ]
     },
     "execution_count": 31,
     "metadata": {},
     "output_type": "execute_result"
    }
   ],
   "source": [
    "df[df['neighbourhood'].str.contains(\"Staten Island\", na=False)].neighbourhood.value_counts()"
   ]
  },
  {
   "cell_type": "code",
   "execution_count": 32,
   "id": "8a585cc5",
   "metadata": {
    "scrolled": true
   },
   "outputs": [],
   "source": [
    "# for consistency I am keeping the associated borough next to repeating neighbourhood names\n",
    "df.neighbourhood.replace({\"Chelsea\": \"Chelsea, Manhattan\", \n",
    "                          \"Bay Terrace\": \"Bay Terrace, Queens\"},inplace=True)"
   ]
  },
  {
   "cell_type": "markdown",
   "id": "b5329afb",
   "metadata": {},
   "source": [
    "### Minimum Nights\n",
    "As such, any stay that extends for 28 days or longer is regarded as a long-term or monthly stay. Not all rental listings on Airbnb offer long-term stays since it’s the host’s job to decide on whether to make their properties available for such arrangements.\n",
    "https://www.mashvisor.com/blog/airbnb-monthly-stays/"
   ]
  },
  {
   "cell_type": "code",
   "execution_count": 33,
   "id": "6b23bf84",
   "metadata": {},
   "outputs": [
    {
     "data": {
      "text/plain": [
       "count    101854.000000\n",
       "mean          8.117973\n",
       "std          30.271371\n",
       "min       -1223.000000\n",
       "25%           2.000000\n",
       "50%           3.000000\n",
       "75%           5.000000\n",
       "max        5645.000000\n",
       "Name: minimum_nights, dtype: float64"
      ]
     },
     "execution_count": 33,
     "metadata": {},
     "output_type": "execute_result"
    }
   ],
   "source": [
    "df.minimum_nights.describe()"
   ]
  },
  {
   "cell_type": "code",
   "execution_count": 34,
   "id": "7e981384",
   "metadata": {
    "scrolled": true
   },
   "outputs": [
    {
     "name": "stdout",
     "output_type": "stream",
     "text": [
      "Shape of Dataframe by dropping column: (102256, 18)\n",
      "Shape of Dataframe with parameters met in accordance to airbnb rules: (87960, 19)\n"
     ]
    }
   ],
   "source": [
    "print(f\"Shape of Dataframe by dropping column: {df.drop(columns='minimum_nights').shape}\") # comparing shape\n",
    "\n",
    "print(f\"Shape of Dataframe with parameters met in accordance to airbnb rules: \\\n",
    "{df.loc[(df.minimum_nights >= 0) & (df.minimum_nights <=28)].shape}\") # comparing shape\n",
    "\n",
    "df.drop(columns='minimum_nights',inplace=True) # dropping column"
   ]
  },
  {
   "cell_type": "markdown",
   "id": "57e0c569",
   "metadata": {},
   "source": [
    "I will drop this column instead of keeping specific parameters for two reasons. \n",
    "- The data dictionary to this dataset has a column called \"minimum_minimum_nights\" which is defined as \"the smallest minimum_night value from the calender (looking 365 nights in the future).\" I believe there are many errors in minimum nights because data has merged or leaked in some way from minimum minimum nights\n",
    "- I keep more data overall by dropping minimum nights"
   ]
  },
  {
   "cell_type": "code",
   "execution_count": 35,
   "id": "9eba8437",
   "metadata": {},
   "outputs": [
    {
     "data": {
      "text/plain": [
       "(102256, 18)"
      ]
     },
     "execution_count": 35,
     "metadata": {},
     "output_type": "execute_result"
    }
   ],
   "source": [
    "df.shape"
   ]
  },
  {
   "cell_type": "code",
   "execution_count": null,
   "id": "58a496e9",
   "metadata": {},
   "outputs": [],
   "source": []
  },
  {
   "cell_type": "code",
   "execution_count": null,
   "id": "a235b9f4",
   "metadata": {},
   "outputs": [],
   "source": []
  },
  {
   "cell_type": "code",
   "execution_count": null,
   "id": "946746bf",
   "metadata": {},
   "outputs": [],
   "source": []
  },
  {
   "cell_type": "code",
   "execution_count": null,
   "id": "f9e10d74",
   "metadata": {},
   "outputs": [],
   "source": []
  },
  {
   "cell_type": "code",
   "execution_count": null,
   "id": "fca847bb",
   "metadata": {},
   "outputs": [],
   "source": []
  },
  {
   "cell_type": "markdown",
   "id": "2a98bb3c",
   "metadata": {},
   "source": [
    "## Original Approach"
   ]
  },
  {
   "cell_type": "code",
   "execution_count": 7,
   "id": "f0ba50f6",
   "metadata": {},
   "outputs": [
    {
     "data": {
      "text/plain": [
       "0         NaN\n",
       "1         NaN\n",
       "2         NaN\n",
       "3         NaN\n",
       "4         NaN\n",
       "         ... \n",
       "102594    NaN\n",
       "102595    NaN\n",
       "102596    NaN\n",
       "102597    NaN\n",
       "102598    NaN\n",
       "Name: license, Length: 102599, dtype: object"
      ]
     },
     "execution_count": 7,
     "metadata": {},
     "output_type": "execute_result"
    }
   ],
   "source": [
    "# examining read-in error on column 25\n",
    "df.iloc[:,25]"
   ]
  },
  {
   "cell_type": "code",
   "execution_count": 30,
   "id": "45121a6a",
   "metadata": {},
   "outputs": [],
   "source": [
    "# Since there are only 26 columns I am creating a function to summarize what I need for cleaning if I need to\n",
    "# dive into a specific column\n",
    "def column_summary(column):\n",
    "    null = column.isnull().sum()\n",
    "    rows = df.shape[0]\n",
    "    null_percent = str((null/rows)*100)[:4]\n",
    "    print(f\"There are {null} Null rows out of {rows} rows, {null_percent}% of the column is null\")\n",
    "    print(f\"Value Counts: \\n{column.value_counts()}\")"
   ]
  },
  {
   "cell_type": "code",
   "execution_count": 9,
   "id": "dde8cb4d",
   "metadata": {},
   "outputs": [
    {
     "name": "stdout",
     "output_type": "stream",
     "text": [
      "There are 102597 Null rows out of 102599 rows, 99.9% of the column is null\n",
      "Value Counts: \n",
      "41662/AL    2\n",
      "Name: license, dtype: int64\n"
     ]
    }
   ],
   "source": [
    "column_summary(df.license)"
   ]
  },
  {
   "cell_type": "markdown",
   "id": "8970eaa0",
   "metadata": {},
   "source": [
    "I am going to drop this column due to 99% of the values being Null"
   ]
  },
  {
   "cell_type": "code",
   "execution_count": 10,
   "id": "b99b611c",
   "metadata": {},
   "outputs": [],
   "source": [
    "df.drop(columns='license',inplace=True)"
   ]
  },
  {
   "cell_type": "code",
   "execution_count": 11,
   "id": "e817e54e",
   "metadata": {},
   "outputs": [
    {
     "name": "stdout",
     "output_type": "stream",
     "text": [
      "There are 289 Null rows out of 102599 rows, 0.28% of the column is null\n",
      "Value Counts: \n",
      "unconfirmed    51200\n",
      "verified       51110\n",
      "Name: host_identity_verified, dtype: int64\n"
     ]
    }
   ],
   "source": [
    "column_summary(df.host_identity_verified)"
   ]
  },
  {
   "cell_type": "markdown",
   "id": "7e1327e0",
   "metadata": {},
   "source": [
    "Making this column binary, a 1 represents verification, all .28% of NaN values will default to unverrified which seems reasonable given they are not confirmed to be verrified."
   ]
  },
  {
   "cell_type": "code",
   "execution_count": 12,
   "id": "c6a43f63",
   "metadata": {},
   "outputs": [],
   "source": [
    "df.host_identity_verified = pd.get_dummies(df.host_identity_verified,drop_first=True)"
   ]
  },
  {
   "cell_type": "code",
   "execution_count": 13,
   "id": "30389836",
   "metadata": {},
   "outputs": [
    {
     "data": {
      "text/html": [
       "<div>\n",
       "<style scoped>\n",
       "    .dataframe tbody tr th:only-of-type {\n",
       "        vertical-align: middle;\n",
       "    }\n",
       "\n",
       "    .dataframe tbody tr th {\n",
       "        vertical-align: top;\n",
       "    }\n",
       "\n",
       "    .dataframe thead th {\n",
       "        text-align: right;\n",
       "    }\n",
       "</style>\n",
       "<table border=\"1\" class=\"dataframe\">\n",
       "  <thead>\n",
       "    <tr style=\"text-align: right;\">\n",
       "      <th></th>\n",
       "      <th>id</th>\n",
       "      <th>name</th>\n",
       "      <th>host_id</th>\n",
       "      <th>host_identity_verified</th>\n",
       "      <th>host_name</th>\n",
       "      <th>neighbourhood_group</th>\n",
       "      <th>neighbourhood</th>\n",
       "      <th>lat</th>\n",
       "      <th>long</th>\n",
       "      <th>country</th>\n",
       "      <th>...</th>\n",
       "      <th>price</th>\n",
       "      <th>service_fee</th>\n",
       "      <th>minimum_nights</th>\n",
       "      <th>number_of_reviews</th>\n",
       "      <th>last_review</th>\n",
       "      <th>reviews_per_month</th>\n",
       "      <th>review_rate_number</th>\n",
       "      <th>calculated_host_listings_count</th>\n",
       "      <th>availability_365</th>\n",
       "      <th>house_rules</th>\n",
       "    </tr>\n",
       "  </thead>\n",
       "  <tbody>\n",
       "    <tr>\n",
       "      <th>0</th>\n",
       "      <td>1001254</td>\n",
       "      <td>Clean &amp; quiet apt home by the park</td>\n",
       "      <td>80014485718</td>\n",
       "      <td>0</td>\n",
       "      <td>Madaline</td>\n",
       "      <td>Brooklyn</td>\n",
       "      <td>Kensington</td>\n",
       "      <td>40.64749</td>\n",
       "      <td>-73.97237</td>\n",
       "      <td>United States</td>\n",
       "      <td>...</td>\n",
       "      <td>$966</td>\n",
       "      <td>$193</td>\n",
       "      <td>10.0</td>\n",
       "      <td>9.0</td>\n",
       "      <td>10/19/2021</td>\n",
       "      <td>0.21</td>\n",
       "      <td>4.0</td>\n",
       "      <td>6.0</td>\n",
       "      <td>286.0</td>\n",
       "      <td>Clean up and treat the home the way you'd like...</td>\n",
       "    </tr>\n",
       "    <tr>\n",
       "      <th>1</th>\n",
       "      <td>1002102</td>\n",
       "      <td>Skylit Midtown Castle</td>\n",
       "      <td>52335172823</td>\n",
       "      <td>1</td>\n",
       "      <td>Jenna</td>\n",
       "      <td>Manhattan</td>\n",
       "      <td>Midtown</td>\n",
       "      <td>40.75362</td>\n",
       "      <td>-73.98377</td>\n",
       "      <td>United States</td>\n",
       "      <td>...</td>\n",
       "      <td>$142</td>\n",
       "      <td>$28</td>\n",
       "      <td>30.0</td>\n",
       "      <td>45.0</td>\n",
       "      <td>5/21/2022</td>\n",
       "      <td>0.38</td>\n",
       "      <td>4.0</td>\n",
       "      <td>2.0</td>\n",
       "      <td>228.0</td>\n",
       "      <td>Pet friendly but please confirm with me if the...</td>\n",
       "    </tr>\n",
       "    <tr>\n",
       "      <th>2</th>\n",
       "      <td>1002403</td>\n",
       "      <td>THE VILLAGE OF HARLEM....NEW YORK !</td>\n",
       "      <td>78829239556</td>\n",
       "      <td>0</td>\n",
       "      <td>Elise</td>\n",
       "      <td>Manhattan</td>\n",
       "      <td>Harlem</td>\n",
       "      <td>40.80902</td>\n",
       "      <td>-73.94190</td>\n",
       "      <td>United States</td>\n",
       "      <td>...</td>\n",
       "      <td>$620</td>\n",
       "      <td>$124</td>\n",
       "      <td>3.0</td>\n",
       "      <td>0.0</td>\n",
       "      <td>NaN</td>\n",
       "      <td>NaN</td>\n",
       "      <td>5.0</td>\n",
       "      <td>1.0</td>\n",
       "      <td>352.0</td>\n",
       "      <td>I encourage you to use my kitchen, cooking and...</td>\n",
       "    </tr>\n",
       "    <tr>\n",
       "      <th>3</th>\n",
       "      <td>1002755</td>\n",
       "      <td>NaN</td>\n",
       "      <td>85098326012</td>\n",
       "      <td>0</td>\n",
       "      <td>Garry</td>\n",
       "      <td>Brooklyn</td>\n",
       "      <td>Clinton Hill</td>\n",
       "      <td>40.68514</td>\n",
       "      <td>-73.95976</td>\n",
       "      <td>United States</td>\n",
       "      <td>...</td>\n",
       "      <td>$368</td>\n",
       "      <td>$74</td>\n",
       "      <td>30.0</td>\n",
       "      <td>270.0</td>\n",
       "      <td>7/5/2019</td>\n",
       "      <td>4.64</td>\n",
       "      <td>4.0</td>\n",
       "      <td>1.0</td>\n",
       "      <td>322.0</td>\n",
       "      <td>NaN</td>\n",
       "    </tr>\n",
       "    <tr>\n",
       "      <th>4</th>\n",
       "      <td>1003689</td>\n",
       "      <td>Entire Apt: Spacious Studio/Loft by central park</td>\n",
       "      <td>92037596077</td>\n",
       "      <td>1</td>\n",
       "      <td>Lyndon</td>\n",
       "      <td>Manhattan</td>\n",
       "      <td>East Harlem</td>\n",
       "      <td>40.79851</td>\n",
       "      <td>-73.94399</td>\n",
       "      <td>United States</td>\n",
       "      <td>...</td>\n",
       "      <td>$204</td>\n",
       "      <td>$41</td>\n",
       "      <td>10.0</td>\n",
       "      <td>9.0</td>\n",
       "      <td>11/19/2018</td>\n",
       "      <td>0.10</td>\n",
       "      <td>3.0</td>\n",
       "      <td>1.0</td>\n",
       "      <td>289.0</td>\n",
       "      <td>Please no smoking in the house, porch or on th...</td>\n",
       "    </tr>\n",
       "  </tbody>\n",
       "</table>\n",
       "<p>5 rows × 25 columns</p>\n",
       "</div>"
      ],
      "text/plain": [
       "        id                                              name      host_id  \\\n",
       "0  1001254                Clean & quiet apt home by the park  80014485718   \n",
       "1  1002102                             Skylit Midtown Castle  52335172823   \n",
       "2  1002403               THE VILLAGE OF HARLEM....NEW YORK !  78829239556   \n",
       "3  1002755                                               NaN  85098326012   \n",
       "4  1003689  Entire Apt: Spacious Studio/Loft by central park  92037596077   \n",
       "\n",
       "   host_identity_verified host_name neighbourhood_group neighbourhood  \\\n",
       "0                       0  Madaline            Brooklyn    Kensington   \n",
       "1                       1     Jenna           Manhattan       Midtown   \n",
       "2                       0     Elise           Manhattan        Harlem   \n",
       "3                       0     Garry            Brooklyn  Clinton Hill   \n",
       "4                       1    Lyndon           Manhattan   East Harlem   \n",
       "\n",
       "        lat      long        country  ...  price service_fee minimum_nights  \\\n",
       "0  40.64749 -73.97237  United States  ...  $966        $193            10.0   \n",
       "1  40.75362 -73.98377  United States  ...  $142         $28            30.0   \n",
       "2  40.80902 -73.94190  United States  ...  $620        $124             3.0   \n",
       "3  40.68514 -73.95976  United States  ...  $368         $74            30.0   \n",
       "4  40.79851 -73.94399  United States  ...  $204         $41            10.0   \n",
       "\n",
       "  number_of_reviews  last_review reviews_per_month review_rate_number  \\\n",
       "0               9.0   10/19/2021              0.21                4.0   \n",
       "1              45.0    5/21/2022              0.38                4.0   \n",
       "2               0.0          NaN               NaN                5.0   \n",
       "3             270.0     7/5/2019              4.64                4.0   \n",
       "4               9.0   11/19/2018              0.10                3.0   \n",
       "\n",
       "   calculated_host_listings_count  availability_365  \\\n",
       "0                             6.0             286.0   \n",
       "1                             2.0             228.0   \n",
       "2                             1.0             352.0   \n",
       "3                             1.0             322.0   \n",
       "4                             1.0             289.0   \n",
       "\n",
       "                                         house_rules  \n",
       "0  Clean up and treat the home the way you'd like...  \n",
       "1  Pet friendly but please confirm with me if the...  \n",
       "2  I encourage you to use my kitchen, cooking and...  \n",
       "3                                                NaN  \n",
       "4  Please no smoking in the house, porch or on th...  \n",
       "\n",
       "[5 rows x 25 columns]"
      ]
     },
     "execution_count": 13,
     "metadata": {},
     "output_type": "execute_result"
    }
   ],
   "source": [
    "df.head()"
   ]
  },
  {
   "cell_type": "code",
   "execution_count": 14,
   "id": "03c05934",
   "metadata": {},
   "outputs": [
    {
     "data": {
      "text/plain": [
       "Manhattan        43792\n",
       "Brooklyn         41842\n",
       "Queens           13267\n",
       "Bronx             2712\n",
       "Staten Island      955\n",
       "brookln              1\n",
       "manhatan             1\n",
       "Name: neighbourhood_group, dtype: int64"
      ]
     },
     "execution_count": 14,
     "metadata": {},
     "output_type": "execute_result"
    }
   ],
   "source": [
    "df.neighbourhood_group.value_counts()\n",
    "# can rename this to borough to avoid confusion. Additionally there are two mispelled boroughs"
   ]
  },
  {
   "cell_type": "code",
   "execution_count": 15,
   "id": "bf64f810",
   "metadata": {},
   "outputs": [],
   "source": [
    "df.rename(columns={'neighbourhood_group':'borough'},inplace=True)\n",
    "df.borough.replace({\"brookln\": \"Brooklyn\", \"manhatan\": \"Manhattan\"},inplace=True)"
   ]
  },
  {
   "cell_type": "markdown",
   "id": "3fae4b09",
   "metadata": {},
   "source": [
    "### Missing Boroughs"
   ]
  },
  {
   "cell_type": "code",
   "execution_count": 16,
   "id": "92d96102",
   "metadata": {},
   "outputs": [
    {
     "name": "stdout",
     "output_type": "stream",
     "text": [
      "There are 29 Null rows out of 102599 rows, 0.02% of the column is null\n",
      "Value Counts: \n",
      "Manhattan        43793\n",
      "Brooklyn         41843\n",
      "Queens           13267\n",
      "Bronx             2712\n",
      "Staten Island      955\n",
      "Name: borough, dtype: int64\n"
     ]
    }
   ],
   "source": [
    "column_summary(df.borough)"
   ]
  },
  {
   "cell_type": "code",
   "execution_count": 17,
   "id": "0e41bdb2",
   "metadata": {},
   "outputs": [
    {
     "data": {
      "text/plain": [
       "array(['Washington Heights', 'Clinton Hill', 'East Village',\n",
       "       'Upper East Side', 'Woodside', 'Williamsburg', 'Bushwick',\n",
       "       'Prospect Heights', 'Chelsea', 'East Harlem', 'Eastchester',\n",
       "       'Harlem', 'Chinatown', 'Queens Village', 'Bedford-Stuyvesant',\n",
       "       'Upper West Side'], dtype=object)"
      ]
     },
     "execution_count": 17,
     "metadata": {},
     "output_type": "execute_result"
    }
   ],
   "source": [
    "df[df.borough.isnull()][['borough','neighbourhood','lat','long']].neighbourhood.unique()"
   ]
  },
  {
   "cell_type": "code",
   "execution_count": 18,
   "id": "8de71120",
   "metadata": {},
   "outputs": [],
   "source": [
    "# df.loc[(df.neighbourhood == \"Upper West Side\") & (df.borough)][:3]"
   ]
  },
  {
   "cell_type": "markdown",
   "id": "76d0a69c",
   "metadata": {},
   "source": [
    "Can simply create a dictionary to fill in the missing boroughs based on associated neighbourhood"
   ]
  },
  {
   "cell_type": "code",
   "execution_count": 19,
   "id": "d7c68eb3",
   "metadata": {},
   "outputs": [
    {
     "name": "stdout",
     "output_type": "stream",
     "text": [
      "There are 0 Null rows out of 102599 rows, 0.0% of the column is null\n",
      "Value Counts: \n",
      "Manhattan        43806\n",
      "Brooklyn         41856\n",
      "Queens           13269\n",
      "Bronx             2713\n",
      "Staten Island      955\n",
      "Name: borough, dtype: int64\n"
     ]
    }
   ],
   "source": [
    "b_dict = { # Manhattan\n",
    "          'Washington Heights':'Manhattan','East Village':'Manhattan',\n",
    "          'Upper East Side':'Manhattan','Chelsea':'Manhattan',\n",
    "          'East Harlem':'Manhattan','Harlem':'Manhattan',\n",
    "          'Chinatown':'Manhattan','Upper West Side':'Manhattan',\n",
    "           # Brooklyn\n",
    "          'Clinton Hill':'Brooklyn','Williamsburg':'Brooklyn',\n",
    "          'Bushwick':'Brooklyn','Prospect Heights':'Brooklyn','Bedford-Stuyvesant':'Brooklyn',\n",
    "           # Queens\n",
    "          'Woodside':'Queens','Queens Village':'Queens',\n",
    "           # Bronx\n",
    "          'Eastchester':'Bronx'\n",
    "         }\n",
    "\n",
    "df.borough = df.borough.fillna(df.neighbourhood.map(b_dict)) # filling borough with dictionary\n",
    "\n",
    "column_summary(df.borough)"
   ]
  },
  {
   "cell_type": "markdown",
   "id": "28ed9d8d",
   "metadata": {},
   "source": [
    "### Neighbourhood"
   ]
  },
  {
   "cell_type": "code",
   "execution_count": 20,
   "id": "0c24e6b5",
   "metadata": {
    "scrolled": true
   },
   "outputs": [
    {
     "data": {
      "text/plain": [
       "Bedford-Stuyvesant        7937\n",
       "Williamsburg              7775\n",
       "Harlem                    5466\n",
       "Bushwick                  4982\n",
       "Hell's Kitchen            3965\n",
       "                          ... \n",
       "Rossville                    3\n",
       "Lighthouse Hill              3\n",
       "Fort Wadsworth               2\n",
       "Glen Oaks                    2\n",
       "Chelsea, Staten Island       1\n",
       "Name: neighbourhood, Length: 224, dtype: int64"
      ]
     },
     "execution_count": 20,
     "metadata": {},
     "output_type": "execute_result"
    }
   ],
   "source": [
    "df.neighbourhood.value_counts()"
   ]
  },
  {
   "cell_type": "markdown",
   "id": "7cd578b6",
   "metadata": {},
   "source": [
    "### Checking and ensuring each borough belongs in neighbourhood name\n",
    "- The value counts for if the string contains a borough should be an unique instane where the name of the neighborhood contains the borough intently. \n",
    "- The sum of value_counts should equal the sum of unique instances"
   ]
  },
  {
   "cell_type": "markdown",
   "id": "0a803af7",
   "metadata": {},
   "source": [
    "#### Brooklyn"
   ]
  },
  {
   "cell_type": "code",
   "execution_count": 21,
   "id": "cf992c7c",
   "metadata": {},
   "outputs": [
    {
     "data": {
      "text/plain": [
       "Brooklyn Heights     308\n",
       "Downtown Brooklyn    175\n",
       "Name: neighbourhood, dtype: int64"
      ]
     },
     "execution_count": 21,
     "metadata": {},
     "output_type": "execute_result"
    }
   ],
   "source": [
    "df[df['neighbourhood'].str.contains(\"Brooklyn\", na=False)].neighbourhood.value_counts()"
   ]
  },
  {
   "cell_type": "code",
   "execution_count": 22,
   "id": "262bf192",
   "metadata": {},
   "outputs": [
    {
     "data": {
      "text/plain": [
       "False    102100\n",
       "True        483\n",
       "Name: neighbourhood, dtype: int64"
      ]
     },
     "execution_count": 22,
     "metadata": {},
     "output_type": "execute_result"
    }
   ],
   "source": [
    "df.neighbourhood.str.contains('Brooklyn').value_counts() # 308 + 175 = 483"
   ]
  },
  {
   "cell_type": "markdown",
   "id": "00812ce1",
   "metadata": {},
   "source": [
    "#### Bronx"
   ]
  },
  {
   "cell_type": "code",
   "execution_count": 23,
   "id": "a9711a21",
   "metadata": {},
   "outputs": [
    {
     "data": {
      "text/plain": [
       "Bronxdale    48\n",
       "Name: neighbourhood, dtype: int64"
      ]
     },
     "execution_count": 23,
     "metadata": {},
     "output_type": "execute_result"
    }
   ],
   "source": [
    "df[df['neighbourhood'].str.contains(\"Bronx\", na=False)].neighbourhood.value_counts()"
   ]
  },
  {
   "cell_type": "code",
   "execution_count": 24,
   "id": "030c613a",
   "metadata": {},
   "outputs": [
    {
     "data": {
      "text/plain": [
       "False    102535\n",
       "True         48\n",
       "Name: neighbourhood, dtype: int64"
      ]
     },
     "execution_count": 24,
     "metadata": {},
     "output_type": "execute_result"
    }
   ],
   "source": [
    "df.neighbourhood.str.contains('Bronx').value_counts()"
   ]
  },
  {
   "cell_type": "markdown",
   "id": "e7be8ac7",
   "metadata": {},
   "source": [
    "#### Queens"
   ]
  },
  {
   "cell_type": "code",
   "execution_count": 25,
   "id": "85aae88c",
   "metadata": {},
   "outputs": [
    {
     "data": {
      "text/plain": [
       "Queens Village    147\n",
       "Name: neighbourhood, dtype: int64"
      ]
     },
     "execution_count": 25,
     "metadata": {},
     "output_type": "execute_result"
    }
   ],
   "source": [
    "df[df['neighbourhood'].str.contains(\"Queens\", na=False)].neighbourhood.value_counts()"
   ]
  },
  {
   "cell_type": "code",
   "execution_count": 26,
   "id": "173b5b4e",
   "metadata": {},
   "outputs": [
    {
     "data": {
      "text/plain": [
       "False    102436\n",
       "True        147\n",
       "Name: neighbourhood, dtype: int64"
      ]
     },
     "execution_count": 26,
     "metadata": {},
     "output_type": "execute_result"
    }
   ],
   "source": [
    "df.neighbourhood.str.contains('Queens').value_counts()"
   ]
  },
  {
   "cell_type": "markdown",
   "id": "8237b9e0",
   "metadata": {},
   "source": [
    "#### Manhattan and Staten Island"
   ]
  },
  {
   "cell_type": "code",
   "execution_count": 27,
   "id": "354fcc8d",
   "metadata": {},
   "outputs": [
    {
     "data": {
      "text/plain": [
       "Manhattan Beach    22\n",
       "Name: neighbourhood, dtype: int64"
      ]
     },
     "execution_count": 27,
     "metadata": {},
     "output_type": "execute_result"
    }
   ],
   "source": [
    "df[df['neighbourhood'].str.contains(\"Manhattan\", na=False)].neighbourhood.value_counts()"
   ]
  },
  {
   "cell_type": "code",
   "execution_count": 28,
   "id": "2573fe61",
   "metadata": {},
   "outputs": [
    {
     "data": {
      "text/plain": [
       "False    102561\n",
       "True         22\n",
       "Name: neighbourhood, dtype: int64"
      ]
     },
     "execution_count": 28,
     "metadata": {},
     "output_type": "execute_result"
    }
   ],
   "source": [
    "df.neighbourhood.str.contains('Manhattan').value_counts()"
   ]
  },
  {
   "cell_type": "code",
   "execution_count": 29,
   "id": "f1da79e9",
   "metadata": {},
   "outputs": [
    {
     "data": {
      "text/plain": [
       "Bay Terrace                   8\n",
       "Bay Terrace, Staten Island    4\n",
       "Name: neighbourhood, dtype: int64"
      ]
     },
     "execution_count": 29,
     "metadata": {},
     "output_type": "execute_result"
    }
   ],
   "source": [
    "df[df['neighbourhood'].str.contains(\"Bay Terrace\", na=False)].neighbourhood.value_counts()"
   ]
  },
  {
   "cell_type": "code",
   "execution_count": 30,
   "id": "cc315845",
   "metadata": {},
   "outputs": [
    {
     "data": {
      "text/plain": [
       "Chelsea                   2285\n",
       "Chelsea, Staten Island       1\n",
       "Name: neighbourhood, dtype: int64"
      ]
     },
     "execution_count": 30,
     "metadata": {},
     "output_type": "execute_result"
    }
   ],
   "source": [
    "df[df['neighbourhood'].str.contains(\"Chelsea\", na=False)].neighbourhood.value_counts()"
   ]
  },
  {
   "cell_type": "code",
   "execution_count": 31,
   "id": "184fc5ca",
   "metadata": {},
   "outputs": [
    {
     "data": {
      "text/plain": [
       "Bay Terrace, Staten Island    4\n",
       "Chelsea, Staten Island        1\n",
       "Name: neighbourhood, dtype: int64"
      ]
     },
     "execution_count": 31,
     "metadata": {},
     "output_type": "execute_result"
    }
   ],
   "source": [
    "df[df['neighbourhood'].str.contains(\"Staten Island\", na=False)].neighbourhood.value_counts()"
   ]
  },
  {
   "cell_type": "code",
   "execution_count": 32,
   "id": "ff6c57dc",
   "metadata": {},
   "outputs": [],
   "source": [
    "# for consistency I am keeping the associated borough next to repeating neighbourhood names\n",
    "df.neighbourhood.replace({\"Chelsea\": \"Chelsea, Manhattan\", \n",
    "                          \"Bay Terrace\": \"Bay Terrace, Queens\"},inplace=True)"
   ]
  },
  {
   "cell_type": "markdown",
   "id": "b39e3229",
   "metadata": {},
   "source": [
    "### Neighbourhoods"
   ]
  },
  {
   "cell_type": "code",
   "execution_count": 33,
   "id": "1b55cedd",
   "metadata": {},
   "outputs": [
    {
     "name": "stdout",
     "output_type": "stream",
     "text": [
      "There are 16 Null rows out of 102599 rows, 0.01% of the column is null\n",
      "Value Counts: \n",
      "Bedford-Stuyvesant        7937\n",
      "Williamsburg              7775\n",
      "Harlem                    5466\n",
      "Bushwick                  4982\n",
      "Hell's Kitchen            3965\n",
      "                          ... \n",
      "Rossville                    3\n",
      "Lighthouse Hill              3\n",
      "Fort Wadsworth               2\n",
      "Glen Oaks                    2\n",
      "Chelsea, Staten Island       1\n",
      "Name: neighbourhood, Length: 224, dtype: int64\n"
     ]
    }
   ],
   "source": [
    "column_summary(df.neighbourhood)"
   ]
  },
  {
   "cell_type": "markdown",
   "id": "badf5adf",
   "metadata": {},
   "source": [
    "I am comfortable dropping this data since the total amount of data dropped will not be significant as opposed to pinpointing the neighborhood based on latitude and longitude."
   ]
  },
  {
   "cell_type": "code",
   "execution_count": 34,
   "id": "07a6026f",
   "metadata": {},
   "outputs": [
    {
     "data": {
      "text/plain": [
       "(102599, 25)"
      ]
     },
     "execution_count": 34,
     "metadata": {},
     "output_type": "execute_result"
    }
   ],
   "source": [
    "df.shape"
   ]
  },
  {
   "cell_type": "code",
   "execution_count": 35,
   "id": "227b35ad",
   "metadata": {},
   "outputs": [
    {
     "data": {
      "text/plain": [
       "count                 102583\n",
       "unique                   224\n",
       "top       Bedford-Stuyvesant\n",
       "freq                    7937\n",
       "Name: neighbourhood, dtype: object"
      ]
     },
     "execution_count": 35,
     "metadata": {},
     "output_type": "execute_result"
    }
   ],
   "source": [
    "df.neighbourhood.describe()"
   ]
  },
  {
   "cell_type": "code",
   "execution_count": 36,
   "id": "89a4498d",
   "metadata": {},
   "outputs": [],
   "source": [
    "df = df[df.neighbourhood.notna()]"
   ]
  },
  {
   "cell_type": "code",
   "execution_count": 37,
   "id": "182d5d97",
   "metadata": {},
   "outputs": [
    {
     "data": {
      "text/plain": [
       "count                 102583\n",
       "unique                   224\n",
       "top       Bedford-Stuyvesant\n",
       "freq                    7937\n",
       "Name: neighbourhood, dtype: object"
      ]
     },
     "execution_count": 37,
     "metadata": {},
     "output_type": "execute_result"
    }
   ],
   "source": [
    "df.neighbourhood.describe()"
   ]
  },
  {
   "cell_type": "code",
   "execution_count": 38,
   "id": "346653e0",
   "metadata": {},
   "outputs": [
    {
     "data": {
      "text/plain": [
       "(102583, 25)"
      ]
     },
     "execution_count": 38,
     "metadata": {},
     "output_type": "execute_result"
    }
   ],
   "source": [
    "df.shape"
   ]
  },
  {
   "cell_type": "markdown",
   "id": "ed7bcd38",
   "metadata": {},
   "source": [
    "### Host Name"
   ]
  },
  {
   "cell_type": "code",
   "execution_count": 39,
   "id": "9d9257e1",
   "metadata": {},
   "outputs": [
    {
     "name": "stdout",
     "output_type": "stream",
     "text": [
      "There are 406 Null rows out of 102583 rows, 0.39% of the column is null\n",
      "Value Counts: \n",
      "Michael         881\n",
      "David           764\n",
      "John            581\n",
      "Alex            546\n",
      "Sonder (NYC)    516\n",
      "               ... \n",
      "Sonskeshana       1\n",
      "Soph              1\n",
      "Anshu             1\n",
      "Hayet             1\n",
      "Shuhel            1\n",
      "Name: host_name, Length: 13190, dtype: int64\n"
     ]
    }
   ],
   "source": [
    "column_summary(df.host_name)"
   ]
  },
  {
   "cell_type": "code",
   "execution_count": 40,
   "id": "79e365fb",
   "metadata": {},
   "outputs": [
    {
     "data": {
      "text/plain": [
       "count      102177\n",
       "unique      13190\n",
       "top       Michael\n",
       "freq          881\n",
       "Name: host_name, dtype: object"
      ]
     },
     "execution_count": 40,
     "metadata": {},
     "output_type": "execute_result"
    }
   ],
   "source": [
    "df.host_name.describe()"
   ]
  },
  {
   "cell_type": "code",
   "execution_count": 41,
   "id": "98b8d557",
   "metadata": {},
   "outputs": [],
   "source": [
    "# can simply fill the missing host name by associated id since there are no missing id's\n",
    "df['host_name'] = df.groupby('host_id')['host_name'].ffill().bfill()"
   ]
  },
  {
   "cell_type": "code",
   "execution_count": 42,
   "id": "f4e6fb4f",
   "metadata": {},
   "outputs": [
    {
     "data": {
      "text/plain": [
       "count      102583\n",
       "unique      13190\n",
       "top       Michael\n",
       "freq          882\n",
       "Name: host_name, dtype: object"
      ]
     },
     "execution_count": 42,
     "metadata": {},
     "output_type": "execute_result"
    }
   ],
   "source": [
    "df.host_name.describe()"
   ]
  },
  {
   "cell_type": "code",
   "execution_count": 43,
   "id": "b3d20dde",
   "metadata": {
    "scrolled": true
   },
   "outputs": [
    {
     "name": "stdout",
     "output_type": "stream",
     "text": [
      "There are 0 Null rows out of 102583 rows, 0.0% of the column is null\n",
      "Value Counts: \n",
      "Michael            882\n",
      "David              772\n",
      "John               586\n",
      "Alex               546\n",
      "Sonder (NYC)       517\n",
      "                  ... \n",
      "Zhanhong             1\n",
      "Kayser               1\n",
      "Nachi                1\n",
      "Rabi & Soukaina      1\n",
      "Egon                 1\n",
      "Name: host_name, Length: 13190, dtype: int64\n"
     ]
    }
   ],
   "source": [
    "column_summary(df.host_name)"
   ]
  },
  {
   "cell_type": "markdown",
   "id": "41d73343",
   "metadata": {},
   "source": [
    "### Latitude and Longitude"
   ]
  },
  {
   "cell_type": "code",
   "execution_count": 44,
   "id": "1e360282",
   "metadata": {},
   "outputs": [
    {
     "data": {
      "text/html": [
       "<div>\n",
       "<style scoped>\n",
       "    .dataframe tbody tr th:only-of-type {\n",
       "        vertical-align: middle;\n",
       "    }\n",
       "\n",
       "    .dataframe tbody tr th {\n",
       "        vertical-align: top;\n",
       "    }\n",
       "\n",
       "    .dataframe thead th {\n",
       "        text-align: right;\n",
       "    }\n",
       "</style>\n",
       "<table border=\"1\" class=\"dataframe\">\n",
       "  <thead>\n",
       "    <tr style=\"text-align: right;\">\n",
       "      <th></th>\n",
       "      <th>id</th>\n",
       "      <th>name</th>\n",
       "      <th>host_id</th>\n",
       "      <th>host_identity_verified</th>\n",
       "      <th>host_name</th>\n",
       "      <th>borough</th>\n",
       "      <th>neighbourhood</th>\n",
       "      <th>lat</th>\n",
       "      <th>long</th>\n",
       "      <th>country</th>\n",
       "      <th>...</th>\n",
       "      <th>price</th>\n",
       "      <th>service_fee</th>\n",
       "      <th>minimum_nights</th>\n",
       "      <th>number_of_reviews</th>\n",
       "      <th>last_review</th>\n",
       "      <th>reviews_per_month</th>\n",
       "      <th>review_rate_number</th>\n",
       "      <th>calculated_host_listings_count</th>\n",
       "      <th>availability_365</th>\n",
       "      <th>house_rules</th>\n",
       "    </tr>\n",
       "  </thead>\n",
       "  <tbody>\n",
       "    <tr>\n",
       "      <th>779</th>\n",
       "      <td>1431578</td>\n",
       "      <td>Large, furnished room in a 2 bedroom!</td>\n",
       "      <td>20368956893</td>\n",
       "      <td>0</td>\n",
       "      <td>Gibson</td>\n",
       "      <td>Brooklyn</td>\n",
       "      <td>Crown Heights</td>\n",
       "      <td>NaN</td>\n",
       "      <td>NaN</td>\n",
       "      <td>United States</td>\n",
       "      <td>...</td>\n",
       "      <td>$539</td>\n",
       "      <td>$108</td>\n",
       "      <td>1.0</td>\n",
       "      <td>1.0</td>\n",
       "      <td>3/18/2017</td>\n",
       "      <td>0.04</td>\n",
       "      <td>2.0</td>\n",
       "      <td>1.0</td>\n",
       "      <td>41.0</td>\n",
       "      <td>- Weekly and monthly prices are much lower - P...</td>\n",
       "    </tr>\n",
       "    <tr>\n",
       "      <th>785</th>\n",
       "      <td>1434892</td>\n",
       "      <td>Authentic NY Charming Artist Loft</td>\n",
       "      <td>66486085219</td>\n",
       "      <td>0</td>\n",
       "      <td>Bailey</td>\n",
       "      <td>Brooklyn</td>\n",
       "      <td>Greenpoint</td>\n",
       "      <td>NaN</td>\n",
       "      <td>NaN</td>\n",
       "      <td>United States</td>\n",
       "      <td>...</td>\n",
       "      <td>$1,058</td>\n",
       "      <td>$212</td>\n",
       "      <td>5.0</td>\n",
       "      <td>14.0</td>\n",
       "      <td>6/19/2019</td>\n",
       "      <td>0.16</td>\n",
       "      <td>5.0</td>\n",
       "      <td>1.0</td>\n",
       "      <td>226.0</td>\n",
       "      <td>We live and let live - hoping that you'd be re...</td>\n",
       "    </tr>\n",
       "    <tr>\n",
       "      <th>799</th>\n",
       "      <td>1442624</td>\n",
       "      <td>Huge room with private balcony</td>\n",
       "      <td>69386945815</td>\n",
       "      <td>1</td>\n",
       "      <td>Hunt</td>\n",
       "      <td>Manhattan</td>\n",
       "      <td>East Village</td>\n",
       "      <td>NaN</td>\n",
       "      <td>NaN</td>\n",
       "      <td>United States</td>\n",
       "      <td>...</td>\n",
       "      <td>$506</td>\n",
       "      <td>$101</td>\n",
       "      <td>6.0</td>\n",
       "      <td>1.0</td>\n",
       "      <td>5/6/2013</td>\n",
       "      <td>0.01</td>\n",
       "      <td>1.0</td>\n",
       "      <td>1.0</td>\n",
       "      <td>240.0</td>\n",
       "      <td>Expect respect for the family and the space--t...</td>\n",
       "    </tr>\n",
       "    <tr>\n",
       "      <th>814</th>\n",
       "      <td>1450908</td>\n",
       "      <td>Decorators 5-Star Flat West Village</td>\n",
       "      <td>33280739304</td>\n",
       "      <td>1</td>\n",
       "      <td>Watson</td>\n",
       "      <td>Manhattan</td>\n",
       "      <td>West Village</td>\n",
       "      <td>NaN</td>\n",
       "      <td>NaN</td>\n",
       "      <td>United States</td>\n",
       "      <td>...</td>\n",
       "      <td>$381</td>\n",
       "      <td>$76</td>\n",
       "      <td>20.0</td>\n",
       "      <td>157.0</td>\n",
       "      <td>8/11/2016</td>\n",
       "      <td>1.71</td>\n",
       "      <td>4.0</td>\n",
       "      <td>1.0</td>\n",
       "      <td>61.0</td>\n",
       "      <td>Please keep it clean, thats all we really ask ...</td>\n",
       "    </tr>\n",
       "    <tr>\n",
       "      <th>843</th>\n",
       "      <td>1466925</td>\n",
       "      <td>Nice Private Room Beauty in Queens</td>\n",
       "      <td>15305733205</td>\n",
       "      <td>1</td>\n",
       "      <td>Roberts</td>\n",
       "      <td>Queens</td>\n",
       "      <td>Elmhurst</td>\n",
       "      <td>NaN</td>\n",
       "      <td>NaN</td>\n",
       "      <td>United States</td>\n",
       "      <td>...</td>\n",
       "      <td>$224</td>\n",
       "      <td>$45</td>\n",
       "      <td>1.0</td>\n",
       "      <td>63.0</td>\n",
       "      <td>5/18/2019</td>\n",
       "      <td>0.89</td>\n",
       "      <td>3.0</td>\n",
       "      <td>2.0</td>\n",
       "      <td>70.0</td>\n",
       "      <td>NaN</td>\n",
       "    </tr>\n",
       "    <tr>\n",
       "      <th>885</th>\n",
       "      <td>1490122</td>\n",
       "      <td>Cute Room in Historic Loft!</td>\n",
       "      <td>42267829819</td>\n",
       "      <td>0</td>\n",
       "      <td>Jones</td>\n",
       "      <td>Brooklyn</td>\n",
       "      <td>Greenpoint</td>\n",
       "      <td>NaN</td>\n",
       "      <td>NaN</td>\n",
       "      <td>United States</td>\n",
       "      <td>...</td>\n",
       "      <td>$524</td>\n",
       "      <td>$105</td>\n",
       "      <td>14.0</td>\n",
       "      <td>22.0</td>\n",
       "      <td>5/2/2019</td>\n",
       "      <td>0.25</td>\n",
       "      <td>1.0</td>\n",
       "      <td>1.0</td>\n",
       "      <td>266.0</td>\n",
       "      <td>Pets are cool (just clean up after them!), smo...</td>\n",
       "    </tr>\n",
       "    <tr>\n",
       "      <th>926</th>\n",
       "      <td>1512766</td>\n",
       "      <td>21 day Chelsea Apartment rental</td>\n",
       "      <td>10876728736</td>\n",
       "      <td>0</td>\n",
       "      <td>Owens</td>\n",
       "      <td>Manhattan</td>\n",
       "      <td>Flatiron District</td>\n",
       "      <td>NaN</td>\n",
       "      <td>NaN</td>\n",
       "      <td>United States</td>\n",
       "      <td>...</td>\n",
       "      <td>$623</td>\n",
       "      <td>$125</td>\n",
       "      <td>21.0</td>\n",
       "      <td>0.0</td>\n",
       "      <td>NaN</td>\n",
       "      <td>NaN</td>\n",
       "      <td>2.0</td>\n",
       "      <td>1.0</td>\n",
       "      <td>104.0</td>\n",
       "      <td>NaN</td>\n",
       "    </tr>\n",
       "    <tr>\n",
       "      <th>986</th>\n",
       "      <td>1545904</td>\n",
       "      <td>New York City for All Seasons!</td>\n",
       "      <td>26437872336</td>\n",
       "      <td>0</td>\n",
       "      <td>Douglas</td>\n",
       "      <td>Manhattan</td>\n",
       "      <td>Upper West Side</td>\n",
       "      <td>NaN</td>\n",
       "      <td>NaN</td>\n",
       "      <td>United States</td>\n",
       "      <td>...</td>\n",
       "      <td>$413</td>\n",
       "      <td>$83</td>\n",
       "      <td>1.0</td>\n",
       "      <td>25.0</td>\n",
       "      <td>6/22/2013</td>\n",
       "      <td>0.28</td>\n",
       "      <td>2.0</td>\n",
       "      <td>1.0</td>\n",
       "      <td>259.0</td>\n",
       "      <td>No Smoking No Pets</td>\n",
       "    </tr>\n",
       "  </tbody>\n",
       "</table>\n",
       "<p>8 rows × 25 columns</p>\n",
       "</div>"
      ],
      "text/plain": [
       "          id                                   name      host_id  \\\n",
       "779  1431578  Large, furnished room in a 2 bedroom!  20368956893   \n",
       "785  1434892      Authentic NY Charming Artist Loft  66486085219   \n",
       "799  1442624         Huge room with private balcony  69386945815   \n",
       "814  1450908    Decorators 5-Star Flat West Village  33280739304   \n",
       "843  1466925     Nice Private Room Beauty in Queens  15305733205   \n",
       "885  1490122            Cute Room in Historic Loft!  42267829819   \n",
       "926  1512766        21 day Chelsea Apartment rental  10876728736   \n",
       "986  1545904         New York City for All Seasons!  26437872336   \n",
       "\n",
       "     host_identity_verified host_name    borough      neighbourhood  lat  \\\n",
       "779                       0    Gibson   Brooklyn      Crown Heights  NaN   \n",
       "785                       0    Bailey   Brooklyn         Greenpoint  NaN   \n",
       "799                       1      Hunt  Manhattan       East Village  NaN   \n",
       "814                       1    Watson  Manhattan       West Village  NaN   \n",
       "843                       1   Roberts     Queens           Elmhurst  NaN   \n",
       "885                       0     Jones   Brooklyn         Greenpoint  NaN   \n",
       "926                       0     Owens  Manhattan  Flatiron District  NaN   \n",
       "986                       0   Douglas  Manhattan    Upper West Side  NaN   \n",
       "\n",
       "     long        country  ...    price service_fee minimum_nights  \\\n",
       "779   NaN  United States  ...    $539        $108             1.0   \n",
       "785   NaN  United States  ...  $1,058        $212             5.0   \n",
       "799   NaN  United States  ...    $506        $101             6.0   \n",
       "814   NaN  United States  ...    $381         $76            20.0   \n",
       "843   NaN  United States  ...    $224         $45             1.0   \n",
       "885   NaN  United States  ...    $524        $105            14.0   \n",
       "926   NaN  United States  ...    $623        $125            21.0   \n",
       "986   NaN  United States  ...    $413         $83             1.0   \n",
       "\n",
       "    number_of_reviews  last_review reviews_per_month review_rate_number  \\\n",
       "779               1.0    3/18/2017              0.04                2.0   \n",
       "785              14.0    6/19/2019              0.16                5.0   \n",
       "799               1.0     5/6/2013              0.01                1.0   \n",
       "814             157.0    8/11/2016              1.71                4.0   \n",
       "843              63.0    5/18/2019              0.89                3.0   \n",
       "885              22.0     5/2/2019              0.25                1.0   \n",
       "926               0.0          NaN               NaN                2.0   \n",
       "986              25.0    6/22/2013              0.28                2.0   \n",
       "\n",
       "     calculated_host_listings_count  availability_365  \\\n",
       "779                             1.0              41.0   \n",
       "785                             1.0             226.0   \n",
       "799                             1.0             240.0   \n",
       "814                             1.0              61.0   \n",
       "843                             2.0              70.0   \n",
       "885                             1.0             266.0   \n",
       "926                             1.0             104.0   \n",
       "986                             1.0             259.0   \n",
       "\n",
       "                                           house_rules  \n",
       "779  - Weekly and monthly prices are much lower - P...  \n",
       "785  We live and let live - hoping that you'd be re...  \n",
       "799  Expect respect for the family and the space--t...  \n",
       "814  Please keep it clean, thats all we really ask ...  \n",
       "843                                                NaN  \n",
       "885  Pets are cool (just clean up after them!), smo...  \n",
       "926                                                NaN  \n",
       "986                                 No Smoking No Pets  \n",
       "\n",
       "[8 rows x 25 columns]"
      ]
     },
     "execution_count": 44,
     "metadata": {},
     "output_type": "execute_result"
    }
   ],
   "source": [
    "df[df.lat.isnull()]"
   ]
  },
  {
   "cell_type": "code",
   "execution_count": 45,
   "id": "fcca73e2",
   "metadata": {},
   "outputs": [],
   "source": [
    "#df.groupby(['borough','neighbourhood'])['lat','long'].ffill().bfill()"
   ]
  },
  {
   "cell_type": "code",
   "execution_count": 46,
   "id": "4ebf002e",
   "metadata": {},
   "outputs": [],
   "source": [
    "# The same 8 rows for latitude and longitude are null\n",
    "# Given the small amount I will just drop these rows\n",
    "df = df[df.lat.notna()]"
   ]
  },
  {
   "cell_type": "code",
   "execution_count": 47,
   "id": "aae92756",
   "metadata": {},
   "outputs": [
    {
     "data": {
      "text/plain": [
       "(102575, 25)"
      ]
     },
     "execution_count": 47,
     "metadata": {},
     "output_type": "execute_result"
    }
   ],
   "source": [
    "df.shape"
   ]
  },
  {
   "cell_type": "markdown",
   "id": "bc4f64a5",
   "metadata": {},
   "source": [
    "### Country and Country Code"
   ]
  },
  {
   "cell_type": "code",
   "execution_count": 48,
   "id": "78413e98",
   "metadata": {},
   "outputs": [],
   "source": [
    "# duplicate columns, dropping country_code, renaming all United States to US\n",
    "df['country'] = ['US']*len(df)\n",
    "df.drop(columns={'country_code'},inplace=True)\n",
    "df.drop(columns='minimum_nights',inplace=True)"
   ]
  },
  {
   "cell_type": "markdown",
   "id": "a9e1c51c",
   "metadata": {},
   "source": [
    "### Instant Bookable"
   ]
  },
  {
   "cell_type": "code",
   "execution_count": 49,
   "id": "503e1c4f",
   "metadata": {},
   "outputs": [],
   "source": [
    "# making this a dummy column, all null values will default to not instantly bookable\n",
    "# only keeping instance as instantly bookable if it is known to be true\n",
    "df.instant_bookable = pd.get_dummies(df.instant_bookable,drop_first=True)"
   ]
  },
  {
   "cell_type": "code",
   "execution_count": 50,
   "id": "7e372b25",
   "metadata": {},
   "outputs": [
    {
     "data": {
      "text/plain": [
       "id                                    0\n",
       "name                                250\n",
       "host_id                               0\n",
       "host_identity_verified                0\n",
       "host_name                             0\n",
       "borough                               0\n",
       "neighbourhood                         0\n",
       "lat                                   0\n",
       "long                                  0\n",
       "country                               0\n",
       "instant_bookable                      0\n",
       "cancellation_policy                  74\n",
       "room_type                             0\n",
       "construction_year                   213\n",
       "price                               246\n",
       "service_fee                         273\n",
       "minimum_nights                      408\n",
       "number_of_reviews                   183\n",
       "last_review                       15892\n",
       "reviews_per_month                 15878\n",
       "review_rate_number                  326\n",
       "calculated_host_listings_count      319\n",
       "availability_365                    447\n",
       "house_rules                       52123\n",
       "dtype: int64"
      ]
     },
     "execution_count": 50,
     "metadata": {},
     "output_type": "execute_result"
    }
   ],
   "source": [
    "df.isnull().sum()"
   ]
  },
  {
   "cell_type": "markdown",
   "id": "13af0b03",
   "metadata": {},
   "source": [
    "### Cancellation Policy"
   ]
  },
  {
   "cell_type": "code",
   "execution_count": 51,
   "id": "322d04c1",
   "metadata": {},
   "outputs": [],
   "source": [
    "# dropping null values, there are 74 missing values and I don't see a reliable way to fill these missing values\n",
    "df = df[df.cancellation_policy.notna()]"
   ]
  },
  {
   "cell_type": "code",
   "execution_count": 52,
   "id": "862ce9ae",
   "metadata": {},
   "outputs": [
    {
     "data": {
      "text/html": [
       "<div>\n",
       "<style scoped>\n",
       "    .dataframe tbody tr th:only-of-type {\n",
       "        vertical-align: middle;\n",
       "    }\n",
       "\n",
       "    .dataframe tbody tr th {\n",
       "        vertical-align: top;\n",
       "    }\n",
       "\n",
       "    .dataframe thead th {\n",
       "        text-align: right;\n",
       "    }\n",
       "</style>\n",
       "<table border=\"1\" class=\"dataframe\">\n",
       "  <thead>\n",
       "    <tr style=\"text-align: right;\">\n",
       "      <th></th>\n",
       "      <th>id</th>\n",
       "      <th>name</th>\n",
       "      <th>host_id</th>\n",
       "      <th>host_identity_verified</th>\n",
       "      <th>host_name</th>\n",
       "      <th>borough</th>\n",
       "      <th>neighbourhood</th>\n",
       "      <th>lat</th>\n",
       "      <th>long</th>\n",
       "      <th>country</th>\n",
       "      <th>...</th>\n",
       "      <th>price</th>\n",
       "      <th>service_fee</th>\n",
       "      <th>minimum_nights</th>\n",
       "      <th>number_of_reviews</th>\n",
       "      <th>last_review</th>\n",
       "      <th>reviews_per_month</th>\n",
       "      <th>review_rate_number</th>\n",
       "      <th>calculated_host_listings_count</th>\n",
       "      <th>availability_365</th>\n",
       "      <th>house_rules</th>\n",
       "    </tr>\n",
       "  </thead>\n",
       "  <tbody>\n",
       "    <tr>\n",
       "      <th>118</th>\n",
       "      <td>1066507</td>\n",
       "      <td>NaN</td>\n",
       "      <td>87894881413</td>\n",
       "      <td>0</td>\n",
       "      <td>David</td>\n",
       "      <td>Manhattan</td>\n",
       "      <td>Upper West Side</td>\n",
       "      <td>40.77823</td>\n",
       "      <td>-73.97637</td>\n",
       "      <td>US</td>\n",
       "      <td>...</td>\n",
       "      <td>$1,154</td>\n",
       "      <td>$231</td>\n",
       "      <td>6.0</td>\n",
       "      <td>27.0</td>\n",
       "      <td>4/27/2019</td>\n",
       "      <td>0.27</td>\n",
       "      <td>NaN</td>\n",
       "      <td>NaN</td>\n",
       "      <td>237.0</td>\n",
       "      <td>This is our family home, not a rental that we ...</td>\n",
       "    </tr>\n",
       "    <tr>\n",
       "      <th>119</th>\n",
       "      <td>1067060</td>\n",
       "      <td>Great Large 1 BR apt  in East Village!</td>\n",
       "      <td>27506185339</td>\n",
       "      <td>0</td>\n",
       "      <td>Adelaide</td>\n",
       "      <td>Manhattan</td>\n",
       "      <td>East Village</td>\n",
       "      <td>40.72555</td>\n",
       "      <td>-73.97965</td>\n",
       "      <td>US</td>\n",
       "      <td>...</td>\n",
       "      <td>$737</td>\n",
       "      <td>$147</td>\n",
       "      <td>1.0</td>\n",
       "      <td>115.0</td>\n",
       "      <td>6/7/2019</td>\n",
       "      <td>1.05</td>\n",
       "      <td>NaN</td>\n",
       "      <td>NaN</td>\n",
       "      <td>242.0</td>\n",
       "      <td>Please pick up after yourself if you use the k...</td>\n",
       "    </tr>\n",
       "    <tr>\n",
       "      <th>120</th>\n",
       "      <td>1067612</td>\n",
       "      <td>Eveland Private Bed &amp; Living Room w/ Own Entrance</td>\n",
       "      <td>25474679480</td>\n",
       "      <td>0</td>\n",
       "      <td>Fenton</td>\n",
       "      <td>Brooklyn</td>\n",
       "      <td>South Slope</td>\n",
       "      <td>40.66831</td>\n",
       "      <td>-73.98604</td>\n",
       "      <td>US</td>\n",
       "      <td>...</td>\n",
       "      <td>$456</td>\n",
       "      <td>$91</td>\n",
       "      <td>2.0</td>\n",
       "      <td>354.0</td>\n",
       "      <td>5/20/2019</td>\n",
       "      <td>3.20</td>\n",
       "      <td>NaN</td>\n",
       "      <td>NaN</td>\n",
       "      <td>227.0</td>\n",
       "      <td>- There is no dedicated parking spot for this ...</td>\n",
       "    </tr>\n",
       "    <tr>\n",
       "      <th>191</th>\n",
       "      <td>1106825</td>\n",
       "      <td>LUX APT IN TIMES SQUARE NEW BUILDING</td>\n",
       "      <td>93725364475</td>\n",
       "      <td>0</td>\n",
       "      <td>Aiden</td>\n",
       "      <td>Manhattan</td>\n",
       "      <td>Hell's Kitchen</td>\n",
       "      <td>40.76307</td>\n",
       "      <td>-73.99665</td>\n",
       "      <td>US</td>\n",
       "      <td>...</td>\n",
       "      <td>$539</td>\n",
       "      <td>$108</td>\n",
       "      <td>NaN</td>\n",
       "      <td>41.0</td>\n",
       "      <td>6/26/2025</td>\n",
       "      <td>0.38</td>\n",
       "      <td>2.0</td>\n",
       "      <td>1.0</td>\n",
       "      <td>NaN</td>\n",
       "      <td>You will be sharing a bathroom, so you must be...</td>\n",
       "    </tr>\n",
       "    <tr>\n",
       "      <th>192</th>\n",
       "      <td>1107378</td>\n",
       "      <td>Designer 1 BR Duplex w/ Terrace- Spectacular V...</td>\n",
       "      <td>11711269275</td>\n",
       "      <td>1</td>\n",
       "      <td>Antony</td>\n",
       "      <td>Manhattan</td>\n",
       "      <td>Lower East Side</td>\n",
       "      <td>40.71882</td>\n",
       "      <td>-73.98852</td>\n",
       "      <td>US</td>\n",
       "      <td>...</td>\n",
       "      <td>$232</td>\n",
       "      <td>$46</td>\n",
       "      <td>NaN</td>\n",
       "      <td>109.0</td>\n",
       "      <td>6/15/2019</td>\n",
       "      <td>1.04</td>\n",
       "      <td>2.0</td>\n",
       "      <td>1.0</td>\n",
       "      <td>NaN</td>\n",
       "      <td>You're welcome to use our kitchen, we just ask...</td>\n",
       "    </tr>\n",
       "    <tr>\n",
       "      <th>...</th>\n",
       "      <td>...</td>\n",
       "      <td>...</td>\n",
       "      <td>...</td>\n",
       "      <td>...</td>\n",
       "      <td>...</td>\n",
       "      <td>...</td>\n",
       "      <td>...</td>\n",
       "      <td>...</td>\n",
       "      <td>...</td>\n",
       "      <td>...</td>\n",
       "      <td>...</td>\n",
       "      <td>...</td>\n",
       "      <td>...</td>\n",
       "      <td>...</td>\n",
       "      <td>...</td>\n",
       "      <td>...</td>\n",
       "      <td>...</td>\n",
       "      <td>...</td>\n",
       "      <td>...</td>\n",
       "      <td>...</td>\n",
       "      <td>...</td>\n",
       "    </tr>\n",
       "    <tr>\n",
       "      <th>102052</th>\n",
       "      <td>57364656</td>\n",
       "      <td>☀️Private, cozy &amp; quiet room in Inwood Manhatt...</td>\n",
       "      <td>74740790774</td>\n",
       "      <td>0</td>\n",
       "      <td>Zhoe</td>\n",
       "      <td>Manhattan</td>\n",
       "      <td>Inwood</td>\n",
       "      <td>40.86857</td>\n",
       "      <td>-73.91577</td>\n",
       "      <td>US</td>\n",
       "      <td>...</td>\n",
       "      <td>$1,183</td>\n",
       "      <td>NaN</td>\n",
       "      <td>4.0</td>\n",
       "      <td>95.0</td>\n",
       "      <td>7/1/2019</td>\n",
       "      <td>3.65</td>\n",
       "      <td>2.0</td>\n",
       "      <td>1.0</td>\n",
       "      <td>323.0</td>\n",
       "      <td>This place is about enjoying good times and th...</td>\n",
       "    </tr>\n",
       "    <tr>\n",
       "      <th>102053</th>\n",
       "      <td>57365208</td>\n",
       "      <td>Cozy bright room near Prospect Park</td>\n",
       "      <td>77326652202</td>\n",
       "      <td>0</td>\n",
       "      <td>Mariam</td>\n",
       "      <td>Brooklyn</td>\n",
       "      <td>Flatbush</td>\n",
       "      <td>40.64945</td>\n",
       "      <td>-73.96108</td>\n",
       "      <td>US</td>\n",
       "      <td>...</td>\n",
       "      <td>$696</td>\n",
       "      <td>NaN</td>\n",
       "      <td>7.0</td>\n",
       "      <td>12.0</td>\n",
       "      <td>3/27/2019</td>\n",
       "      <td>0.44</td>\n",
       "      <td>5.0</td>\n",
       "      <td>1.0</td>\n",
       "      <td>0.0</td>\n",
       "      <td>Shoes off Clean After yourself Turn Lights and...</td>\n",
       "    </tr>\n",
       "    <tr>\n",
       "      <th>102054</th>\n",
       "      <td>57365760</td>\n",
       "      <td>Private Bedroom with Amazing Rooftop View</td>\n",
       "      <td>45936254757</td>\n",
       "      <td>1</td>\n",
       "      <td>Trey</td>\n",
       "      <td>Brooklyn</td>\n",
       "      <td>Bushwick</td>\n",
       "      <td>40.69872</td>\n",
       "      <td>-73.92718</td>\n",
       "      <td>US</td>\n",
       "      <td>...</td>\n",
       "      <td>$909</td>\n",
       "      <td>NaN</td>\n",
       "      <td>1.0</td>\n",
       "      <td>19.0</td>\n",
       "      <td>8/31/2017</td>\n",
       "      <td>0.72</td>\n",
       "      <td>3.0</td>\n",
       "      <td>2.0</td>\n",
       "      <td>0.0</td>\n",
       "      <td>#NAME?</td>\n",
       "    </tr>\n",
       "    <tr>\n",
       "      <th>102055</th>\n",
       "      <td>57366313</td>\n",
       "      <td>Pretty Brooklyn One-Bedroom for 2 to 4 people</td>\n",
       "      <td>23801060917</td>\n",
       "      <td>1</td>\n",
       "      <td>Michael</td>\n",
       "      <td>Brooklyn</td>\n",
       "      <td>Bedford-Stuyvesant</td>\n",
       "      <td>40.67810</td>\n",
       "      <td>-73.90822</td>\n",
       "      <td>US</td>\n",
       "      <td>...</td>\n",
       "      <td>$387</td>\n",
       "      <td>NaN</td>\n",
       "      <td>2.0</td>\n",
       "      <td>50.0</td>\n",
       "      <td>6/26/2019</td>\n",
       "      <td>3.12</td>\n",
       "      <td>4.0</td>\n",
       "      <td>2.0</td>\n",
       "      <td>235.0</td>\n",
       "      <td>* Check out: 10am * We made an effort to keep ...</td>\n",
       "    </tr>\n",
       "    <tr>\n",
       "      <th>102056</th>\n",
       "      <td>57366865</td>\n",
       "      <td>Room &amp; private bathroom in historic Harlem</td>\n",
       "      <td>15593031571</td>\n",
       "      <td>0</td>\n",
       "      <td>Shireen</td>\n",
       "      <td>Manhattan</td>\n",
       "      <td>Harlem</td>\n",
       "      <td>40.81248</td>\n",
       "      <td>-73.94317</td>\n",
       "      <td>US</td>\n",
       "      <td>...</td>\n",
       "      <td>$848</td>\n",
       "      <td>NaN</td>\n",
       "      <td>2.0</td>\n",
       "      <td>0.0</td>\n",
       "      <td>NaN</td>\n",
       "      <td>NaN</td>\n",
       "      <td>1.0</td>\n",
       "      <td>1.0</td>\n",
       "      <td>0.0</td>\n",
       "      <td>Each of us is working and/or going to school a...</td>\n",
       "    </tr>\n",
       "  </tbody>\n",
       "</table>\n",
       "<p>204 rows × 24 columns</p>\n",
       "</div>"
      ],
      "text/plain": [
       "              id                                               name  \\\n",
       "118      1066507                                                NaN   \n",
       "119      1067060             Great Large 1 BR apt  in East Village!   \n",
       "120      1067612  Eveland Private Bed & Living Room w/ Own Entrance   \n",
       "191      1106825               LUX APT IN TIMES SQUARE NEW BUILDING   \n",
       "192      1107378  Designer 1 BR Duplex w/ Terrace- Spectacular V...   \n",
       "...          ...                                                ...   \n",
       "102052  57364656  ☀️Private, cozy & quiet room in Inwood Manhatt...   \n",
       "102053  57365208                Cozy bright room near Prospect Park   \n",
       "102054  57365760          Private Bedroom with Amazing Rooftop View   \n",
       "102055  57366313      Pretty Brooklyn One-Bedroom for 2 to 4 people   \n",
       "102056  57366865         Room & private bathroom in historic Harlem   \n",
       "\n",
       "            host_id  host_identity_verified host_name    borough  \\\n",
       "118     87894881413                       0     David  Manhattan   \n",
       "119     27506185339                       0  Adelaide  Manhattan   \n",
       "120     25474679480                       0    Fenton   Brooklyn   \n",
       "191     93725364475                       0     Aiden  Manhattan   \n",
       "192     11711269275                       1    Antony  Manhattan   \n",
       "...             ...                     ...       ...        ...   \n",
       "102052  74740790774                       0      Zhoe  Manhattan   \n",
       "102053  77326652202                       0    Mariam   Brooklyn   \n",
       "102054  45936254757                       1      Trey   Brooklyn   \n",
       "102055  23801060917                       1   Michael   Brooklyn   \n",
       "102056  15593031571                       0   Shireen  Manhattan   \n",
       "\n",
       "             neighbourhood       lat      long country  ...    price  \\\n",
       "118        Upper West Side  40.77823 -73.97637      US  ...  $1,154    \n",
       "119           East Village  40.72555 -73.97965      US  ...    $737    \n",
       "120            South Slope  40.66831 -73.98604      US  ...    $456    \n",
       "191         Hell's Kitchen  40.76307 -73.99665      US  ...    $539    \n",
       "192        Lower East Side  40.71882 -73.98852      US  ...    $232    \n",
       "...                    ...       ...       ...     ...  ...      ...   \n",
       "102052              Inwood  40.86857 -73.91577      US  ...  $1,183    \n",
       "102053            Flatbush  40.64945 -73.96108      US  ...    $696    \n",
       "102054            Bushwick  40.69872 -73.92718      US  ...    $909    \n",
       "102055  Bedford-Stuyvesant  40.67810 -73.90822      US  ...    $387    \n",
       "102056              Harlem  40.81248 -73.94317      US  ...    $848    \n",
       "\n",
       "       service_fee minimum_nights  number_of_reviews last_review  \\\n",
       "118          $231             6.0               27.0   4/27/2019   \n",
       "119          $147             1.0              115.0    6/7/2019   \n",
       "120           $91             2.0              354.0   5/20/2019   \n",
       "191          $108             NaN               41.0   6/26/2025   \n",
       "192           $46             NaN              109.0   6/15/2019   \n",
       "...            ...            ...                ...         ...   \n",
       "102052         NaN            4.0               95.0    7/1/2019   \n",
       "102053         NaN            7.0               12.0   3/27/2019   \n",
       "102054         NaN            1.0               19.0   8/31/2017   \n",
       "102055         NaN            2.0               50.0   6/26/2019   \n",
       "102056         NaN            2.0                0.0         NaN   \n",
       "\n",
       "       reviews_per_month  review_rate_number  calculated_host_listings_count  \\\n",
       "118                 0.27                 NaN                             NaN   \n",
       "119                 1.05                 NaN                             NaN   \n",
       "120                 3.20                 NaN                             NaN   \n",
       "191                 0.38                 2.0                             1.0   \n",
       "192                 1.04                 2.0                             1.0   \n",
       "...                  ...                 ...                             ...   \n",
       "102052              3.65                 2.0                             1.0   \n",
       "102053              0.44                 5.0                             1.0   \n",
       "102054              0.72                 3.0                             2.0   \n",
       "102055              3.12                 4.0                             2.0   \n",
       "102056               NaN                 1.0                             1.0   \n",
       "\n",
       "       availability_365                                        house_rules  \n",
       "118               237.0  This is our family home, not a rental that we ...  \n",
       "119               242.0  Please pick up after yourself if you use the k...  \n",
       "120               227.0  - There is no dedicated parking spot for this ...  \n",
       "191                 NaN  You will be sharing a bathroom, so you must be...  \n",
       "192                 NaN  You're welcome to use our kitchen, we just ask...  \n",
       "...                 ...                                                ...  \n",
       "102052            323.0  This place is about enjoying good times and th...  \n",
       "102053              0.0  Shoes off Clean After yourself Turn Lights and...  \n",
       "102054              0.0                                             #NAME?  \n",
       "102055            235.0  * Check out: 10am * We made an effort to keep ...  \n",
       "102056              0.0  Each of us is working and/or going to school a...  \n",
       "\n",
       "[204 rows x 24 columns]"
      ]
     },
     "execution_count": 52,
     "metadata": {},
     "output_type": "execute_result"
    }
   ],
   "source": [
    "df[df.construction_year.isnull()]"
   ]
  },
  {
   "cell_type": "code",
   "execution_count": 53,
   "id": "3715ca06",
   "metadata": {},
   "outputs": [
    {
     "data": {
      "text/plain": [
       "(102501, 24)"
      ]
     },
     "execution_count": 53,
     "metadata": {},
     "output_type": "execute_result"
    }
   ],
   "source": [
    "df.shape"
   ]
  },
  {
   "cell_type": "code",
   "execution_count": 54,
   "id": "ef4b142f",
   "metadata": {},
   "outputs": [
    {
     "data": {
      "text/plain": [
       "count    102297.000000\n",
       "mean       2012.487473\n",
       "std           5.765232\n",
       "min        2003.000000\n",
       "25%        2007.000000\n",
       "50%        2012.000000\n",
       "75%        2017.000000\n",
       "max        2022.000000\n",
       "Name: construction_year, dtype: float64"
      ]
     },
     "execution_count": 54,
     "metadata": {},
     "output_type": "execute_result"
    }
   ],
   "source": [
    "df.construction_year.describe()"
   ]
  },
  {
   "cell_type": "code",
   "execution_count": 55,
   "id": "6f45376a",
   "metadata": {},
   "outputs": [],
   "source": [
    "df['construction_year'] = df.groupby('host_id')[['construction_year']].ffill().bfill()\n",
    "# again I will use the host_id to fill in the null values for the construction year"
   ]
  },
  {
   "cell_type": "code",
   "execution_count": 56,
   "id": "219888c6",
   "metadata": {},
   "outputs": [
    {
     "data": {
      "text/plain": [
       "count    102501.000000\n",
       "mean       2012.491195\n",
       "std           5.765175\n",
       "min        2003.000000\n",
       "25%        2008.000000\n",
       "50%        2012.000000\n",
       "75%        2018.000000\n",
       "max        2022.000000\n",
       "Name: construction_year, dtype: float64"
      ]
     },
     "execution_count": 56,
     "metadata": {},
     "output_type": "execute_result"
    }
   ],
   "source": [
    "df.construction_year.describe()\n",
    "# no significant changes, only one year added to the 25th and 75th percentile"
   ]
  },
  {
   "cell_type": "code",
   "execution_count": 57,
   "id": "5ca07cbc",
   "metadata": {},
   "outputs": [
    {
     "data": {
      "text/plain": [
       "id                                    0\n",
       "name                                245\n",
       "host_id                               0\n",
       "host_identity_verified                0\n",
       "host_name                             0\n",
       "borough                               0\n",
       "neighbourhood                         0\n",
       "lat                                   0\n",
       "long                                  0\n",
       "country                               0\n",
       "instant_bookable                      0\n",
       "cancellation_policy                   0\n",
       "room_type                             0\n",
       "construction_year                     0\n",
       "price                               242\n",
       "service_fee                         273\n",
       "minimum_nights                      408\n",
       "number_of_reviews                   183\n",
       "last_review                       15883\n",
       "reviews_per_month                 15872\n",
       "review_rate_number                  326\n",
       "calculated_host_listings_count      319\n",
       "availability_365                    440\n",
       "house_rules                       52090\n",
       "dtype: int64"
      ]
     },
     "execution_count": 57,
     "metadata": {},
     "output_type": "execute_result"
    }
   ],
   "source": [
    "df.isnull().sum()"
   ]
  },
  {
   "cell_type": "code",
   "execution_count": 58,
   "id": "658d6d2f",
   "metadata": {},
   "outputs": [
    {
     "data": {
      "text/plain": [
       "0           $966 \n",
       "1           $142 \n",
       "2           $620 \n",
       "3           $368 \n",
       "4           $204 \n",
       "           ...   \n",
       "102594      $844 \n",
       "102595      $837 \n",
       "102596      $988 \n",
       "102597      $546 \n",
       "102598    $1,032 \n",
       "Name: price, Length: 102501, dtype: object"
      ]
     },
     "execution_count": 58,
     "metadata": {},
     "output_type": "execute_result"
    }
   ],
   "source": [
    "df.price"
   ]
  },
  {
   "cell_type": "code",
   "execution_count": 68,
   "id": "4eeee929",
   "metadata": {},
   "outputs": [],
   "source": [
    "# df.price contains floats and strings, will make it soley a str first\n",
    "df.price = df.price.astype(str) \n",
    "# removing spaces, quotations, commas, and '$'\n",
    "df.price = [each.replace(' ','').replace('\"','').replace(',','').strip('$') for each in df.price]\n",
    "# reverting back to float\n",
    "df.price = df.price.astype(float)"
   ]
  },
  {
   "cell_type": "code",
   "execution_count": 74,
   "id": "4b3099be",
   "metadata": {},
   "outputs": [
    {
     "data": {
      "text/plain": [
       "count    102259.000000\n",
       "mean        625.274959\n",
       "std         331.694504\n",
       "min          50.000000\n",
       "25%         339.000000\n",
       "50%         624.000000\n",
       "75%         913.000000\n",
       "max        1200.000000\n",
       "Name: price, dtype: float64"
      ]
     },
     "execution_count": 74,
     "metadata": {},
     "output_type": "execute_result"
    }
   ],
   "source": [
    "df.price.describe()"
   ]
  },
  {
   "cell_type": "code",
   "execution_count": 82,
   "id": "d58bd734",
   "metadata": {},
   "outputs": [],
   "source": [
    "# filling null values based on neighbourhood associated and host_id\n",
    "df.price = df.groupby(['neighbourhood','host_id'])['price'].ffill().bfill()"
   ]
  },
  {
   "cell_type": "code",
   "execution_count": 83,
   "id": "1c7c6878",
   "metadata": {},
   "outputs": [
    {
     "data": {
      "text/plain": [
       "count    102501.000000\n",
       "mean        625.167989\n",
       "std         331.776996\n",
       "min          50.000000\n",
       "25%         339.000000\n",
       "50%         624.000000\n",
       "75%         913.000000\n",
       "max        1200.000000\n",
       "Name: price, dtype: float64"
      ]
     },
     "execution_count": 83,
     "metadata": {},
     "output_type": "execute_result"
    }
   ],
   "source": [
    "df.price.describe()"
   ]
  },
  {
   "cell_type": "code",
   "execution_count": 84,
   "id": "787ce59e",
   "metadata": {},
   "outputs": [
    {
     "data": {
      "text/plain": [
       "id                                    0\n",
       "name                                245\n",
       "host_id                               0\n",
       "host_identity_verified                0\n",
       "host_name                             0\n",
       "borough                               0\n",
       "neighbourhood                         0\n",
       "lat                                   0\n",
       "long                                  0\n",
       "country                               0\n",
       "instant_bookable                      0\n",
       "cancellation_policy                   0\n",
       "room_type                             0\n",
       "construction_year                     0\n",
       "price                                 0\n",
       "service_fee                         273\n",
       "minimum_nights                      408\n",
       "number_of_reviews                   183\n",
       "last_review                       15883\n",
       "reviews_per_month                 15872\n",
       "review_rate_number                  326\n",
       "calculated_host_listings_count      319\n",
       "availability_365                    440\n",
       "house_rules                       52090\n",
       "dtype: int64"
      ]
     },
     "execution_count": 84,
     "metadata": {},
     "output_type": "execute_result"
    }
   ],
   "source": [
    "df.isnull().sum()"
   ]
  },
  {
   "cell_type": "code",
   "execution_count": 85,
   "id": "9f91afc8",
   "metadata": {},
   "outputs": [
    {
     "data": {
      "text/plain": [
       "0         $193 \n",
       "1          $28 \n",
       "2         $124 \n",
       "3          $74 \n",
       "4          $41 \n",
       "          ...  \n",
       "102594    $169 \n",
       "102595    $167 \n",
       "102596    $198 \n",
       "102597    $109 \n",
       "102598    $206 \n",
       "Name: service_fee, Length: 102501, dtype: object"
      ]
     },
     "execution_count": 85,
     "metadata": {},
     "output_type": "execute_result"
    }
   ],
   "source": [
    "df.service_fee"
   ]
  },
  {
   "cell_type": "code",
   "execution_count": 86,
   "id": "a23cc4e5",
   "metadata": {},
   "outputs": [],
   "source": [
    "# df.price contains floats and strings, will make it soley a str first\n",
    "df.service_fee = df.service_fee.astype(str) \n",
    "# removing spaces, quotations, commas, and '$'\n",
    "df.service_fee = [each.replace(' ','').replace('\"','').replace(',','').strip('$') for each in df.service_fee]\n",
    "# reverting back to float\n",
    "df.service_fee = df.service_fee.astype(float)"
   ]
  },
  {
   "cell_type": "code",
   "execution_count": 89,
   "id": "d2205b73",
   "metadata": {},
   "outputs": [
    {
     "data": {
      "text/plain": [
       "count    102228.000000\n",
       "mean        125.024807\n",
       "std          66.330690\n",
       "min          10.000000\n",
       "25%          68.000000\n",
       "50%         125.000000\n",
       "75%         183.000000\n",
       "max         240.000000\n",
       "Name: service_fee, dtype: float64"
      ]
     },
     "execution_count": 89,
     "metadata": {},
     "output_type": "execute_result"
    }
   ],
   "source": [
    "df.service_fee.describe()"
   ]
  },
  {
   "cell_type": "code",
   "execution_count": 96,
   "id": "6ac6ac39",
   "metadata": {},
   "outputs": [],
   "source": [
    "df.service_fee = df.groupby('host_id')['service_fee'].ffill().bfill()"
   ]
  },
  {
   "cell_type": "code",
   "execution_count": 98,
   "id": "bec0fac5",
   "metadata": {},
   "outputs": [
    {
     "data": {
      "text/plain": [
       "count    102501.000000\n",
       "mean        125.007990\n",
       "std          66.327009\n",
       "min          10.000000\n",
       "25%          68.000000\n",
       "50%         125.000000\n",
       "75%         182.000000\n",
       "max         240.000000\n",
       "Name: service_fee, dtype: float64"
      ]
     },
     "execution_count": 98,
     "metadata": {},
     "output_type": "execute_result"
    }
   ],
   "source": [
    "df.service_fee.describe()"
   ]
  },
  {
   "cell_type": "code",
   "execution_count": 97,
   "id": "6f1f6d40",
   "metadata": {
    "scrolled": false
   },
   "outputs": [
    {
     "data": {
      "text/plain": [
       "id                                    0\n",
       "name                                245\n",
       "host_id                               0\n",
       "host_identity_verified                0\n",
       "host_name                             0\n",
       "borough                               0\n",
       "neighbourhood                         0\n",
       "lat                                   0\n",
       "long                                  0\n",
       "country                               0\n",
       "instant_bookable                      0\n",
       "cancellation_policy                   0\n",
       "room_type                             0\n",
       "construction_year                     0\n",
       "price                                 0\n",
       "service_fee                           0\n",
       "minimum_nights                      408\n",
       "number_of_reviews                   183\n",
       "last_review                       15883\n",
       "reviews_per_month                 15872\n",
       "review_rate_number                  326\n",
       "calculated_host_listings_count      319\n",
       "availability_365                    440\n",
       "house_rules                       52090\n",
       "dtype: int64"
      ]
     },
     "execution_count": 97,
     "metadata": {},
     "output_type": "execute_result"
    }
   ],
   "source": [
    "df.isnull().sum()"
   ]
  },
  {
   "cell_type": "markdown",
   "id": "463f680d",
   "metadata": {},
   "source": [
    "### Minimum Nights\n",
    "As such, any stay that extends for 28 days or longer is regarded as a long-term or monthly stay. Not all rental listings on Airbnb offer long-term stays since it’s the host’s job to decide on whether to make their properties available for such arrangements.\n",
    "https://www.mashvisor.com/blog/airbnb-monthly-stays/"
   ]
  },
  {
   "cell_type": "code",
   "execution_count": 33,
   "id": "b6b800d5",
   "metadata": {},
   "outputs": [
    {
     "data": {
      "text/plain": [
       "count    101854.000000\n",
       "mean          8.117973\n",
       "std          30.271371\n",
       "min       -1223.000000\n",
       "25%           2.000000\n",
       "50%           3.000000\n",
       "75%           5.000000\n",
       "max        5645.000000\n",
       "Name: minimum_nights, dtype: float64"
      ]
     },
     "execution_count": 33,
     "metadata": {},
     "output_type": "execute_result"
    }
   ],
   "source": [
    "df.minimum_nights.describe()"
   ]
  },
  {
   "cell_type": "code",
   "execution_count": 34,
   "id": "1f6a389c",
   "metadata": {
    "scrolled": true
   },
   "outputs": [
    {
     "name": "stdout",
     "output_type": "stream",
     "text": [
      "Shape of Dataframe by dropping column: (102256, 18)\n",
      "Shape of Dataframe with parameters met in accordance to airbnb rules: (87960, 19)\n"
     ]
    }
   ],
   "source": [
    "print(f\"Shape of Dataframe by dropping column: {df.drop(columns='minimum_nights').shape}\") # comparing shape\n",
    "\n",
    "print(f\"Shape of Dataframe with parameters met in accordance to airbnb rules: \\\n",
    "{df.loc[(df.minimum_nights >= 0) & (df.minimum_nights <=28)].shape}\") # comparing shape\n",
    "\n",
    "df.drop(columns='minimum_nights',inplace=True) # dropping column"
   ]
  },
  {
   "cell_type": "markdown",
   "id": "f9a92e57",
   "metadata": {},
   "source": [
    "I will drop this column instead of keeping specific parameters for two reasons. \n",
    "- The data dictionary to this dataset has a column called \"minimum_minimum_nights\" which is defined as \"the smallest minimum_night value from the calender (looking 365 nights in the future).\" I believe there are many errors in minimum nights because data has merged or leaked in some way from minimum minimum nights\n",
    "- I keep more data overall by dropping minimum nights"
   ]
  },
  {
   "cell_type": "code",
   "execution_count": 125,
   "id": "84ee017b",
   "metadata": {},
   "outputs": [
    {
     "data": {
      "text/plain": [
       "id                                    0\n",
       "name                                245\n",
       "host_id                               0\n",
       "host_identity_verified                0\n",
       "host_name                             0\n",
       "borough                               0\n",
       "neighbourhood                         0\n",
       "lat                                   0\n",
       "long                                  0\n",
       "country                               0\n",
       "instant_bookable                      0\n",
       "cancellation_policy                   0\n",
       "room_type                             0\n",
       "construction_year                     0\n",
       "price                                 0\n",
       "service_fee                           0\n",
       "number_of_reviews                   183\n",
       "last_review                       15883\n",
       "reviews_per_month                 15872\n",
       "review_rate_number                  326\n",
       "calculated_host_listings_count      319\n",
       "availability_365                    440\n",
       "house_rules                       52090\n",
       "dtype: int64"
      ]
     },
     "execution_count": 125,
     "metadata": {},
     "output_type": "execute_result"
    }
   ],
   "source": [
    "df.isnull().sum()"
   ]
  },
  {
   "cell_type": "code",
   "execution_count": 133,
   "id": "64f83670",
   "metadata": {},
   "outputs": [
    {
     "data": {
      "text/plain": [
       "count    102318.000000\n",
       "mean         27.456019\n",
       "std          49.463757\n",
       "min           0.000000\n",
       "25%           1.000000\n",
       "50%           7.000000\n",
       "75%          30.000000\n",
       "max        1024.000000\n",
       "Name: number_of_reviews, dtype: float64"
      ]
     },
     "execution_count": 133,
     "metadata": {},
     "output_type": "execute_result"
    }
   ],
   "source": [
    "df.number_of_reviews.describe()"
   ]
  },
  {
   "cell_type": "code",
   "execution_count": 134,
   "id": "a358fd35",
   "metadata": {},
   "outputs": [],
   "source": [
    "df.number_of_reviews = df.groupby('host_id')['number_of_reviews'].ffill().bfill()"
   ]
  },
  {
   "cell_type": "code",
   "execution_count": 135,
   "id": "c706ed3d",
   "metadata": {},
   "outputs": [
    {
     "data": {
      "text/plain": [
       "count    102501.000000\n",
       "mean         27.442659\n",
       "std          49.479439\n",
       "min           0.000000\n",
       "25%           1.000000\n",
       "50%           7.000000\n",
       "75%          30.000000\n",
       "max        1024.000000\n",
       "Name: number_of_reviews, dtype: float64"
      ]
     },
     "execution_count": 135,
     "metadata": {},
     "output_type": "execute_result"
    }
   ],
   "source": [
    "df.number_of_reviews.describe()"
   ]
  },
  {
   "cell_type": "code",
   "execution_count": 139,
   "id": "f59d4823",
   "metadata": {},
   "outputs": [],
   "source": [
    "# excessive nulls and avoiding multicolinearity\n",
    "df.drop(columns=['last_review','reviews_per_month'],inplace=True)"
   ]
  },
  {
   "cell_type": "code",
   "execution_count": 140,
   "id": "7c6dacb0",
   "metadata": {},
   "outputs": [
    {
     "data": {
      "text/plain": [
       "id                                    0\n",
       "name                                245\n",
       "host_id                               0\n",
       "host_identity_verified                0\n",
       "host_name                             0\n",
       "borough                               0\n",
       "neighbourhood                         0\n",
       "lat                                   0\n",
       "long                                  0\n",
       "country                               0\n",
       "instant_bookable                      0\n",
       "cancellation_policy                   0\n",
       "room_type                             0\n",
       "construction_year                     0\n",
       "price                                 0\n",
       "service_fee                           0\n",
       "number_of_reviews                     0\n",
       "review_rate_number                  326\n",
       "calculated_host_listings_count      319\n",
       "availability_365                    440\n",
       "house_rules                       52090\n",
       "dtype: int64"
      ]
     },
     "execution_count": 140,
     "metadata": {},
     "output_type": "execute_result"
    }
   ],
   "source": [
    "df.isnull().sum()"
   ]
  },
  {
   "cell_type": "code",
   "execution_count": 141,
   "id": "396e0ecd",
   "metadata": {},
   "outputs": [
    {
     "data": {
      "text/plain": [
       "count    102175.000000\n",
       "mean          3.279168\n",
       "std           1.284576\n",
       "min           1.000000\n",
       "25%           2.000000\n",
       "50%           3.000000\n",
       "75%           4.000000\n",
       "max           5.000000\n",
       "Name: review_rate_number, dtype: float64"
      ]
     },
     "execution_count": 141,
     "metadata": {},
     "output_type": "execute_result"
    }
   ],
   "source": [
    "df.review_rate_number.describe()"
   ]
  },
  {
   "cell_type": "code",
   "execution_count": 148,
   "id": "69b288f6",
   "metadata": {},
   "outputs": [],
   "source": [
    "df.review_rate_number = df.groupby('host_id')['review_rate_number'].ffill().bfill()"
   ]
  },
  {
   "cell_type": "code",
   "execution_count": 150,
   "id": "8ca66219",
   "metadata": {},
   "outputs": [],
   "source": [
    "# keeping availability 365 as oppossed to calculated host listings count\n",
    "# house rules has an excess amount of nulls \n",
    "df.drop(columns=['calculated_host_listings_count','house_rules'],inplace=True)"
   ]
  },
  {
   "cell_type": "code",
   "execution_count": 151,
   "id": "546f00b6",
   "metadata": {},
   "outputs": [
    {
     "data": {
      "text/plain": [
       "id                          0\n",
       "name                      245\n",
       "host_id                     0\n",
       "host_identity_verified      0\n",
       "host_name                   0\n",
       "borough                     0\n",
       "neighbourhood               0\n",
       "lat                         0\n",
       "long                        0\n",
       "country                     0\n",
       "instant_bookable            0\n",
       "cancellation_policy         0\n",
       "room_type                   0\n",
       "construction_year           0\n",
       "price                       0\n",
       "service_fee                 0\n",
       "number_of_reviews           0\n",
       "review_rate_number          0\n",
       "availability_365          440\n",
       "dtype: int64"
      ]
     },
     "execution_count": 151,
     "metadata": {},
     "output_type": "execute_result"
    }
   ],
   "source": [
    "df.isnull().sum()"
   ]
  },
  {
   "cell_type": "code",
   "execution_count": 158,
   "id": "1ca1fbb9",
   "metadata": {},
   "outputs": [],
   "source": [
    "df = df[df.name.notna()]"
   ]
  },
  {
   "cell_type": "code",
   "execution_count": 162,
   "id": "70cf3dc8",
   "metadata": {},
   "outputs": [
    {
     "data": {
      "text/plain": [
       "count    101833.000000\n",
       "mean        141.118645\n",
       "std         135.426324\n",
       "min         -10.000000\n",
       "25%           3.000000\n",
       "50%          96.000000\n",
       "75%         269.000000\n",
       "max        3677.000000\n",
       "Name: availability_365, dtype: float64"
      ]
     },
     "execution_count": 162,
     "metadata": {},
     "output_type": "execute_result"
    }
   ],
   "source": [
    "df.availability_365.describe()"
   ]
  },
  {
   "cell_type": "code",
   "execution_count": 163,
   "id": "e0c679e6",
   "metadata": {},
   "outputs": [
    {
     "name": "stderr",
     "output_type": "stream",
     "text": [
      "/var/folders/pj/j8qg9t055bx9yt_m61ngrhyh0000gn/T/ipykernel_11787/485533101.py:1: SettingWithCopyWarning: \n",
      "A value is trying to be set on a copy of a slice from a DataFrame.\n",
      "Try using .loc[row_indexer,col_indexer] = value instead\n",
      "\n",
      "See the caveats in the documentation: https://pandas.pydata.org/pandas-docs/stable/user_guide/indexing.html#returning-a-view-versus-a-copy\n",
      "  df.availability_365 = df.groupby('host_id')['availability_365'].ffill().bfill()\n"
     ]
    }
   ],
   "source": [
    "df.availability_365 = df.groupby('host_id')['availability_365'].ffill().bfill()"
   ]
  },
  {
   "cell_type": "code",
   "execution_count": null,
   "id": "43808832",
   "metadata": {},
   "outputs": [],
   "source": []
  }
 ],
 "metadata": {
  "kernelspec": {
   "display_name": "Python 3 (ipykernel)",
   "language": "python",
   "name": "python3"
  },
  "language_info": {
   "codemirror_mode": {
    "name": "ipython",
    "version": 3
   },
   "file_extension": ".py",
   "mimetype": "text/x-python",
   "name": "python",
   "nbconvert_exporter": "python",
   "pygments_lexer": "ipython3",
   "version": "3.8.8"
  }
 },
 "nbformat": 4,
 "nbformat_minor": 5
}
