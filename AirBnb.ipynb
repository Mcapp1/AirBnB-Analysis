{
 "cells": [
  {
   "cell_type": "markdown",
   "id": "e0738196",
   "metadata": {},
   "source": [
    "# AirBnb"
   ]
  },
  {
   "cell_type": "markdown",
   "id": "82e77eaf",
   "metadata": {},
   "source": [
    "## New York City Airbnb Data \n",
    "\n",
    "Airbnb, Inc is an American company that operates an online marketplace for lodging, primarily homestays for vacation rentals, and tourism activities. Based in San Francisco, California, the platform is accessible via website and mobile app. Airbnb does not own any of the listed properties; instead, it profits by receiving commission from each booking. The company was founded in 2008. Airbnb is a shortened version of its original name, AirBedandBreakfast.com.\n",
    "\n",
    "## About Dataset\n",
    "\n",
    "**Context**\n",
    "\n",
    "Since 2008, guests and hosts have used Airbnb to travel in a more unique, personalized way. As part of the Airbnb Inside initiative, this dataset describes the listing activity of homestays in New York City\n",
    "\n",
    "**Content**\n",
    "\n",
    "The following Airbnb activity is included in this New York dataset:\n",
    "\n",
    "Listings, including full descriptions and average review score Reviews, including unique id for each reviewer and detailed comments Calendar, including listing id and the price and availability for that day\n",
    "\n",
    "**Data Dictionary**\n",
    "\n",
    "Data dictionaries are used to provide detailed information about the contents of a dataset or database, such as the names of measured variables, their data types or formats, and text descriptions. A data dictionary provides a concise guide to understanding and using the data.\n",
    "https://docs.google.com/spreadsheets/d/1b_dvmyhb_kAJhUmv81rAxl4KcXn0Pymz"
   ]
  },
  {
   "cell_type": "markdown",
   "id": "262117c9",
   "metadata": {},
   "source": [
    "## Imports, Reading In Data, and Cleaning"
   ]
  },
  {
   "cell_type": "code",
   "execution_count": 1,
   "id": "34600995",
   "metadata": {},
   "outputs": [],
   "source": [
    "# Standard Imports\n",
    "import pandas as pd\n",
    "import numpy as np\n",
    "import matplotlib.pyplot as plt\n",
    "import seaborn as sns"
   ]
  },
  {
   "cell_type": "code",
   "execution_count": 2,
   "id": "83205638",
   "metadata": {},
   "outputs": [
    {
     "name": "stderr",
     "output_type": "stream",
     "text": [
      "/var/folders/pj/j8qg9t055bx9yt_m61ngrhyh0000gn/T/ipykernel_33567/3151957827.py:2: DtypeWarning: Columns (25) have mixed types. Specify dtype option on import or set low_memory=False.\n",
      "  df = pd.read_csv('Data/Airbnb_Open_Data.csv')\n"
     ]
    },
    {
     "name": "stdout",
     "output_type": "stream",
     "text": [
      " Shape of DataFrame: (102599, 26)\n",
      " Duplicated Rows: 541\n"
     ]
    },
    {
     "data": {
      "text/html": [
       "<div>\n",
       "<style scoped>\n",
       "    .dataframe tbody tr th:only-of-type {\n",
       "        vertical-align: middle;\n",
       "    }\n",
       "\n",
       "    .dataframe tbody tr th {\n",
       "        vertical-align: top;\n",
       "    }\n",
       "\n",
       "    .dataframe thead th {\n",
       "        text-align: right;\n",
       "    }\n",
       "</style>\n",
       "<table border=\"1\" class=\"dataframe\">\n",
       "  <thead>\n",
       "    <tr style=\"text-align: right;\">\n",
       "      <th></th>\n",
       "      <th>id</th>\n",
       "      <th>NAME</th>\n",
       "      <th>host id</th>\n",
       "      <th>host_identity_verified</th>\n",
       "      <th>host name</th>\n",
       "      <th>neighbourhood group</th>\n",
       "      <th>neighbourhood</th>\n",
       "      <th>lat</th>\n",
       "      <th>long</th>\n",
       "      <th>country</th>\n",
       "      <th>...</th>\n",
       "      <th>service fee</th>\n",
       "      <th>minimum nights</th>\n",
       "      <th>number of reviews</th>\n",
       "      <th>last review</th>\n",
       "      <th>reviews per month</th>\n",
       "      <th>review rate number</th>\n",
       "      <th>calculated host listings count</th>\n",
       "      <th>availability 365</th>\n",
       "      <th>house_rules</th>\n",
       "      <th>license</th>\n",
       "    </tr>\n",
       "  </thead>\n",
       "  <tbody>\n",
       "    <tr>\n",
       "      <th>0</th>\n",
       "      <td>1001254</td>\n",
       "      <td>Clean &amp; quiet apt home by the park</td>\n",
       "      <td>80014485718</td>\n",
       "      <td>unconfirmed</td>\n",
       "      <td>Madaline</td>\n",
       "      <td>Brooklyn</td>\n",
       "      <td>Kensington</td>\n",
       "      <td>40.64749</td>\n",
       "      <td>-73.97237</td>\n",
       "      <td>United States</td>\n",
       "      <td>...</td>\n",
       "      <td>$193</td>\n",
       "      <td>10.0</td>\n",
       "      <td>9.0</td>\n",
       "      <td>10/19/2021</td>\n",
       "      <td>0.21</td>\n",
       "      <td>4.0</td>\n",
       "      <td>6.0</td>\n",
       "      <td>286.0</td>\n",
       "      <td>Clean up and treat the home the way you'd like...</td>\n",
       "      <td>NaN</td>\n",
       "    </tr>\n",
       "    <tr>\n",
       "      <th>1</th>\n",
       "      <td>1002102</td>\n",
       "      <td>Skylit Midtown Castle</td>\n",
       "      <td>52335172823</td>\n",
       "      <td>verified</td>\n",
       "      <td>Jenna</td>\n",
       "      <td>Manhattan</td>\n",
       "      <td>Midtown</td>\n",
       "      <td>40.75362</td>\n",
       "      <td>-73.98377</td>\n",
       "      <td>United States</td>\n",
       "      <td>...</td>\n",
       "      <td>$28</td>\n",
       "      <td>30.0</td>\n",
       "      <td>45.0</td>\n",
       "      <td>5/21/2022</td>\n",
       "      <td>0.38</td>\n",
       "      <td>4.0</td>\n",
       "      <td>2.0</td>\n",
       "      <td>228.0</td>\n",
       "      <td>Pet friendly but please confirm with me if the...</td>\n",
       "      <td>NaN</td>\n",
       "    </tr>\n",
       "    <tr>\n",
       "      <th>2</th>\n",
       "      <td>1002403</td>\n",
       "      <td>THE VILLAGE OF HARLEM....NEW YORK !</td>\n",
       "      <td>78829239556</td>\n",
       "      <td>NaN</td>\n",
       "      <td>Elise</td>\n",
       "      <td>Manhattan</td>\n",
       "      <td>Harlem</td>\n",
       "      <td>40.80902</td>\n",
       "      <td>-73.94190</td>\n",
       "      <td>United States</td>\n",
       "      <td>...</td>\n",
       "      <td>$124</td>\n",
       "      <td>3.0</td>\n",
       "      <td>0.0</td>\n",
       "      <td>NaN</td>\n",
       "      <td>NaN</td>\n",
       "      <td>5.0</td>\n",
       "      <td>1.0</td>\n",
       "      <td>352.0</td>\n",
       "      <td>I encourage you to use my kitchen, cooking and...</td>\n",
       "      <td>NaN</td>\n",
       "    </tr>\n",
       "    <tr>\n",
       "      <th>3</th>\n",
       "      <td>1002755</td>\n",
       "      <td>NaN</td>\n",
       "      <td>85098326012</td>\n",
       "      <td>unconfirmed</td>\n",
       "      <td>Garry</td>\n",
       "      <td>Brooklyn</td>\n",
       "      <td>Clinton Hill</td>\n",
       "      <td>40.68514</td>\n",
       "      <td>-73.95976</td>\n",
       "      <td>United States</td>\n",
       "      <td>...</td>\n",
       "      <td>$74</td>\n",
       "      <td>30.0</td>\n",
       "      <td>270.0</td>\n",
       "      <td>7/5/2019</td>\n",
       "      <td>4.64</td>\n",
       "      <td>4.0</td>\n",
       "      <td>1.0</td>\n",
       "      <td>322.0</td>\n",
       "      <td>NaN</td>\n",
       "      <td>NaN</td>\n",
       "    </tr>\n",
       "    <tr>\n",
       "      <th>4</th>\n",
       "      <td>1003689</td>\n",
       "      <td>Entire Apt: Spacious Studio/Loft by central park</td>\n",
       "      <td>92037596077</td>\n",
       "      <td>verified</td>\n",
       "      <td>Lyndon</td>\n",
       "      <td>Manhattan</td>\n",
       "      <td>East Harlem</td>\n",
       "      <td>40.79851</td>\n",
       "      <td>-73.94399</td>\n",
       "      <td>United States</td>\n",
       "      <td>...</td>\n",
       "      <td>$41</td>\n",
       "      <td>10.0</td>\n",
       "      <td>9.0</td>\n",
       "      <td>11/19/2018</td>\n",
       "      <td>0.10</td>\n",
       "      <td>3.0</td>\n",
       "      <td>1.0</td>\n",
       "      <td>289.0</td>\n",
       "      <td>Please no smoking in the house, porch or on th...</td>\n",
       "      <td>NaN</td>\n",
       "    </tr>\n",
       "  </tbody>\n",
       "</table>\n",
       "<p>5 rows × 26 columns</p>\n",
       "</div>"
      ],
      "text/plain": [
       "        id                                              NAME      host id  \\\n",
       "0  1001254                Clean & quiet apt home by the park  80014485718   \n",
       "1  1002102                             Skylit Midtown Castle  52335172823   \n",
       "2  1002403               THE VILLAGE OF HARLEM....NEW YORK !  78829239556   \n",
       "3  1002755                                               NaN  85098326012   \n",
       "4  1003689  Entire Apt: Spacious Studio/Loft by central park  92037596077   \n",
       "\n",
       "  host_identity_verified host name neighbourhood group neighbourhood  \\\n",
       "0            unconfirmed  Madaline            Brooklyn    Kensington   \n",
       "1               verified     Jenna           Manhattan       Midtown   \n",
       "2                    NaN     Elise           Manhattan        Harlem   \n",
       "3            unconfirmed     Garry            Brooklyn  Clinton Hill   \n",
       "4               verified    Lyndon           Manhattan   East Harlem   \n",
       "\n",
       "        lat      long        country  ... service fee minimum nights  \\\n",
       "0  40.64749 -73.97237  United States  ...       $193            10.0   \n",
       "1  40.75362 -73.98377  United States  ...        $28            30.0   \n",
       "2  40.80902 -73.94190  United States  ...       $124             3.0   \n",
       "3  40.68514 -73.95976  United States  ...        $74            30.0   \n",
       "4  40.79851 -73.94399  United States  ...        $41            10.0   \n",
       "\n",
       "  number of reviews last review  reviews per month review rate number  \\\n",
       "0               9.0  10/19/2021               0.21                4.0   \n",
       "1              45.0   5/21/2022               0.38                4.0   \n",
       "2               0.0         NaN                NaN                5.0   \n",
       "3             270.0    7/5/2019               4.64                4.0   \n",
       "4               9.0  11/19/2018               0.10                3.0   \n",
       "\n",
       "  calculated host listings count  availability 365  \\\n",
       "0                            6.0             286.0   \n",
       "1                            2.0             228.0   \n",
       "2                            1.0             352.0   \n",
       "3                            1.0             322.0   \n",
       "4                            1.0             289.0   \n",
       "\n",
       "                                         house_rules license  \n",
       "0  Clean up and treat the home the way you'd like...     NaN  \n",
       "1  Pet friendly but please confirm with me if the...     NaN  \n",
       "2  I encourage you to use my kitchen, cooking and...     NaN  \n",
       "3                                                NaN     NaN  \n",
       "4  Please no smoking in the house, porch or on th...     NaN  \n",
       "\n",
       "[5 rows x 26 columns]"
      ]
     },
     "execution_count": 2,
     "metadata": {},
     "output_type": "execute_result"
    }
   ],
   "source": [
    "# Reading in data\n",
    "df = pd.read_csv('Data/Airbnb_Open_Data.csv')\n",
    "# examining shape and duplicates\n",
    "print(f' Shape of DataFrame: {df.shape}\\n Duplicated Rows: {df.duplicated().sum()}')\n",
    "# previewing data\n",
    "df.head()"
   ]
  },
  {
   "cell_type": "code",
   "execution_count": 3,
   "id": "5d32e283",
   "metadata": {},
   "outputs": [],
   "source": [
    "# First dropping 541 duplicate rows\n",
    "df.drop_duplicates(inplace=True)\n",
    "\n",
    "# snakecasing all columns\n",
    "df.columns = [col.replace(' ','_').lower() for col in df.columns]"
   ]
  },
  {
   "cell_type": "markdown",
   "id": "7c48ec7d",
   "metadata": {},
   "source": [
    "### Viewing Data Types"
   ]
  },
  {
   "cell_type": "code",
   "execution_count": 4,
   "id": "85448252",
   "metadata": {},
   "outputs": [
    {
     "data": {
      "text/plain": [
       "id                                  int64\n",
       "name                               object\n",
       "host_id                             int64\n",
       "host_identity_verified             object\n",
       "host_name                          object\n",
       "neighbourhood_group                object\n",
       "neighbourhood                      object\n",
       "lat                               float64\n",
       "long                              float64\n",
       "country                            object\n",
       "country_code                       object\n",
       "instant_bookable                   object\n",
       "cancellation_policy                object\n",
       "room_type                          object\n",
       "construction_year                 float64\n",
       "price                              object\n",
       "service_fee                        object\n",
       "minimum_nights                    float64\n",
       "number_of_reviews                 float64\n",
       "last_review                        object\n",
       "reviews_per_month                 float64\n",
       "review_rate_number                float64\n",
       "calculated_host_listings_count    float64\n",
       "availability_365                  float64\n",
       "house_rules                        object\n",
       "license                            object\n",
       "dtype: object"
      ]
     },
     "execution_count": 4,
     "metadata": {},
     "output_type": "execute_result"
    }
   ],
   "source": [
    "df.dtypes\n",
    "# host_identify_verified and instant_bookable can likely become a binary column\n",
    "# noticing there are two neighborhood groups\n",
    "# price and service fee should be a float"
   ]
  },
  {
   "cell_type": "markdown",
   "id": "b0dd1e5b",
   "metadata": {},
   "source": [
    "### Adjusting Data Types:\n",
    "- Host Identity verified will become binary 1 represents verification, all .28% of NaN values will default to unverrified which seems reasonable given they are not confirmed to be verrified.\n",
    "- instant_bookable will become binary as well, 1 represents instantly bookable, all non instant bookable including null will default to not instantly bookable.\n",
    "- Price and Service Fee become floats"
   ]
  },
  {
   "cell_type": "code",
   "execution_count": 5,
   "id": "9ab3d466",
   "metadata": {},
   "outputs": [],
   "source": [
    "# making dummy columns\n",
    "df = pd.get_dummies(df,columns=(['host_identity_verified','instant_bookable']),drop_first=True)\n",
    "\n",
    "# df.price contains floats and strings, will make it soley a str first\n",
    "df.price = df.price.astype(str) \n",
    "# removing spaces, quotations, commas, and '$'\n",
    "df.price = [each.replace(' ','').replace('\"','').replace(',','').strip('$') for each in df.price]\n",
    "# reverting back to float\n",
    "df.price = df.price.astype(float)\n",
    "# df.price contains floats and strings, will make it soley a str first\n",
    "\n",
    "df.service_fee = df.service_fee.astype(str) \n",
    "# removing spaces, quotations, commas, and '$'\n",
    "df.service_fee = [each.replace(' ','').replace('\"','').replace(',','').strip('$') for each in df.service_fee]\n",
    "# reverting back to float\n",
    "df.service_fee = df.service_fee.astype(float)"
   ]
  },
  {
   "cell_type": "markdown",
   "id": "e0cbd209",
   "metadata": {},
   "source": [
    "### Renaming Columns"
   ]
  },
  {
   "cell_type": "code",
   "execution_count": 6,
   "id": "1983559b",
   "metadata": {},
   "outputs": [
    {
     "data": {
      "text/plain": [
       "Manhattan        43557\n",
       "Brooklyn         41630\n",
       "Queens           13197\n",
       "Bronx             2694\n",
       "Staten Island      949\n",
       "brookln              1\n",
       "manhatan             1\n",
       "Name: borough, dtype: int64"
      ]
     },
     "execution_count": 6,
     "metadata": {},
     "output_type": "execute_result"
    }
   ],
   "source": [
    "df.rename(columns={'neighbourhood_group':'borough', # appropriate name\n",
    "                   'host_identity_verified_verified':'verified', # simplifying\n",
    "                   'instant_bookable_True':'instant_bookable', # simplifying\n",
    "                   'name':'description'},inplace=True) # more appropriate\n",
    "df.borough.value_counts() # two mispelled boroughs to fix"
   ]
  },
  {
   "cell_type": "code",
   "execution_count": 7,
   "id": "beb65051",
   "metadata": {},
   "outputs": [],
   "source": [
    "df.borough.replace({\"brookln\": \"Brooklyn\", \"manhatan\": \"Manhattan\"},inplace=True)"
   ]
  },
  {
   "cell_type": "markdown",
   "id": "c99f7921",
   "metadata": {},
   "source": [
    "### Viewing Null Values"
   ]
  },
  {
   "cell_type": "code",
   "execution_count": 8,
   "id": "abcbe2da",
   "metadata": {},
   "outputs": [
    {
     "data": {
      "text/plain": [
       "id                                     0\n",
       "description                          250\n",
       "host_id                                0\n",
       "host_name                            404\n",
       "borough                               29\n",
       "neighbourhood                         16\n",
       "lat                                    8\n",
       "long                                   8\n",
       "country                              532\n",
       "country_code                         131\n",
       "cancellation_policy                   76\n",
       "room_type                              0\n",
       "construction_year                    214\n",
       "price                                247\n",
       "service_fee                          273\n",
       "minimum_nights                       400\n",
       "number_of_reviews                    183\n",
       "last_review                        15832\n",
       "reviews_per_month                  15818\n",
       "review_rate_number                   319\n",
       "calculated_host_listings_count       319\n",
       "availability_365                     448\n",
       "house_rules                        51842\n",
       "license                           102056\n",
       "verified                               0\n",
       "instant_bookable                       0\n",
       "dtype: int64"
      ]
     },
     "execution_count": 8,
     "metadata": {},
     "output_type": "execute_result"
    }
   ],
   "source": [
    "df.isnull().sum()"
   ]
  },
  {
   "cell_type": "markdown",
   "id": "06ffda09",
   "metadata": {},
   "source": [
    "### First I can drop unnecessary columns\n",
    "- After examining the read in error on column 25 'license', 99.9% of the column is null (102597 out of 102599 rows) so I will drop license.\n",
    "- country and country_code are the same column and both depict that every listing is in the U.S. I will drop these columns because I know that every listing is in the U.S.\n",
    "- last_review and reviews_per_month are redundant and contain many nulls, additionally number_of_reviews is a better indicator when viewing a listing.\n",
    "- calculated_host_listings_count is similar to availability_365 that I feel comfortable removing this column\n",
    "- lastly house rules contains many nulls and will be dropped."
   ]
  },
  {
   "cell_type": "code",
   "execution_count": 9,
   "id": "cfbede5b",
   "metadata": {},
   "outputs": [],
   "source": [
    "df.drop(columns=['license','country','country_code','last_review',\n",
    "                 'reviews_per_month','calculated_host_listings_count','house_rules'],\n",
    "        inplace=True)"
   ]
  },
  {
   "cell_type": "markdown",
   "id": "67218efa",
   "metadata": {},
   "source": [
    "### Handling Null Values"
   ]
  },
  {
   "cell_type": "code",
   "execution_count": 10,
   "id": "5d929310",
   "metadata": {},
   "outputs": [
    {
     "data": {
      "text/plain": [
       "(102058, 19)"
      ]
     },
     "execution_count": 10,
     "metadata": {},
     "output_type": "execute_result"
    }
   ],
   "source": [
    "df.shape"
   ]
  },
  {
   "cell_type": "markdown",
   "id": "c7430333",
   "metadata": {},
   "source": [
    "**First I only keep data where I am comfortable droppping nulls from specific rows**\n",
    "- I didn't find a reliable way to fill these specific null values"
   ]
  },
  {
   "cell_type": "code",
   "execution_count": 11,
   "id": "a1577ba3",
   "metadata": {},
   "outputs": [
    {
     "data": {
      "text/plain": [
       "247"
      ]
     },
     "execution_count": 11,
     "metadata": {},
     "output_type": "execute_result"
    }
   ],
   "source": [
    "df.price.isnull().sum()"
   ]
  },
  {
   "cell_type": "code",
   "execution_count": 12,
   "id": "097c2833",
   "metadata": {},
   "outputs": [
    {
     "data": {
      "text/plain": [
       "(101053, 19)"
      ]
     },
     "execution_count": 12,
     "metadata": {},
     "output_type": "execute_result"
    }
   ],
   "source": [
    "df = df.loc[(df.neighbourhood.notna()) # 16 Null rows, insignificant amount of null rows\n",
    "            & (df.lat.notna()) # 8 Null rows, insignificant amount of null rows\n",
    "            & (df.cancellation_policy.notna()) # 74 Null rows, no way to reliably fill cancellation_policy\n",
    "            & (df.description.notna()) # 245 Null rows, no reliable way to fill listing description\n",
    "            & (df.availability_365.notna()) # 448 Null rows, no reliable way to fill negative days\n",
    "            & (df.price.notna())] # 247 Null rows, avoiding data leakage\n",
    "df.shape"
   ]
  },
  {
   "cell_type": "code",
   "execution_count": 13,
   "id": "2192930c",
   "metadata": {
    "scrolled": false
   },
   "outputs": [
    {
     "data": {
      "text/html": [
       "<div>\n",
       "<style scoped>\n",
       "    .dataframe tbody tr th:only-of-type {\n",
       "        vertical-align: middle;\n",
       "    }\n",
       "\n",
       "    .dataframe tbody tr th {\n",
       "        vertical-align: top;\n",
       "    }\n",
       "\n",
       "    .dataframe thead th {\n",
       "        text-align: right;\n",
       "    }\n",
       "</style>\n",
       "<table border=\"1\" class=\"dataframe\">\n",
       "  <thead>\n",
       "    <tr style=\"text-align: right;\">\n",
       "      <th></th>\n",
       "      <th>id</th>\n",
       "      <th>host_id</th>\n",
       "      <th>lat</th>\n",
       "      <th>long</th>\n",
       "      <th>construction_year</th>\n",
       "      <th>price</th>\n",
       "      <th>service_fee</th>\n",
       "      <th>minimum_nights</th>\n",
       "      <th>number_of_reviews</th>\n",
       "      <th>review_rate_number</th>\n",
       "      <th>availability_365</th>\n",
       "      <th>verified</th>\n",
       "      <th>instant_bookable</th>\n",
       "    </tr>\n",
       "  </thead>\n",
       "  <tbody>\n",
       "    <tr>\n",
       "      <th>count</th>\n",
       "      <td>1.010530e+05</td>\n",
       "      <td>1.010530e+05</td>\n",
       "      <td>101053.000000</td>\n",
       "      <td>101053.000000</td>\n",
       "      <td>100874.000000</td>\n",
       "      <td>101053.000000</td>\n",
       "      <td>100814.000000</td>\n",
       "      <td>100682.000000</td>\n",
       "      <td>100925.000000</td>\n",
       "      <td>100755.000000</td>\n",
       "      <td>101053.000000</td>\n",
       "      <td>101053.000000</td>\n",
       "      <td>101053.000000</td>\n",
       "    </tr>\n",
       "    <tr>\n",
       "      <th>mean</th>\n",
       "      <td>2.926105e+07</td>\n",
       "      <td>4.925547e+10</td>\n",
       "      <td>40.728089</td>\n",
       "      <td>-73.949657</td>\n",
       "      <td>2012.486914</td>\n",
       "      <td>625.390904</td>\n",
       "      <td>125.057641</td>\n",
       "      <td>8.067738</td>\n",
       "      <td>27.438662</td>\n",
       "      <td>3.277991</td>\n",
       "      <td>141.018842</td>\n",
       "      <td>0.498016</td>\n",
       "      <td>0.497719</td>\n",
       "    </tr>\n",
       "    <tr>\n",
       "      <th>std</th>\n",
       "      <td>1.625612e+07</td>\n",
       "      <td>2.853817e+10</td>\n",
       "      <td>0.055883</td>\n",
       "      <td>0.049528</td>\n",
       "      <td>5.764113</td>\n",
       "      <td>331.654560</td>\n",
       "      <td>66.330028</td>\n",
       "      <td>28.354026</td>\n",
       "      <td>49.338974</td>\n",
       "      <td>1.285113</td>\n",
       "      <td>135.411423</td>\n",
       "      <td>0.499999</td>\n",
       "      <td>0.499997</td>\n",
       "    </tr>\n",
       "    <tr>\n",
       "      <th>min</th>\n",
       "      <td>1.001254e+06</td>\n",
       "      <td>1.236005e+08</td>\n",
       "      <td>40.499790</td>\n",
       "      <td>-74.249840</td>\n",
       "      <td>2003.000000</td>\n",
       "      <td>50.000000</td>\n",
       "      <td>10.000000</td>\n",
       "      <td>-1223.000000</td>\n",
       "      <td>0.000000</td>\n",
       "      <td>1.000000</td>\n",
       "      <td>-10.000000</td>\n",
       "      <td>0.000000</td>\n",
       "      <td>0.000000</td>\n",
       "    </tr>\n",
       "    <tr>\n",
       "      <th>25%</th>\n",
       "      <td>1.516286e+07</td>\n",
       "      <td>2.458402e+10</td>\n",
       "      <td>40.688700</td>\n",
       "      <td>-73.982580</td>\n",
       "      <td>2007.000000</td>\n",
       "      <td>340.000000</td>\n",
       "      <td>68.000000</td>\n",
       "      <td>2.000000</td>\n",
       "      <td>1.000000</td>\n",
       "      <td>2.000000</td>\n",
       "      <td>3.000000</td>\n",
       "      <td>0.000000</td>\n",
       "      <td>0.000000</td>\n",
       "    </tr>\n",
       "    <tr>\n",
       "      <th>50%</th>\n",
       "      <td>2.933874e+07</td>\n",
       "      <td>4.912277e+10</td>\n",
       "      <td>40.722280</td>\n",
       "      <td>-73.954450</td>\n",
       "      <td>2012.000000</td>\n",
       "      <td>625.000000</td>\n",
       "      <td>125.000000</td>\n",
       "      <td>3.000000</td>\n",
       "      <td>7.000000</td>\n",
       "      <td>3.000000</td>\n",
       "      <td>96.000000</td>\n",
       "      <td>0.000000</td>\n",
       "      <td>0.000000</td>\n",
       "    </tr>\n",
       "    <tr>\n",
       "      <th>75%</th>\n",
       "      <td>4.336164e+07</td>\n",
       "      <td>7.398489e+10</td>\n",
       "      <td>40.762790</td>\n",
       "      <td>-73.932350</td>\n",
       "      <td>2017.000000</td>\n",
       "      <td>913.000000</td>\n",
       "      <td>183.000000</td>\n",
       "      <td>5.000000</td>\n",
       "      <td>30.000000</td>\n",
       "      <td>4.000000</td>\n",
       "      <td>268.000000</td>\n",
       "      <td>1.000000</td>\n",
       "      <td>1.000000</td>\n",
       "    </tr>\n",
       "    <tr>\n",
       "      <th>max</th>\n",
       "      <td>5.736742e+07</td>\n",
       "      <td>9.876313e+10</td>\n",
       "      <td>40.916970</td>\n",
       "      <td>-73.705220</td>\n",
       "      <td>2022.000000</td>\n",
       "      <td>1200.000000</td>\n",
       "      <td>240.000000</td>\n",
       "      <td>5645.000000</td>\n",
       "      <td>1024.000000</td>\n",
       "      <td>5.000000</td>\n",
       "      <td>3677.000000</td>\n",
       "      <td>1.000000</td>\n",
       "      <td>1.000000</td>\n",
       "    </tr>\n",
       "  </tbody>\n",
       "</table>\n",
       "</div>"
      ],
      "text/plain": [
       "                 id       host_id            lat           long  \\\n",
       "count  1.010530e+05  1.010530e+05  101053.000000  101053.000000   \n",
       "mean   2.926105e+07  4.925547e+10      40.728089     -73.949657   \n",
       "std    1.625612e+07  2.853817e+10       0.055883       0.049528   \n",
       "min    1.001254e+06  1.236005e+08      40.499790     -74.249840   \n",
       "25%    1.516286e+07  2.458402e+10      40.688700     -73.982580   \n",
       "50%    2.933874e+07  4.912277e+10      40.722280     -73.954450   \n",
       "75%    4.336164e+07  7.398489e+10      40.762790     -73.932350   \n",
       "max    5.736742e+07  9.876313e+10      40.916970     -73.705220   \n",
       "\n",
       "       construction_year          price    service_fee  minimum_nights  \\\n",
       "count      100874.000000  101053.000000  100814.000000   100682.000000   \n",
       "mean         2012.486914     625.390904     125.057641        8.067738   \n",
       "std             5.764113     331.654560      66.330028       28.354026   \n",
       "min          2003.000000      50.000000      10.000000    -1223.000000   \n",
       "25%          2007.000000     340.000000      68.000000        2.000000   \n",
       "50%          2012.000000     625.000000     125.000000        3.000000   \n",
       "75%          2017.000000     913.000000     183.000000        5.000000   \n",
       "max          2022.000000    1200.000000     240.000000     5645.000000   \n",
       "\n",
       "       number_of_reviews  review_rate_number  availability_365       verified  \\\n",
       "count      100925.000000       100755.000000     101053.000000  101053.000000   \n",
       "mean           27.438662            3.277991        141.018842       0.498016   \n",
       "std            49.338974            1.285113        135.411423       0.499999   \n",
       "min             0.000000            1.000000        -10.000000       0.000000   \n",
       "25%             1.000000            2.000000          3.000000       0.000000   \n",
       "50%             7.000000            3.000000         96.000000       0.000000   \n",
       "75%            30.000000            4.000000        268.000000       1.000000   \n",
       "max          1024.000000            5.000000       3677.000000       1.000000   \n",
       "\n",
       "       instant_bookable  \n",
       "count     101053.000000  \n",
       "mean           0.497719  \n",
       "std            0.499997  \n",
       "min            0.000000  \n",
       "25%            0.000000  \n",
       "50%            0.000000  \n",
       "75%            1.000000  \n",
       "max            1.000000  "
      ]
     },
     "execution_count": 13,
     "metadata": {},
     "output_type": "execute_result"
    }
   ],
   "source": [
    "df.describe()\n",
    "# negative min on availability 365\n",
    "# minimum nights has min-max values which are egregious"
   ]
  },
  {
   "cell_type": "markdown",
   "id": "31de6c18",
   "metadata": {},
   "source": [
    "### Minimum Nights\n",
    "\"As such, any stay that extends for 28 days or longer is regarded as a long-term or monthly stay. Not all rental listings on Airbnb offer long-term stays since it’s the host’s job to decide on whether to make their properties available for such arrangements.\"\n",
    "https://www.mashvisor.com/blog/airbnb-monthly-stays/"
   ]
  },
  {
   "cell_type": "code",
   "execution_count": 14,
   "id": "69be6474",
   "metadata": {},
   "outputs": [
    {
     "data": {
      "text/plain": [
       "count    100682.000000\n",
       "mean          8.067738\n",
       "std          28.354026\n",
       "min       -1223.000000\n",
       "25%           2.000000\n",
       "50%           3.000000\n",
       "75%           5.000000\n",
       "max        5645.000000\n",
       "Name: minimum_nights, dtype: float64"
      ]
     },
     "execution_count": 14,
     "metadata": {},
     "output_type": "execute_result"
    }
   ],
   "source": [
    "df.minimum_nights.describe()"
   ]
  },
  {
   "cell_type": "code",
   "execution_count": 15,
   "id": "9ec5c56b",
   "metadata": {
    "scrolled": true
   },
   "outputs": [
    {
     "name": "stdout",
     "output_type": "stream",
     "text": [
      "Shape of Dataframe by dropping column: (101053, 18)\n",
      "Shape of Dataframe with parameters met in accordance to airbnb rules: (87002, 19)\n"
     ]
    }
   ],
   "source": [
    "print(f\"Shape of Dataframe by dropping column: {df.drop(columns='minimum_nights').shape}\") # comparing shape\n",
    "\n",
    "print(f\"Shape of Dataframe with parameters met in accordance to airbnb rules: \\\n",
    "{df.loc[(df.minimum_nights >= 0) & (df.minimum_nights <=28)].shape}\") # comparing shape\n",
    "\n",
    "df.drop(columns='minimum_nights',inplace=True) # dropping column"
   ]
  },
  {
   "cell_type": "markdown",
   "id": "7f47018a",
   "metadata": {},
   "source": [
    "I will drop this column despite wanting to keep it for two reasons. \n",
    "- The data dictionary to this dataset has a column called \"minimum_minimum_nights\" which is defined as \"the smallest minimum_night value from the calender (looking 365 nights in the future).\" I believe there are many errors in minimum nights because data has merged or leaked in some way from minimum minimum nights\n",
    "- I keep more data overall by dropping minimum nights"
   ]
  },
  {
   "cell_type": "markdown",
   "id": "76c6df4f",
   "metadata": {},
   "source": [
    "## Availability\n",
    "- **The Data Dictionary defines availibility_365 as the following:** \"*avaliability_x. The availability of the listing x days in the future as determined by the calendar. Note a listing may not be available because it has been booked by a guest or blocked by the host.*\"\n",
    "- This definition does not specifiy that the listing is limited to 365 days, however when viewing days further out than 426 days there is only one listing at 3670.0. I am going to assume this is a typo and fix this to 367.\n",
    "- Additionally I am going to assume that any negative number is user error where a '-' was added and correct the entry to be positive."
   ]
  },
  {
   "cell_type": "code",
   "execution_count": 16,
   "id": "ab0fe36a",
   "metadata": {},
   "outputs": [],
   "source": [
    "df.availability_365.replace({3677.0:367},inplace=True) # correcting error\n",
    "df.availability_365 = [num*-1 if num < 0 else num for num in df.availability_365] # correcting error"
   ]
  },
  {
   "cell_type": "markdown",
   "id": "5e6e4a37",
   "metadata": {},
   "source": [
    "### I would like to  fill in null values based on the host_id, however the data dictionary is errored\n",
    "- The data dictionary states the host_id is Airbnb's unique identifier for the host/user\n",
    "- There should be unique host_id or id's to represent multiple listings by the same individual\n",
    "- As we can see below, this is not the case, and to prove this, I have zipped latitude and longitude as one and returned a unique number much less than the entirety of the dataset"
   ]
  },
  {
   "cell_type": "code",
   "execution_count": 17,
   "id": "3c9c563a",
   "metadata": {},
   "outputs": [
    {
     "name": "stdout",
     "output_type": "stream",
     "text": [
      "The shape of the DataFrame: (101053, 18)\n",
      "The Unique amount of host_id's: 101053\n",
      "The Unique amount of id's: 101053\n",
      "The Unique latitude and longitude listings: 66481\n"
     ]
    }
   ],
   "source": [
    "print(f\"The shape of the DataFrame: {df.shape}\\\n",
    "\\nThe Unique amount of host_id's: {len(df.host_id.unique())}\\\n",
    "\\nThe Unique amount of id's: {len(df.id.unique())}\\\n",
    "\\nThe Unique latitude and longitude listings: {len((pd.Series(list(zip(df.lat,df.long))).unique()))}\")"
   ]
  },
  {
   "cell_type": "markdown",
   "id": "ae81953d",
   "metadata": {},
   "source": [
    "### To fill missing values, I will group-by latitude and longitude and use forward fill and backwards fill to fill missing values on columns that I find this method appropriate."
   ]
  },
  {
   "cell_type": "code",
   "execution_count": 18,
   "id": "30c9d6e9",
   "metadata": {},
   "outputs": [],
   "source": [
    "# associating host_id to host_name\n",
    "df['host_name'] = df.groupby(['lat','long'])['host_name'].ffill().bfill()\n",
    "\n",
    "# grouping lat and long to fill missing construction years for associated listing \n",
    "df['construction_year'] = df.groupby(['lat','long'])[['construction_year']].ffill().bfill()\n",
    "\n",
    "## price\n",
    "# df.price = df.groupby(['neighbourhood','host_id'])['price'].ffill().bfill()\n",
    "\n",
    "# service fee\n",
    "df.service_fee = df.groupby(['lat','long'])['service_fee'].ffill().bfill()\n",
    "\n",
    "# number of reviews\n",
    "df.number_of_reviews = df.groupby(['lat','long'])['number_of_reviews'].ffill().bfill()\n",
    "\n",
    "# review rate\n",
    "df.review_rate_number = df.groupby(['lat','long'])['review_rate_number'].ffill().bfill()\n",
    "\n",
    "# availability\n",
    "df.availability_365 = df.groupby(['lat','long'])['availability_365'].ffill().bfill()"
   ]
  },
  {
   "cell_type": "code",
   "execution_count": 19,
   "id": "6316cd1e",
   "metadata": {},
   "outputs": [
    {
     "data": {
      "text/html": [
       "<div>\n",
       "<style scoped>\n",
       "    .dataframe tbody tr th:only-of-type {\n",
       "        vertical-align: middle;\n",
       "    }\n",
       "\n",
       "    .dataframe tbody tr th {\n",
       "        vertical-align: top;\n",
       "    }\n",
       "\n",
       "    .dataframe thead th {\n",
       "        text-align: right;\n",
       "    }\n",
       "</style>\n",
       "<table border=\"1\" class=\"dataframe\">\n",
       "  <thead>\n",
       "    <tr style=\"text-align: right;\">\n",
       "      <th></th>\n",
       "      <th>id</th>\n",
       "      <th>host_id</th>\n",
       "      <th>lat</th>\n",
       "      <th>long</th>\n",
       "      <th>construction_year</th>\n",
       "      <th>price</th>\n",
       "      <th>service_fee</th>\n",
       "      <th>number_of_reviews</th>\n",
       "      <th>review_rate_number</th>\n",
       "      <th>availability_365</th>\n",
       "      <th>verified</th>\n",
       "      <th>instant_bookable</th>\n",
       "    </tr>\n",
       "  </thead>\n",
       "  <tbody>\n",
       "    <tr>\n",
       "      <th>count</th>\n",
       "      <td>1.010530e+05</td>\n",
       "      <td>1.010530e+05</td>\n",
       "      <td>101053.000000</td>\n",
       "      <td>101053.000000</td>\n",
       "      <td>101053.000000</td>\n",
       "      <td>101053.000000</td>\n",
       "      <td>101053.000000</td>\n",
       "      <td>101053.000000</td>\n",
       "      <td>101053.000000</td>\n",
       "      <td>101053.000000</td>\n",
       "      <td>101053.000000</td>\n",
       "      <td>101053.000000</td>\n",
       "    </tr>\n",
       "    <tr>\n",
       "      <th>mean</th>\n",
       "      <td>2.926105e+07</td>\n",
       "      <td>4.925547e+10</td>\n",
       "      <td>40.728089</td>\n",
       "      <td>-73.949657</td>\n",
       "      <td>2012.490109</td>\n",
       "      <td>625.390904</td>\n",
       "      <td>125.050736</td>\n",
       "      <td>27.440066</td>\n",
       "      <td>3.276667</td>\n",
       "      <td>141.032062</td>\n",
       "      <td>0.498016</td>\n",
       "      <td>0.497719</td>\n",
       "    </tr>\n",
       "    <tr>\n",
       "      <th>std</th>\n",
       "      <td>1.625612e+07</td>\n",
       "      <td>2.853817e+10</td>\n",
       "      <td>0.055883</td>\n",
       "      <td>0.049528</td>\n",
       "      <td>5.764582</td>\n",
       "      <td>331.654560</td>\n",
       "      <td>66.333791</td>\n",
       "      <td>49.364420</td>\n",
       "      <td>1.285121</td>\n",
       "      <td>134.907604</td>\n",
       "      <td>0.499999</td>\n",
       "      <td>0.499997</td>\n",
       "    </tr>\n",
       "    <tr>\n",
       "      <th>min</th>\n",
       "      <td>1.001254e+06</td>\n",
       "      <td>1.236005e+08</td>\n",
       "      <td>40.499790</td>\n",
       "      <td>-74.249840</td>\n",
       "      <td>2003.000000</td>\n",
       "      <td>50.000000</td>\n",
       "      <td>10.000000</td>\n",
       "      <td>0.000000</td>\n",
       "      <td>1.000000</td>\n",
       "      <td>0.000000</td>\n",
       "      <td>0.000000</td>\n",
       "      <td>0.000000</td>\n",
       "    </tr>\n",
       "    <tr>\n",
       "      <th>25%</th>\n",
       "      <td>1.516286e+07</td>\n",
       "      <td>2.458402e+10</td>\n",
       "      <td>40.688700</td>\n",
       "      <td>-73.982580</td>\n",
       "      <td>2008.000000</td>\n",
       "      <td>340.000000</td>\n",
       "      <td>68.000000</td>\n",
       "      <td>1.000000</td>\n",
       "      <td>2.000000</td>\n",
       "      <td>4.000000</td>\n",
       "      <td>0.000000</td>\n",
       "      <td>0.000000</td>\n",
       "    </tr>\n",
       "    <tr>\n",
       "      <th>50%</th>\n",
       "      <td>2.933874e+07</td>\n",
       "      <td>4.912277e+10</td>\n",
       "      <td>40.722280</td>\n",
       "      <td>-73.954450</td>\n",
       "      <td>2012.000000</td>\n",
       "      <td>625.000000</td>\n",
       "      <td>125.000000</td>\n",
       "      <td>7.000000</td>\n",
       "      <td>3.000000</td>\n",
       "      <td>96.000000</td>\n",
       "      <td>0.000000</td>\n",
       "      <td>0.000000</td>\n",
       "    </tr>\n",
       "    <tr>\n",
       "      <th>75%</th>\n",
       "      <td>4.336164e+07</td>\n",
       "      <td>7.398489e+10</td>\n",
       "      <td>40.762790</td>\n",
       "      <td>-73.932350</td>\n",
       "      <td>2017.000000</td>\n",
       "      <td>913.000000</td>\n",
       "      <td>183.000000</td>\n",
       "      <td>30.000000</td>\n",
       "      <td>4.000000</td>\n",
       "      <td>268.000000</td>\n",
       "      <td>1.000000</td>\n",
       "      <td>1.000000</td>\n",
       "    </tr>\n",
       "    <tr>\n",
       "      <th>max</th>\n",
       "      <td>5.736742e+07</td>\n",
       "      <td>9.876313e+10</td>\n",
       "      <td>40.916970</td>\n",
       "      <td>-73.705220</td>\n",
       "      <td>2022.000000</td>\n",
       "      <td>1200.000000</td>\n",
       "      <td>240.000000</td>\n",
       "      <td>1024.000000</td>\n",
       "      <td>5.000000</td>\n",
       "      <td>426.000000</td>\n",
       "      <td>1.000000</td>\n",
       "      <td>1.000000</td>\n",
       "    </tr>\n",
       "  </tbody>\n",
       "</table>\n",
       "</div>"
      ],
      "text/plain": [
       "                 id       host_id            lat           long  \\\n",
       "count  1.010530e+05  1.010530e+05  101053.000000  101053.000000   \n",
       "mean   2.926105e+07  4.925547e+10      40.728089     -73.949657   \n",
       "std    1.625612e+07  2.853817e+10       0.055883       0.049528   \n",
       "min    1.001254e+06  1.236005e+08      40.499790     -74.249840   \n",
       "25%    1.516286e+07  2.458402e+10      40.688700     -73.982580   \n",
       "50%    2.933874e+07  4.912277e+10      40.722280     -73.954450   \n",
       "75%    4.336164e+07  7.398489e+10      40.762790     -73.932350   \n",
       "max    5.736742e+07  9.876313e+10      40.916970     -73.705220   \n",
       "\n",
       "       construction_year          price    service_fee  number_of_reviews  \\\n",
       "count      101053.000000  101053.000000  101053.000000      101053.000000   \n",
       "mean         2012.490109     625.390904     125.050736          27.440066   \n",
       "std             5.764582     331.654560      66.333791          49.364420   \n",
       "min          2003.000000      50.000000      10.000000           0.000000   \n",
       "25%          2008.000000     340.000000      68.000000           1.000000   \n",
       "50%          2012.000000     625.000000     125.000000           7.000000   \n",
       "75%          2017.000000     913.000000     183.000000          30.000000   \n",
       "max          2022.000000    1200.000000     240.000000        1024.000000   \n",
       "\n",
       "       review_rate_number  availability_365       verified  instant_bookable  \n",
       "count       101053.000000     101053.000000  101053.000000     101053.000000  \n",
       "mean             3.276667        141.032062       0.498016          0.497719  \n",
       "std              1.285121        134.907604       0.499999          0.499997  \n",
       "min              1.000000          0.000000       0.000000          0.000000  \n",
       "25%              2.000000          4.000000       0.000000          0.000000  \n",
       "50%              3.000000         96.000000       0.000000          0.000000  \n",
       "75%              4.000000        268.000000       1.000000          1.000000  \n",
       "max              5.000000        426.000000       1.000000          1.000000  "
      ]
     },
     "execution_count": 19,
     "metadata": {},
     "output_type": "execute_result"
    }
   ],
   "source": [
    "df.describe()"
   ]
  },
  {
   "cell_type": "markdown",
   "id": "c32d17fb",
   "metadata": {},
   "source": [
    "### Filling Missing Boroughs"
   ]
  },
  {
   "cell_type": "code",
   "execution_count": 20,
   "id": "9067b634",
   "metadata": {},
   "outputs": [],
   "source": [
    "def column_summary(column): # quick function to help me visualize issues with any column\n",
    "    null = column.isnull().sum()\n",
    "    rows = df.shape[0]\n",
    "    null_percent = str((null/rows)*100)[:4]\n",
    "    print(f\"There are {null} Null rows out of {rows} rows, {null_percent}% of the column is null\")\n",
    "    print(f\"Value Counts: \\n{column.value_counts()}\")"
   ]
  },
  {
   "cell_type": "code",
   "execution_count": 21,
   "id": "f242adcc",
   "metadata": {},
   "outputs": [
    {
     "name": "stdout",
     "output_type": "stream",
     "text": [
      "There are 14 Null rows out of 101053 rows, 0.01% of the column is null\n",
      "Value Counts: \n",
      "Manhattan        43156\n",
      "Brooklyn         41212\n",
      "Queens           13066\n",
      "Bronx             2662\n",
      "Staten Island      943\n",
      "Name: borough, dtype: int64\n"
     ]
    }
   ],
   "source": [
    "column_summary(df.borough)"
   ]
  },
  {
   "cell_type": "code",
   "execution_count": 22,
   "id": "34da77c4",
   "metadata": {},
   "outputs": [
    {
     "data": {
      "text/plain": [
       "array(['Clinton Hill', 'East Harlem', 'Bushwick', 'Williamsburg',\n",
       "       'Harlem', 'Queens Village', 'Bedford-Stuyvesant', 'East Village',\n",
       "       'Upper West Side'], dtype=object)"
      ]
     },
     "execution_count": 22,
     "metadata": {},
     "output_type": "execute_result"
    }
   ],
   "source": [
    "df[df.borough.isnull()][['neighbourhood']].neighbourhood.unique()"
   ]
  },
  {
   "cell_type": "markdown",
   "id": "1af5c69b",
   "metadata": {},
   "source": [
    "**Can simply create a dictionary to fill in the missing boroughs based on associated neighbourhood**"
   ]
  },
  {
   "cell_type": "code",
   "execution_count": 23,
   "id": "7ddf52f0",
   "metadata": {
    "scrolled": true
   },
   "outputs": [
    {
     "name": "stdout",
     "output_type": "stream",
     "text": [
      "There are 0 Null rows out of 101053 rows, 0.0% of the column is null\n",
      "Value Counts: \n",
      "Manhattan        43163\n",
      "Brooklyn         41218\n",
      "Queens           13067\n",
      "Bronx             2662\n",
      "Staten Island      943\n",
      "Name: borough, dtype: int64\n"
     ]
    }
   ],
   "source": [
    "b_dict = { # Manhattan\n",
    "          'Washington Heights':'Manhattan','East Village':'Manhattan',\n",
    "          'Upper East Side':'Manhattan','Chelsea':'Manhattan',\n",
    "          'East Harlem':'Manhattan','Harlem':'Manhattan',\n",
    "          'Chinatown':'Manhattan','Upper West Side':'Manhattan',\n",
    "           # Brooklyn\n",
    "          'Clinton Hill':'Brooklyn','Williamsburg':'Brooklyn',\n",
    "          'Bushwick':'Brooklyn','Prospect Heights':'Brooklyn','Bedford-Stuyvesant':'Brooklyn',\n",
    "           # Queens\n",
    "          'Woodside':'Queens','Queens Village':'Queens',\n",
    "           # Bronx\n",
    "          'Eastchester':'Bronx'\n",
    "         }\n",
    "\n",
    "df.borough = df.borough.fillna(df.neighbourhood.map(b_dict)) # filling borough with dictionary\n",
    "\n",
    "column_summary(df.borough)"
   ]
  },
  {
   "cell_type": "markdown",
   "id": "23a25163",
   "metadata": {},
   "source": [
    "### Checking cases where the borough is in the neighbourhood name\n",
    "- The value counts for if the string contains a borough should be an unique instane where the name of the neighborhood contains the borough intently. \n",
    "- The sum of value_counts should equal the sum of unique instances"
   ]
  },
  {
   "cell_type": "markdown",
   "id": "b58028cb",
   "metadata": {},
   "source": [
    "#### Brooklyn"
   ]
  },
  {
   "cell_type": "code",
   "execution_count": 24,
   "id": "aee76b23",
   "metadata": {},
   "outputs": [
    {
     "data": {
      "text/plain": [
       "Brooklyn Heights     299\n",
       "Downtown Brooklyn    174\n",
       "Name: neighbourhood, dtype: int64"
      ]
     },
     "execution_count": 24,
     "metadata": {},
     "output_type": "execute_result"
    }
   ],
   "source": [
    "df[df['neighbourhood'].str.contains(\"Brooklyn\", na=False)].neighbourhood.value_counts()"
   ]
  },
  {
   "cell_type": "code",
   "execution_count": 25,
   "id": "498e6602",
   "metadata": {},
   "outputs": [
    {
     "data": {
      "text/plain": [
       "False    100580\n",
       "True        473\n",
       "Name: neighbourhood, dtype: int64"
      ]
     },
     "execution_count": 25,
     "metadata": {},
     "output_type": "execute_result"
    }
   ],
   "source": [
    "df.neighbourhood.str.contains('Brooklyn').value_counts() # 308 + 175 = 483"
   ]
  },
  {
   "cell_type": "markdown",
   "id": "bfe3a072",
   "metadata": {},
   "source": [
    "#### Bronx"
   ]
  },
  {
   "cell_type": "code",
   "execution_count": 26,
   "id": "20cbaafb",
   "metadata": {},
   "outputs": [
    {
     "data": {
      "text/plain": [
       "Bronxdale    44\n",
       "Name: neighbourhood, dtype: int64"
      ]
     },
     "execution_count": 26,
     "metadata": {},
     "output_type": "execute_result"
    }
   ],
   "source": [
    "df[df['neighbourhood'].str.contains(\"Bronx\", na=False)].neighbourhood.value_counts()"
   ]
  },
  {
   "cell_type": "code",
   "execution_count": 27,
   "id": "2eec89dc",
   "metadata": {},
   "outputs": [
    {
     "data": {
      "text/plain": [
       "False    101009\n",
       "True         44\n",
       "Name: neighbourhood, dtype: int64"
      ]
     },
     "execution_count": 27,
     "metadata": {},
     "output_type": "execute_result"
    }
   ],
   "source": [
    "df.neighbourhood.str.contains('Bronx').value_counts()"
   ]
  },
  {
   "cell_type": "markdown",
   "id": "b0a36e04",
   "metadata": {},
   "source": [
    "#### Queens"
   ]
  },
  {
   "cell_type": "code",
   "execution_count": 28,
   "id": "e98df966",
   "metadata": {},
   "outputs": [
    {
     "data": {
      "text/plain": [
       "Queens Village    145\n",
       "Name: neighbourhood, dtype: int64"
      ]
     },
     "execution_count": 28,
     "metadata": {},
     "output_type": "execute_result"
    }
   ],
   "source": [
    "df[df['neighbourhood'].str.contains(\"Queens\", na=False)].neighbourhood.value_counts()"
   ]
  },
  {
   "cell_type": "code",
   "execution_count": 29,
   "id": "dca4145a",
   "metadata": {},
   "outputs": [
    {
     "data": {
      "text/plain": [
       "False    100908\n",
       "True        145\n",
       "Name: neighbourhood, dtype: int64"
      ]
     },
     "execution_count": 29,
     "metadata": {},
     "output_type": "execute_result"
    }
   ],
   "source": [
    "df.neighbourhood.str.contains('Queens').value_counts()"
   ]
  },
  {
   "cell_type": "markdown",
   "id": "8f12f9b7",
   "metadata": {},
   "source": [
    "#### Manhattan and Staten Island"
   ]
  },
  {
   "cell_type": "code",
   "execution_count": 30,
   "id": "d887d37a",
   "metadata": {},
   "outputs": [
    {
     "data": {
      "text/plain": [
       "Manhattan Beach    22\n",
       "Name: neighbourhood, dtype: int64"
      ]
     },
     "execution_count": 30,
     "metadata": {},
     "output_type": "execute_result"
    }
   ],
   "source": [
    "df[df['neighbourhood'].str.contains(\"Manhattan\", na=False)].neighbourhood.value_counts()"
   ]
  },
  {
   "cell_type": "code",
   "execution_count": 31,
   "id": "659c0729",
   "metadata": {},
   "outputs": [
    {
     "data": {
      "text/plain": [
       "False    101031\n",
       "True         22\n",
       "Name: neighbourhood, dtype: int64"
      ]
     },
     "execution_count": 31,
     "metadata": {},
     "output_type": "execute_result"
    }
   ],
   "source": [
    "df.neighbourhood.str.contains('Manhattan').value_counts()"
   ]
  },
  {
   "cell_type": "code",
   "execution_count": 32,
   "id": "cf60af0b",
   "metadata": {},
   "outputs": [
    {
     "data": {
      "text/plain": [
       "Bay Terrace                   8\n",
       "Bay Terrace, Staten Island    4\n",
       "Name: neighbourhood, dtype: int64"
      ]
     },
     "execution_count": 32,
     "metadata": {},
     "output_type": "execute_result"
    }
   ],
   "source": [
    "df[df['neighbourhood'].str.contains(\"Bay Terrace\", na=False)].neighbourhood.value_counts()"
   ]
  },
  {
   "cell_type": "code",
   "execution_count": 33,
   "id": "5946194a",
   "metadata": {},
   "outputs": [
    {
     "data": {
      "text/plain": [
       "Chelsea                   2245\n",
       "Chelsea, Staten Island       1\n",
       "Name: neighbourhood, dtype: int64"
      ]
     },
     "execution_count": 33,
     "metadata": {},
     "output_type": "execute_result"
    }
   ],
   "source": [
    "df[df['neighbourhood'].str.contains(\"Chelsea\", na=False)].neighbourhood.value_counts()"
   ]
  },
  {
   "cell_type": "code",
   "execution_count": 34,
   "id": "288fe4fb",
   "metadata": {},
   "outputs": [
    {
     "data": {
      "text/plain": [
       "Bay Terrace, Staten Island    4\n",
       "Chelsea, Staten Island        1\n",
       "Name: neighbourhood, dtype: int64"
      ]
     },
     "execution_count": 34,
     "metadata": {},
     "output_type": "execute_result"
    }
   ],
   "source": [
    "df[df['neighbourhood'].str.contains(\"Staten Island\", na=False)].neighbourhood.value_counts()"
   ]
  },
  {
   "cell_type": "code",
   "execution_count": 35,
   "id": "8a585cc5",
   "metadata": {
    "scrolled": true
   },
   "outputs": [],
   "source": [
    "# for consistency I am keeping the associated borough next to repeating neighbourhood names\n",
    "df.neighbourhood.replace({\"Chelsea\": \"Chelsea, Manhattan\", \n",
    "                          \"Bay Terrace\": \"Bay Terrace, Queens\"},inplace=True)"
   ]
  },
  {
   "cell_type": "code",
   "execution_count": 36,
   "id": "f84ea8e1",
   "metadata": {},
   "outputs": [],
   "source": [
    "# lastly I will drop host_id and keep id to avoid redundency, \n",
    "# both are separate unique numbers for each listing \n",
    "df.drop(columns='host_id',inplace=True)"
   ]
  },
  {
   "cell_type": "code",
   "execution_count": 37,
   "id": "385e91e3",
   "metadata": {},
   "outputs": [
    {
     "data": {
      "text/plain": [
       "(101053, 17)"
      ]
     },
     "execution_count": 37,
     "metadata": {},
     "output_type": "execute_result"
    }
   ],
   "source": [
    "df.shape"
   ]
  },
  {
   "cell_type": "code",
   "execution_count": 38,
   "id": "9e2c20c0",
   "metadata": {},
   "outputs": [
    {
     "data": {
      "text/plain": [
       "id                     0\n",
       "description            0\n",
       "host_name              0\n",
       "borough                0\n",
       "neighbourhood          0\n",
       "lat                    0\n",
       "long                   0\n",
       "cancellation_policy    0\n",
       "room_type              0\n",
       "construction_year      0\n",
       "price                  0\n",
       "service_fee            0\n",
       "number_of_reviews      0\n",
       "review_rate_number     0\n",
       "availability_365       0\n",
       "verified               0\n",
       "instant_bookable       0\n",
       "dtype: int64"
      ]
     },
     "execution_count": 38,
     "metadata": {},
     "output_type": "execute_result"
    }
   ],
   "source": [
    "df.isnull().sum()"
   ]
  },
  {
   "cell_type": "code",
   "execution_count": 39,
   "id": "58a496e9",
   "metadata": {
    "scrolled": true
   },
   "outputs": [
    {
     "data": {
      "text/html": [
       "<div>\n",
       "<style scoped>\n",
       "    .dataframe tbody tr th:only-of-type {\n",
       "        vertical-align: middle;\n",
       "    }\n",
       "\n",
       "    .dataframe tbody tr th {\n",
       "        vertical-align: top;\n",
       "    }\n",
       "\n",
       "    .dataframe thead th {\n",
       "        text-align: right;\n",
       "    }\n",
       "</style>\n",
       "<table border=\"1\" class=\"dataframe\">\n",
       "  <thead>\n",
       "    <tr style=\"text-align: right;\">\n",
       "      <th></th>\n",
       "      <th>id</th>\n",
       "      <th>lat</th>\n",
       "      <th>long</th>\n",
       "      <th>construction_year</th>\n",
       "      <th>price</th>\n",
       "      <th>service_fee</th>\n",
       "      <th>number_of_reviews</th>\n",
       "      <th>review_rate_number</th>\n",
       "      <th>availability_365</th>\n",
       "      <th>verified</th>\n",
       "      <th>instant_bookable</th>\n",
       "    </tr>\n",
       "  </thead>\n",
       "  <tbody>\n",
       "    <tr>\n",
       "      <th>count</th>\n",
       "      <td>1.010530e+05</td>\n",
       "      <td>101053.000000</td>\n",
       "      <td>101053.000000</td>\n",
       "      <td>101053.000000</td>\n",
       "      <td>101053.000000</td>\n",
       "      <td>101053.000000</td>\n",
       "      <td>101053.000000</td>\n",
       "      <td>101053.000000</td>\n",
       "      <td>101053.000000</td>\n",
       "      <td>101053.000000</td>\n",
       "      <td>101053.000000</td>\n",
       "    </tr>\n",
       "    <tr>\n",
       "      <th>mean</th>\n",
       "      <td>2.926105e+07</td>\n",
       "      <td>40.728089</td>\n",
       "      <td>-73.949657</td>\n",
       "      <td>2012.490109</td>\n",
       "      <td>625.390904</td>\n",
       "      <td>125.050736</td>\n",
       "      <td>27.440066</td>\n",
       "      <td>3.276667</td>\n",
       "      <td>141.032062</td>\n",
       "      <td>0.498016</td>\n",
       "      <td>0.497719</td>\n",
       "    </tr>\n",
       "    <tr>\n",
       "      <th>std</th>\n",
       "      <td>1.625612e+07</td>\n",
       "      <td>0.055883</td>\n",
       "      <td>0.049528</td>\n",
       "      <td>5.764582</td>\n",
       "      <td>331.654560</td>\n",
       "      <td>66.333791</td>\n",
       "      <td>49.364420</td>\n",
       "      <td>1.285121</td>\n",
       "      <td>134.907604</td>\n",
       "      <td>0.499999</td>\n",
       "      <td>0.499997</td>\n",
       "    </tr>\n",
       "    <tr>\n",
       "      <th>min</th>\n",
       "      <td>1.001254e+06</td>\n",
       "      <td>40.499790</td>\n",
       "      <td>-74.249840</td>\n",
       "      <td>2003.000000</td>\n",
       "      <td>50.000000</td>\n",
       "      <td>10.000000</td>\n",
       "      <td>0.000000</td>\n",
       "      <td>1.000000</td>\n",
       "      <td>0.000000</td>\n",
       "      <td>0.000000</td>\n",
       "      <td>0.000000</td>\n",
       "    </tr>\n",
       "    <tr>\n",
       "      <th>25%</th>\n",
       "      <td>1.516286e+07</td>\n",
       "      <td>40.688700</td>\n",
       "      <td>-73.982580</td>\n",
       "      <td>2008.000000</td>\n",
       "      <td>340.000000</td>\n",
       "      <td>68.000000</td>\n",
       "      <td>1.000000</td>\n",
       "      <td>2.000000</td>\n",
       "      <td>4.000000</td>\n",
       "      <td>0.000000</td>\n",
       "      <td>0.000000</td>\n",
       "    </tr>\n",
       "    <tr>\n",
       "      <th>50%</th>\n",
       "      <td>2.933874e+07</td>\n",
       "      <td>40.722280</td>\n",
       "      <td>-73.954450</td>\n",
       "      <td>2012.000000</td>\n",
       "      <td>625.000000</td>\n",
       "      <td>125.000000</td>\n",
       "      <td>7.000000</td>\n",
       "      <td>3.000000</td>\n",
       "      <td>96.000000</td>\n",
       "      <td>0.000000</td>\n",
       "      <td>0.000000</td>\n",
       "    </tr>\n",
       "    <tr>\n",
       "      <th>75%</th>\n",
       "      <td>4.336164e+07</td>\n",
       "      <td>40.762790</td>\n",
       "      <td>-73.932350</td>\n",
       "      <td>2017.000000</td>\n",
       "      <td>913.000000</td>\n",
       "      <td>183.000000</td>\n",
       "      <td>30.000000</td>\n",
       "      <td>4.000000</td>\n",
       "      <td>268.000000</td>\n",
       "      <td>1.000000</td>\n",
       "      <td>1.000000</td>\n",
       "    </tr>\n",
       "    <tr>\n",
       "      <th>max</th>\n",
       "      <td>5.736742e+07</td>\n",
       "      <td>40.916970</td>\n",
       "      <td>-73.705220</td>\n",
       "      <td>2022.000000</td>\n",
       "      <td>1200.000000</td>\n",
       "      <td>240.000000</td>\n",
       "      <td>1024.000000</td>\n",
       "      <td>5.000000</td>\n",
       "      <td>426.000000</td>\n",
       "      <td>1.000000</td>\n",
       "      <td>1.000000</td>\n",
       "    </tr>\n",
       "  </tbody>\n",
       "</table>\n",
       "</div>"
      ],
      "text/plain": [
       "                 id            lat           long  construction_year  \\\n",
       "count  1.010530e+05  101053.000000  101053.000000      101053.000000   \n",
       "mean   2.926105e+07      40.728089     -73.949657        2012.490109   \n",
       "std    1.625612e+07       0.055883       0.049528           5.764582   \n",
       "min    1.001254e+06      40.499790     -74.249840        2003.000000   \n",
       "25%    1.516286e+07      40.688700     -73.982580        2008.000000   \n",
       "50%    2.933874e+07      40.722280     -73.954450        2012.000000   \n",
       "75%    4.336164e+07      40.762790     -73.932350        2017.000000   \n",
       "max    5.736742e+07      40.916970     -73.705220        2022.000000   \n",
       "\n",
       "               price    service_fee  number_of_reviews  review_rate_number  \\\n",
       "count  101053.000000  101053.000000      101053.000000       101053.000000   \n",
       "mean      625.390904     125.050736          27.440066            3.276667   \n",
       "std       331.654560      66.333791          49.364420            1.285121   \n",
       "min        50.000000      10.000000           0.000000            1.000000   \n",
       "25%       340.000000      68.000000           1.000000            2.000000   \n",
       "50%       625.000000     125.000000           7.000000            3.000000   \n",
       "75%       913.000000     183.000000          30.000000            4.000000   \n",
       "max      1200.000000     240.000000        1024.000000            5.000000   \n",
       "\n",
       "       availability_365       verified  instant_bookable  \n",
       "count     101053.000000  101053.000000     101053.000000  \n",
       "mean         141.032062       0.498016          0.497719  \n",
       "std          134.907604       0.499999          0.499997  \n",
       "min            0.000000       0.000000          0.000000  \n",
       "25%            4.000000       0.000000          0.000000  \n",
       "50%           96.000000       0.000000          0.000000  \n",
       "75%          268.000000       1.000000          1.000000  \n",
       "max          426.000000       1.000000          1.000000  "
      ]
     },
     "execution_count": 39,
     "metadata": {},
     "output_type": "execute_result"
    }
   ],
   "source": [
    "df.describe()"
   ]
  },
  {
   "cell_type": "code",
   "execution_count": 40,
   "id": "ab89a3a0",
   "metadata": {},
   "outputs": [],
   "source": [
    "df.to_csv('Data/cleaned_airbnb.csv',index=False)"
   ]
  },
  {
   "cell_type": "markdown",
   "id": "eb5169d4",
   "metadata": {},
   "source": [
    "## EDA"
   ]
  },
  {
   "cell_type": "code",
   "execution_count": 2,
   "id": "79cbd2f3",
   "metadata": {},
   "outputs": [],
   "source": [
    "df = pd.read_csv('Data/cleaned_airbnb.csv')"
   ]
  },
  {
   "cell_type": "code",
   "execution_count": 3,
   "id": "e005aeb8",
   "metadata": {},
   "outputs": [
    {
     "data": {
      "text/html": [
       "<div>\n",
       "<style scoped>\n",
       "    .dataframe tbody tr th:only-of-type {\n",
       "        vertical-align: middle;\n",
       "    }\n",
       "\n",
       "    .dataframe tbody tr th {\n",
       "        vertical-align: top;\n",
       "    }\n",
       "\n",
       "    .dataframe thead th {\n",
       "        text-align: right;\n",
       "    }\n",
       "</style>\n",
       "<table border=\"1\" class=\"dataframe\">\n",
       "  <thead>\n",
       "    <tr style=\"text-align: right;\">\n",
       "      <th></th>\n",
       "      <th>id</th>\n",
       "      <th>description</th>\n",
       "      <th>host_name</th>\n",
       "      <th>borough</th>\n",
       "      <th>neighbourhood</th>\n",
       "      <th>lat</th>\n",
       "      <th>long</th>\n",
       "      <th>cancellation_policy</th>\n",
       "      <th>room_type</th>\n",
       "      <th>construction_year</th>\n",
       "      <th>price</th>\n",
       "      <th>service_fee</th>\n",
       "      <th>number_of_reviews</th>\n",
       "      <th>review_rate_number</th>\n",
       "      <th>availability_365</th>\n",
       "      <th>verified</th>\n",
       "      <th>instant_bookable</th>\n",
       "    </tr>\n",
       "  </thead>\n",
       "  <tbody>\n",
       "    <tr>\n",
       "      <th>0</th>\n",
       "      <td>1001254</td>\n",
       "      <td>Clean &amp; quiet apt home by the park</td>\n",
       "      <td>Madaline</td>\n",
       "      <td>Brooklyn</td>\n",
       "      <td>Kensington</td>\n",
       "      <td>40.64749</td>\n",
       "      <td>-73.97237</td>\n",
       "      <td>strict</td>\n",
       "      <td>Private room</td>\n",
       "      <td>2020.0</td>\n",
       "      <td>966.0</td>\n",
       "      <td>193.0</td>\n",
       "      <td>9.0</td>\n",
       "      <td>4.0</td>\n",
       "      <td>286.0</td>\n",
       "      <td>0</td>\n",
       "      <td>0</td>\n",
       "    </tr>\n",
       "    <tr>\n",
       "      <th>1</th>\n",
       "      <td>1002102</td>\n",
       "      <td>Skylit Midtown Castle</td>\n",
       "      <td>Jenna</td>\n",
       "      <td>Manhattan</td>\n",
       "      <td>Midtown</td>\n",
       "      <td>40.75362</td>\n",
       "      <td>-73.98377</td>\n",
       "      <td>moderate</td>\n",
       "      <td>Entire home/apt</td>\n",
       "      <td>2007.0</td>\n",
       "      <td>142.0</td>\n",
       "      <td>28.0</td>\n",
       "      <td>45.0</td>\n",
       "      <td>4.0</td>\n",
       "      <td>228.0</td>\n",
       "      <td>1</td>\n",
       "      <td>0</td>\n",
       "    </tr>\n",
       "    <tr>\n",
       "      <th>2</th>\n",
       "      <td>1002403</td>\n",
       "      <td>THE VILLAGE OF HARLEM....NEW YORK !</td>\n",
       "      <td>Elise</td>\n",
       "      <td>Manhattan</td>\n",
       "      <td>Harlem</td>\n",
       "      <td>40.80902</td>\n",
       "      <td>-73.94190</td>\n",
       "      <td>flexible</td>\n",
       "      <td>Private room</td>\n",
       "      <td>2005.0</td>\n",
       "      <td>620.0</td>\n",
       "      <td>124.0</td>\n",
       "      <td>0.0</td>\n",
       "      <td>5.0</td>\n",
       "      <td>352.0</td>\n",
       "      <td>0</td>\n",
       "      <td>1</td>\n",
       "    </tr>\n",
       "    <tr>\n",
       "      <th>3</th>\n",
       "      <td>1003689</td>\n",
       "      <td>Entire Apt: Spacious Studio/Loft by central park</td>\n",
       "      <td>Lyndon</td>\n",
       "      <td>Manhattan</td>\n",
       "      <td>East Harlem</td>\n",
       "      <td>40.79851</td>\n",
       "      <td>-73.94399</td>\n",
       "      <td>moderate</td>\n",
       "      <td>Entire home/apt</td>\n",
       "      <td>2009.0</td>\n",
       "      <td>204.0</td>\n",
       "      <td>41.0</td>\n",
       "      <td>9.0</td>\n",
       "      <td>3.0</td>\n",
       "      <td>289.0</td>\n",
       "      <td>1</td>\n",
       "      <td>0</td>\n",
       "    </tr>\n",
       "    <tr>\n",
       "      <th>4</th>\n",
       "      <td>1004098</td>\n",
       "      <td>Large Cozy 1 BR Apartment In Midtown East</td>\n",
       "      <td>Michelle</td>\n",
       "      <td>Manhattan</td>\n",
       "      <td>Murray Hill</td>\n",
       "      <td>40.74767</td>\n",
       "      <td>-73.97500</td>\n",
       "      <td>flexible</td>\n",
       "      <td>Entire home/apt</td>\n",
       "      <td>2013.0</td>\n",
       "      <td>577.0</td>\n",
       "      <td>115.0</td>\n",
       "      <td>74.0</td>\n",
       "      <td>3.0</td>\n",
       "      <td>374.0</td>\n",
       "      <td>1</td>\n",
       "      <td>1</td>\n",
       "    </tr>\n",
       "  </tbody>\n",
       "</table>\n",
       "</div>"
      ],
      "text/plain": [
       "        id                                       description host_name  \\\n",
       "0  1001254                Clean & quiet apt home by the park  Madaline   \n",
       "1  1002102                             Skylit Midtown Castle     Jenna   \n",
       "2  1002403               THE VILLAGE OF HARLEM....NEW YORK !     Elise   \n",
       "3  1003689  Entire Apt: Spacious Studio/Loft by central park    Lyndon   \n",
       "4  1004098         Large Cozy 1 BR Apartment In Midtown East  Michelle   \n",
       "\n",
       "     borough neighbourhood       lat      long cancellation_policy  \\\n",
       "0   Brooklyn    Kensington  40.64749 -73.97237              strict   \n",
       "1  Manhattan       Midtown  40.75362 -73.98377            moderate   \n",
       "2  Manhattan        Harlem  40.80902 -73.94190            flexible   \n",
       "3  Manhattan   East Harlem  40.79851 -73.94399            moderate   \n",
       "4  Manhattan   Murray Hill  40.74767 -73.97500            flexible   \n",
       "\n",
       "         room_type  construction_year  price  service_fee  number_of_reviews  \\\n",
       "0     Private room             2020.0  966.0        193.0                9.0   \n",
       "1  Entire home/apt             2007.0  142.0         28.0               45.0   \n",
       "2     Private room             2005.0  620.0        124.0                0.0   \n",
       "3  Entire home/apt             2009.0  204.0         41.0                9.0   \n",
       "4  Entire home/apt             2013.0  577.0        115.0               74.0   \n",
       "\n",
       "   review_rate_number  availability_365  verified  instant_bookable  \n",
       "0                 4.0             286.0         0                 0  \n",
       "1                 4.0             228.0         1                 0  \n",
       "2                 5.0             352.0         0                 1  \n",
       "3                 3.0             289.0         1                 0  \n",
       "4                 3.0             374.0         1                 1  "
      ]
     },
     "execution_count": 3,
     "metadata": {},
     "output_type": "execute_result"
    }
   ],
   "source": [
    "df.head()"
   ]
  },
  {
   "cell_type": "code",
   "execution_count": 61,
   "id": "ba6b33a0",
   "metadata": {},
   "outputs": [],
   "source": [
    "neighbourhood_prices = df.groupby(['borough','neighbourhood'])[['price']].mean().sort_values(\n",
    "    ['borough','price'],ascending=True)"
   ]
  },
  {
   "cell_type": "code",
   "execution_count": 173,
   "id": "f8714771",
   "metadata": {},
   "outputs": [],
   "source": [
    "def plot_neighbourhood_prices(borough):\n",
    "    \n",
    "    target = neighbourhood_prices.copy()\n",
    "    target['neighbourhood'] = [each[1] for each in target.index]\n",
    "    target.set_index('neighbourhood',inplace=True)\n",
    "    \n",
    "    if borough.lower() == 'bronx':\n",
    "        target = target[0:48]\n",
    "    elif borough.lower() == 'brooklyn':\n",
    "        target = target[48:96]\n",
    "    elif borough.lower() == 'manhattan':\n",
    "        target = target[96:128]\n",
    "    elif borough.lower() == 'queens':\n",
    "        target = target[128:180]\n",
    "    elif borough.lower() == 'staten island':\n",
    "        target = target[180:]\n",
    "           \n",
    "    fig, ax = plt.subplots(1,2,figsize=(16,5),tight_layout=True)\n",
    "        \n",
    "    ax[0].barh(target.index[-5:],target.price[-5:])\n",
    "    ax[0].set_title(f\"{str(borough).capitalize()}'s 5 most expensive neighbourhoods to stay\",\n",
    "                    fontsize=16)\n",
    "    ax[0].set_xlabel('Cost of AirBnb on Average',fontsize=15)\n",
    "    ax[0].tick_params(axis='both', which='major', labelsize=14)\n",
    "    \n",
    "    ax[1].barh(target.index[:5],target.price[:5])\n",
    "    ax[1].set_title(f\"{str(borough).capitalize()}'s 5 least expensive neighbourhoods to stay\",\n",
    "                    fontsize=16)\n",
    "    ax[1].set_xlabel('Cost of AirBnb on Average',fontsize=15)\n",
    "    ax[1].tick_params(axis='both', which='major', labelsize=14)"
   ]
  },
  {
   "cell_type": "code",
   "execution_count": 174,
   "id": "39406a3d",
   "metadata": {},
   "outputs": [
    {
     "data": {
      "image/png": "[encoded data removed]",
      "text/plain": [
       "<Figure size 1600x500 with 2 Axes>"
      ]
     },
     "metadata": {},
     "output_type": "display_data"
    }
   ],
   "source": [
    "plot_neighbourhood_prices('bronx')"
   ]
  },
  {
   "cell_type": "code",
   "execution_count": 175,
   "id": "b58289dd",
   "metadata": {},
   "outputs": [
    {
     "data": {
      "image/png": "[encoded data removed]",
      "text/plain": [
       "<Figure size 1600x500 with 2 Axes>"
      ]
     },
     "metadata": {},
     "output_type": "display_data"
    }
   ],
   "source": [
    "plot_neighbourhood_prices('brooklyn')"
   ]
  },
  {
   "cell_type": "code",
   "execution_count": 176,
   "id": "0e9d3521",
   "metadata": {},
   "outputs": [
    {
     "data": {
      "image/png": "[encoded data removed]",
      "text/plain": [
       "<Figure size 1600x500 with 2 Axes>"
      ]
     },
     "metadata": {},
     "output_type": "display_data"
    }
   ],
   "source": [
    "plot_neighbourhood_prices('manhattan')"
   ]
  },
  {
   "cell_type": "code",
   "execution_count": 177,
   "id": "5956cb38",
   "metadata": {},
   "outputs": [
    {
     "data": {
      "image/png": "[encoded data removed]",
      "text/plain": [
       "<Figure size 1600x500 with 2 Axes>"
      ]
     },
     "metadata": {},
     "output_type": "display_data"
    }
   ],
   "source": [
    "plot_neighbourhood_prices('queens')"
   ]
  },
  {
   "cell_type": "code",
   "execution_count": 172,
   "id": "1d1c2b2c",
   "metadata": {},
   "outputs": [
    {
     "data": {
      "image/png": "[encoded data removed]",
      "text/plain": [
       "<Figure size 1600x500 with 2 Axes>"
      ]
     },
     "metadata": {},
     "output_type": "display_data"
    }
   ],
   "source": [
    "plot_neighbourhood_prices('staten island')"
   ]
  },
  {
   "cell_type": "markdown",
   "id": "d86e07e6",
   "metadata": {},
   "source": [
    "### Tableau Dashboard"
   ]
  },
  {
   "cell_type": "code",
   "execution_count": 10,
   "id": "5e7170ba",
   "metadata": {},
   "outputs": [
    {
     "data": {
      "text/html": [
       "<div class='tableauPlaceholder' id='viz1668538022678' style='position: relative'><noscript><a href='#'><img alt='Dashboard 1 ' src='https:&#47;&#47;public.tableau.com&#47;static&#47;images&#47;NY&#47;NYCAirBnb_16685372801110&#47;Dashboard1&#47;1_rss.png' style='border: none' /></a></noscript><object class='tableauViz'  style='display:none;'><param name='host_url' value='https%3A%2F%2Fpublic.tableau.com%2F' /> <param name='embed_code_version' value='3' /> <param name='site_root' value='' /><param name='name' value='NYCAirBnb_16685372801110&#47;Dashboard1' /><param name='tabs' value='no' /><param name='toolbar' value='yes' /><param name='static_image' value='https:&#47;&#47;public.tableau.com&#47;static&#47;images&#47;NY&#47;NYCAirBnb_16685372801110&#47;Dashboard1&#47;1.png' /> <param name='animate_transition' value='yes' /><param name='display_static_image' value='yes' /><param name='display_spinner' value='yes' /><param name='display_overlay' value='yes' /><param name='display_count' value='yes' /><param name='language' value='en-US' /><param name='filter' value='publish=yes' /></object></div>                <script type='text/javascript'>                    var divElement = document.getElementById('viz1668538022678');                    var vizElement = divElement.getElementsByTagName('object')[0];                    if ( divElement.offsetWidth > 800 ) { vizElement.style.minWidth='420px';vizElement.style.maxWidth='650px';vizElement.style.width='100%';vizElement.style.minHeight='587px';vizElement.style.maxHeight='887px';vizElement.style.height=(divElement.offsetWidth*0.75)+'px';} else if ( divElement.offsetWidth > 500 ) { vizElement.style.minWidth='420px';vizElement.style.maxWidth='650px';vizElement.style.width='100%';vizElement.style.minHeight='587px';vizElement.style.maxHeight='887px';vizElement.style.height=(divElement.offsetWidth*0.75)+'px';} else { vizElement.style.width='100%';vizElement.style.height='1027px';}                     var scriptElement = document.createElement('script');                    scriptElement.src = 'https://public.tableau.com/javascripts/api/viz_v1.js';                    vizElement.parentNode.insertBefore(scriptElement, vizElement);                </script>\n"
      ],
      "text/plain": [
       "<IPython.core.display.HTML object>"
      ]
     },
     "metadata": {},
     "output_type": "display_data"
    }
   ],
   "source": [
    "%%html\n",
    "<div class='tableauPlaceholder' id='viz1668538022678' style='position: relative'><noscript><a href='#'><img alt='Dashboard 1 ' src='https:&#47;&#47;public.tableau.com&#47;static&#47;images&#47;NY&#47;NYCAirBnb_16685372801110&#47;Dashboard1&#47;1_rss.png' style='border: none' /></a></noscript><object class='tableauViz'  style='display:none;'><param name='host_url' value='https%3A%2F%2Fpublic.tableau.com%2F' /> <param name='embed_code_version' value='3' /> <param name='site_root' value='' /><param name='name' value='NYCAirBnb_16685372801110&#47;Dashboard1' /><param name='tabs' value='no' /><param name='toolbar' value='yes' /><param name='static_image' value='https:&#47;&#47;public.tableau.com&#47;static&#47;images&#47;NY&#47;NYCAirBnb_16685372801110&#47;Dashboard1&#47;1.png' /> <param name='animate_transition' value='yes' /><param name='display_static_image' value='yes' /><param name='display_spinner' value='yes' /><param name='display_overlay' value='yes' /><param name='display_count' value='yes' /><param name='language' value='en-US' /><param name='filter' value='publish=yes' /></object></div>                <script type='text/javascript'>                    var divElement = document.getElementById('viz1668538022678');                    var vizElement = divElement.getElementsByTagName('object')[0];                    if ( divElement.offsetWidth > 800 ) { vizElement.style.minWidth='420px';vizElement.style.maxWidth='650px';vizElement.style.width='100%';vizElement.style.minHeight='587px';vizElement.style.maxHeight='887px';vizElement.style.height=(divElement.offsetWidth*0.75)+'px';} else if ( divElement.offsetWidth > 500 ) { vizElement.style.minWidth='420px';vizElement.style.maxWidth='650px';vizElement.style.width='100%';vizElement.style.minHeight='587px';vizElement.style.maxHeight='887px';vizElement.style.height=(divElement.offsetWidth*0.75)+'px';} else { vizElement.style.width='100%';vizElement.style.height='1027px';}                     var scriptElement = document.createElement('script');                    scriptElement.src = 'https://public.tableau.com/javascripts/api/viz_v1.js';                    vizElement.parentNode.insertBefore(scriptElement, vizElement);                </script>"
   ]
  },
  {
   "cell_type": "code",
   "execution_count": null,
   "id": "3d7a9cfe",
   "metadata": {},
   "outputs": [],
   "source": []
  },
  {
   "cell_type": "code",
   "execution_count": null,
   "id": "a2b221b5",
   "metadata": {},
   "outputs": [],
   "source": []
  },
  {
   "cell_type": "code",
   "execution_count": null,
   "id": "29c4e4ad",
   "metadata": {},
   "outputs": [],
   "source": []
  },
  {
   "cell_type": "code",
   "execution_count": null,
   "id": "dece0556",
   "metadata": {},
   "outputs": [],
   "source": []
  },
  {
   "cell_type": "code",
   "execution_count": null,
   "id": "91cd525e",
   "metadata": {},
   "outputs": [],
   "source": []
  },
  {
   "cell_type": "code",
   "execution_count": null,
   "id": "b0d2c41a",
   "metadata": {},
   "outputs": [],
   "source": []
  }
 ],
 "metadata": {
  "kernelspec": {
   "display_name": "Python 3 (ipykernel)",
   "language": "python",
   "name": "python3"
  },
  "language_info": {
   "codemirror_mode": {
    "name": "ipython",
    "version": 3
   },
   "file_extension": ".py",
   "mimetype": "text/x-python",
   "name": "python",
   "nbconvert_exporter": "python",
   "pygments_lexer": "ipython3",
   "version": "3.8.8"
  }
 },
 "nbformat": 4,
 "nbformat_minor": 5
}
